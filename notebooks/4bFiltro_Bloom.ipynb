{
  "cells": [
    {
      "cell_type": "markdown",
      "metadata": {
        "id": "view-in-github",
        "colab_type": "text"
      },
      "source": [
        "<a href=\"https://colab.research.google.com/github/blancavazquez/CursoDatosMasivosI/blob/master/notebooks/4bFiltro_Bloom.ipynb\" target=\"_parent\"><img src=\"https://colab.research.google.com/assets/colab-badge.svg\" alt=\"Open In Colab\"/></a>"
      ]
    },
    {
      "cell_type": "markdown",
      "source": [
        "## Filtro de Bloom\n",
        "\n",
        "En esta libreta programaremos un filtro de Bloom usando NumPy. Un filtro de Bloom consiste en un arreglo de \\\\(m\\\\) bits inicializados con  \\\\(0\\\\).\n",
        "\n",
        "* Construcción\n",
        "  1. Para cada elemento \\\\(s\\\\) del conjunto, se calculan los valores _hash_ con \\\\(k\\\\) funciones distintas \\\\(h_1(s), h_2(s), \\ldots, h_k(s)\\\\).\n",
        "  2. Los \\\\(k\\\\) bits en las posiciones correspondientes a los \\\\(k\\\\) valores _hash_ se ponen a 1.\n",
        "  \n",
        "* Verificación de pertenencia de un nuevo elemento \\\\(\\tilde{s}\\\\)\n",
        "  1. Calcula los valores _hash_ para \\\\(\\tilde{s}\\\\): \\\\(h_1(\\tilde{s}), h_2(\\tilde{s}), \\ldots , h_k(\\tilde{s})\\\\).\n",
        "  2. Si todos los bits en las posiciones correspondientes a los \\\\(k\\\\) valores _hash_ son 1, entonces el elemento \\\\(\\tilde{s}\\\\) sí pertenece al conjunto, en caso contrario no pertenece.\n",
        "  \n",
        "  \n",
        "Esta libreta está basada del material del Dr. Gibran Fuentes"
      ],
      "metadata": {
        "application/vnd.databricks.v1+cell": {
          "title": "",
          "showTitle": false,
          "inputWidgets": {},
          "nuid": "0d1b7bec-5436-40dd-8c1d-e7ef12ff7d6a"
        },
        "id": "rFU1Cyeqw1Zy"
      }
    },
    {
      "cell_type": "code",
      "source": [
        "!pip install murmurhash"
      ],
      "metadata": {
        "application/vnd.databricks.v1+cell": {
          "title": "",
          "showTitle": false,
          "inputWidgets": {},
          "nuid": "65191989-baac-429e-83a0-50c1a255c9c5"
        },
        "colab": {
          "base_uri": "https://localhost:8080/"
        },
        "id": "mabqz8MRw1Z0",
        "outputId": "ef1a57d7-33a7-4ae2-c52b-8658dbf653e6"
      },
      "outputs": [
        {
          "output_type": "stream",
          "name": "stdout",
          "text": [
            "Requirement already satisfied: murmurhash in /usr/local/lib/python3.7/dist-packages (1.0.6)\n"
          ]
        }
      ],
      "execution_count": 1
    },
    {
      "cell_type": "code",
      "source": [
        "import numpy as np\n",
        "import murmurhash\n",
        "import warnings\n",
        "warnings.filterwarnings('ignore')\n",
        "\n",
        "class FiltroBloom:  \n",
        "  def __init__(self, n, m, k):  \n",
        "    self.n = n\n",
        "    self.m = m\n",
        "    self.k = k\n",
        "    self.arreglo = np.zeros(n, dtype=np.bool)\n",
        "\n",
        "  def construir(self, s):\n",
        "    for i in range(self.k):\n",
        "      index = murmurhash.mrmr.hash(s, i) % self.n #tener índices dentro del arreglo\n",
        "      self.arreglo[index] = True \n",
        "\n",
        "  def verifica(self, s):\n",
        "    bits = np.zeros(self.k, dtype=np.bool)\n",
        "    for i in range(self.k):\n",
        "      index = murmurhash.mrmr.hash(s,i) % self.n \n",
        "      bits[i] = self.arreglo[index]\n",
        "    return np.all(bits) #si todos los elementos son \"1\" regresa True, si alguno de los elementos es \"0\" regresa \"False\""
      ],
      "metadata": {
        "application/vnd.databricks.v1+cell": {
          "title": "",
          "showTitle": false,
          "inputWidgets": {},
          "nuid": "466a1940-8098-4848-8daf-598f0f253a65"
        },
        "id": "oQODrdPyw1Z2"
      },
      "outputs": [],
      "execution_count": 2
    },
    {
      "cell_type": "markdown",
      "source": [
        "## Descarga de URLS populares"
      ],
      "metadata": {
        "id": "HKshUuci0ikk"
      }
    },
    {
      "cell_type": "code",
      "source": [
        "!wget https://gist.githubusercontent.com/demersdesigns/4442cd84c1cc6c5ccda9b19eac1ba52b/raw/cf06109a805b661dd12133f9aa4473435e478569/craft-popular-urls"
      ],
      "metadata": {
        "application/vnd.databricks.v1+cell": {
          "title": "",
          "showTitle": false,
          "inputWidgets": {},
          "nuid": "c6ab27f3-116e-4a5c-be02-3df5dbc7e608"
        },
        "colab": {
          "base_uri": "https://localhost:8080/"
        },
        "id": "sl9iIAz8w1Z2",
        "outputId": "57098ba2-945f-4c62-a28d-eaf2261bcf15"
      },
      "outputs": [
        {
          "output_type": "stream",
          "name": "stdout",
          "text": [
            "--2022-04-20 17:03:43--  https://gist.githubusercontent.com/demersdesigns/4442cd84c1cc6c5ccda9b19eac1ba52b/raw/cf06109a805b661dd12133f9aa4473435e478569/craft-popular-urls\n",
            "Resolving gist.githubusercontent.com (gist.githubusercontent.com)... 185.199.111.133, 185.199.109.133, 185.199.110.133, ...\n",
            "Connecting to gist.githubusercontent.com (gist.githubusercontent.com)|185.199.111.133|:443... connected.\n",
            "HTTP request sent, awaiting response... 200 OK\n",
            "Length: 2254 (2.2K) [text/plain]\n",
            "Saving to: ‘craft-popular-urls.9’\n",
            "\n",
            "\rcraft-popular-urls.   0%[                    ]       0  --.-KB/s               \rcraft-popular-urls. 100%[===================>]   2.20K  --.-KB/s    in 0s      \n",
            "\n",
            "2022-04-20 17:03:43 (38.7 MB/s) - ‘craft-popular-urls.9’ saved [2254/2254]\n",
            "\n"
          ]
        }
      ],
      "execution_count": 3
    },
    {
      "cell_type": "markdown",
      "source": [
        "Leemos la lista de URLs"
      ],
      "metadata": {
        "id": "uNKl-EQc0oZD"
      }
    },
    {
      "cell_type": "code",
      "source": [
        "with open('craft-popular-urls') as f:\n",
        "  urls = f.read().split('\\n')\n",
        "print(urls)"
      ],
      "metadata": {
        "application/vnd.databricks.v1+cell": {
          "title": "",
          "showTitle": false,
          "inputWidgets": {},
          "nuid": "b1d45c3e-2853-4afc-8ba0-3bc0df0f9b94"
        },
        "colab": {
          "base_uri": "https://localhost:8080/"
        },
        "id": "dy_OYFAyw1Z3",
        "outputId": "d644e5e9-a067-43c6-f5b7-c443794267ad"
      },
      "outputs": [
        {
          "output_type": "stream",
          "name": "stdout",
          "text": [
            "['http://www.youtube.com', 'http://www.facebook.com', 'http://www.baidu.com', 'http://www.yahoo.com', 'http://www.amazon.com', 'http://www.wikipedia.org', 'http://www.qq.com', 'http://www.google.co.in', 'http://www.twitter.com', 'http://www.live.com', 'http://www.taobao.com', 'http://www.bing.com', 'http://www.instagram.com', 'http://www.weibo.com', 'http://www.sina.com.cn', 'http://www.linkedin.com', 'http://www.yahoo.co.jp', 'http://www.msn.com', 'http://www.vk.com', 'http://www.google.de', 'http://www.yandex.ru', 'http://www.hao123.com', 'http://www.google.co.uk', 'http://www.reddit.com', 'http://www.ebay.com', 'http://www.google.fr', 'http://www.t.co', 'http://www.tmall.com', 'http://www.google.com.br', 'http://www.360.cn', 'http://www.sohu.com', 'http://www.amazon.co.jp', 'http://www.pinterest.com', 'http://www.netflix.com', 'http://www.google.it', 'http://www.google.ru', 'http://www.microsoft.com', 'http://www.google.es', 'http://www.wordpress.com', 'http://www.gmw.cn', 'http://www.tumblr.com', 'http://www.paypal.com', 'http://www.blogspot.com', 'http://www.imgur.com', 'http://www.stackoverflow.com', 'http://www.aliexpress.com', 'http://www.naver.com', 'http://www.ok.ru', 'http://www.apple.com', 'http://www.github.com', 'http://www.chinadaily.com.cn', 'http://www.imdb.com', 'http://www.google.co.kr', 'http://www.fc2.com', 'http://www.jd.com', 'http://www.blogger.com', 'http://www.163.com', 'http://www.google.ca', 'http://www.whatsapp.com', 'http://www.amazon.in', 'http://www.office.com', 'http://www.tianya.cn', 'http://www.google.co.id', 'http://www.youku.com', 'http://www.rakuten.co.jp', 'http://www.craigslist.org', 'http://www.amazon.de', 'http://www.nicovideo.jp', 'http://www.google.pl', 'http://www.soso.com', 'http://www.bilibili.com', 'http://www.dropbox.com', 'http://www.xinhuanet.com', 'http://www.outbrain.com', 'http://www.pixnet.net', 'http://www.alibaba.com', 'http://www.alipay.com', 'http://www.microsoftonline.com', 'http://www.booking.com', 'http://www.googleusercontent.com', 'http://www.google.com.au', 'http://www.popads.net', 'http://www.cntv.cn', 'http://www.zhihu.com', 'http://www.amazon.co.uk', 'http://www.diply.com', 'http://www.coccoc.com', 'http://www.cnn.com', 'http://www.bbc.co.uk', 'http://www.twitch.tv', 'http://www.wikia.com', 'http://www.google.co.th', 'http://www.go.com', 'http://www.google.com.ph', 'http://www.doubleclick.net', 'http://www.onet.pl', 'http://www.googleadservices.com', 'http://www.accuweather.com', 'http://www.googleweblight.com', 'http://www.answers.yahoo.com']\n"
          ]
        }
      ],
      "execution_count": 4
    },
    {
      "cell_type": "markdown",
      "source": [
        "Instanciamos la clase y registramos las URLs"
      ],
      "metadata": {
        "id": "90i3caTV0zkJ"
      }
    },
    {
      "cell_type": "code",
      "source": [
        "fb = FiltroBloom(1000, len(urls), 5) #instancia de la clase (m,n,k)\n",
        "\n",
        "#Recorremos la lista de URLs y las registramos\n",
        "for u in urls:\n",
        "  fb.construir(u)"
      ],
      "metadata": {
        "application/vnd.databricks.v1+cell": {
          "title": "",
          "showTitle": false,
          "inputWidgets": {},
          "nuid": "b1d25b55-0779-4132-81b9-42fa838b579b"
        },
        "id": "ADSKloj-w1Z3"
      },
      "outputs": [],
      "execution_count": 5
    },
    {
      "cell_type": "code",
      "source": [
        "fb.arreglo"
      ],
      "metadata": {
        "colab": {
          "base_uri": "https://localhost:8080/"
        },
        "id": "jJ7UHMLG6B_7",
        "outputId": "d71b7a7c-408d-40ec-a572-4457e7f5b0ef"
      },
      "execution_count": 6,
      "outputs": [
        {
          "output_type": "execute_result",
          "data": {
            "text/plain": [
              "array([False, False, False, False,  True, False,  True, False,  True,\n",
              "       False,  True,  True, False,  True,  True, False,  True,  True,\n",
              "       False, False,  True, False, False,  True,  True,  True, False,\n",
              "        True,  True, False, False, False,  True,  True, False, False,\n",
              "        True,  True, False, False,  True, False, False, False, False,\n",
              "       False, False, False, False,  True, False,  True, False, False,\n",
              "       False,  True, False,  True, False,  True,  True, False, False,\n",
              "       False, False,  True, False,  True,  True, False,  True,  True,\n",
              "        True, False,  True,  True,  True,  True,  True, False,  True,\n",
              "       False, False,  True, False,  True, False,  True, False, False,\n",
              "        True, False,  True, False, False,  True,  True,  True, False,\n",
              "       False, False,  True,  True, False,  True,  True, False,  True,\n",
              "        True,  True,  True,  True,  True, False, False,  True, False,\n",
              "        True, False, False,  True, False,  True,  True, False, False,\n",
              "       False, False, False, False, False,  True,  True,  True, False,\n",
              "       False, False,  True, False, False, False,  True, False, False,\n",
              "        True, False, False, False,  True, False, False, False, False,\n",
              "       False,  True, False, False, False, False, False, False, False,\n",
              "        True,  True, False, False,  True, False, False, False, False,\n",
              "       False,  True, False, False, False,  True, False, False, False,\n",
              "       False,  True, False, False,  True, False, False,  True, False,\n",
              "       False,  True,  True,  True,  True, False, False,  True, False,\n",
              "       False, False, False,  True, False,  True, False, False, False,\n",
              "        True, False, False, False,  True,  True, False,  True,  True,\n",
              "        True,  True,  True, False, False, False,  True, False,  True,\n",
              "       False,  True, False,  True, False, False,  True, False, False,\n",
              "        True, False, False, False,  True, False, False, False, False,\n",
              "       False,  True, False, False,  True,  True, False, False, False,\n",
              "       False,  True, False,  True, False,  True, False, False,  True,\n",
              "       False,  True,  True, False, False, False, False, False,  True,\n",
              "       False, False, False,  True, False, False, False,  True, False,\n",
              "        True, False, False, False,  True, False, False,  True,  True,\n",
              "        True, False, False, False,  True,  True, False,  True, False,\n",
              "       False,  True,  True,  True,  True, False, False, False, False,\n",
              "        True, False, False, False, False, False, False, False, False,\n",
              "        True, False,  True,  True, False, False,  True, False, False,\n",
              "        True, False,  True, False, False, False, False,  True, False,\n",
              "       False, False, False, False,  True,  True, False, False, False,\n",
              "       False, False, False,  True, False, False, False,  True, False,\n",
              "       False,  True, False, False,  True, False, False, False, False,\n",
              "        True, False, False, False, False,  True, False, False,  True,\n",
              "        True, False, False, False, False,  True,  True,  True,  True,\n",
              "       False, False, False, False,  True, False, False,  True,  True,\n",
              "        True, False,  True, False,  True, False,  True, False,  True,\n",
              "        True, False,  True, False, False, False,  True, False, False,\n",
              "       False,  True, False, False,  True, False, False,  True,  True,\n",
              "        True, False, False, False, False,  True,  True,  True,  True,\n",
              "       False, False,  True,  True,  True, False, False, False,  True,\n",
              "        True,  True, False, False, False, False, False,  True,  True,\n",
              "       False, False, False,  True, False,  True, False,  True, False,\n",
              "       False,  True, False,  True, False, False, False,  True, False,\n",
              "       False, False, False, False, False,  True,  True,  True, False,\n",
              "       False, False,  True, False, False, False, False,  True, False,\n",
              "        True,  True, False,  True,  True, False, False,  True,  True,\n",
              "       False, False, False, False, False,  True, False, False, False,\n",
              "       False,  True,  True,  True,  True, False,  True, False,  True,\n",
              "       False, False,  True, False, False, False,  True, False,  True,\n",
              "       False,  True, False,  True,  True,  True,  True, False,  True,\n",
              "       False, False,  True, False, False,  True, False,  True, False,\n",
              "       False, False,  True,  True, False, False,  True, False, False,\n",
              "       False,  True, False, False,  True, False,  True, False,  True,\n",
              "       False,  True, False, False,  True,  True, False, False, False,\n",
              "       False, False,  True, False, False,  True, False,  True, False,\n",
              "        True,  True, False, False, False,  True, False, False, False,\n",
              "       False,  True, False,  True,  True,  True,  True, False, False,\n",
              "       False, False,  True, False, False, False, False,  True,  True,\n",
              "       False, False, False,  True,  True, False, False, False,  True,\n",
              "        True, False,  True,  True, False,  True, False, False, False,\n",
              "        True, False,  True,  True, False, False, False,  True,  True,\n",
              "       False, False,  True,  True, False,  True, False, False, False,\n",
              "       False,  True,  True,  True, False,  True, False,  True,  True,\n",
              "        True,  True, False,  True, False,  True,  True,  True, False,\n",
              "        True, False, False,  True, False,  True,  True,  True, False,\n",
              "       False, False, False, False, False, False,  True, False, False,\n",
              "        True, False,  True, False,  True, False, False, False, False,\n",
              "       False, False,  True, False, False,  True,  True,  True,  True,\n",
              "        True, False, False, False, False, False, False,  True, False,\n",
              "       False,  True, False,  True, False, False,  True, False, False,\n",
              "        True, False, False,  True, False, False, False,  True, False,\n",
              "       False, False,  True, False, False, False,  True,  True, False,\n",
              "       False,  True,  True, False, False, False,  True,  True,  True,\n",
              "       False,  True, False,  True, False, False,  True, False, False,\n",
              "        True,  True, False, False, False,  True,  True, False,  True,\n",
              "        True,  True,  True,  True,  True,  True,  True, False, False,\n",
              "        True,  True,  True,  True,  True, False, False,  True, False,\n",
              "       False,  True,  True, False, False, False, False, False,  True,\n",
              "       False,  True,  True, False, False, False, False,  True,  True,\n",
              "       False, False, False, False,  True,  True,  True,  True, False,\n",
              "       False, False, False, False, False, False, False, False, False,\n",
              "       False,  True, False, False, False, False,  True,  True,  True,\n",
              "       False, False,  True, False,  True, False, False, False,  True,\n",
              "       False, False,  True, False, False, False, False, False,  True,\n",
              "       False, False, False, False, False, False, False,  True,  True,\n",
              "       False, False, False, False,  True,  True, False,  True,  True,\n",
              "       False, False,  True, False, False, False,  True, False,  True,\n",
              "       False, False,  True, False,  True,  True, False,  True, False,\n",
              "       False,  True, False, False,  True, False, False, False, False,\n",
              "       False, False, False, False,  True,  True, False,  True, False,\n",
              "        True,  True,  True,  True, False, False, False,  True,  True,\n",
              "       False, False,  True, False,  True,  True, False, False, False,\n",
              "       False, False, False, False,  True, False, False,  True, False,\n",
              "        True, False, False, False,  True,  True,  True, False,  True,\n",
              "       False, False, False,  True, False, False, False, False, False,\n",
              "        True,  True, False, False,  True, False, False, False, False,\n",
              "       False,  True,  True,  True, False,  True, False, False, False,\n",
              "       False, False, False,  True, False,  True, False,  True, False,\n",
              "       False, False, False, False, False, False, False, False,  True,\n",
              "        True,  True, False, False, False, False, False,  True, False,\n",
              "        True,  True, False,  True, False, False,  True, False, False,\n",
              "        True, False,  True, False, False, False, False,  True, False,\n",
              "       False, False, False, False, False, False,  True, False,  True,\n",
              "        True])"
            ]
          },
          "metadata": {},
          "execution_count": 6
        }
      ]
    },
    {
      "cell_type": "code",
      "source": [
        "print(u'Proporción de bits distintos a 0 = {0}'.format(fb.arreglo.nonzero()[0].size / fb.arreglo.size))"
      ],
      "metadata": {
        "application/vnd.databricks.v1+cell": {
          "title": "",
          "showTitle": false,
          "inputWidgets": {},
          "nuid": "7ac06a0f-32c0-4791-b0bd-bf326b7581ab"
        },
        "colab": {
          "base_uri": "https://localhost:8080/"
        },
        "id": "z5YvGjkXw1Z3",
        "outputId": "035965b3-792a-48f8-df12-f4f239d66190"
      },
      "outputs": [
        {
          "output_type": "stream",
          "name": "stdout",
          "text": [
            "Proporción de bits distintos a 0 = 0.39\n"
          ]
        }
      ],
      "execution_count": 7
    },
    {
      "cell_type": "code",
      "source": [
        "print(\"http://www.youtube.com\", fb.verifica('http://www.youtube.com'))\n",
        "print(\"http://www.facebook.com\", fb.verifica('http://www.facebook.com'))\n",
        "print(\"http://www.wikipedia.org\", fb.verifica('http://www.wikipedia.org'))"
      ],
      "metadata": {
        "application/vnd.databricks.v1+cell": {
          "title": "",
          "showTitle": false,
          "inputWidgets": {},
          "nuid": "2b2f4765-f7a0-4b99-a4c1-7841e7ece341"
        },
        "colab": {
          "base_uri": "https://localhost:8080/"
        },
        "id": "eOGOE6ZZw1Z4",
        "outputId": "4b843929-b1ea-4695-a985-f33675a6fe53"
      },
      "outputs": [
        {
          "output_type": "stream",
          "name": "stdout",
          "text": [
            "http://www.youtube.com True\n",
            "http://www.facebook.com True\n",
            "http://www.wikipedia.org True\n"
          ]
        }
      ],
      "execution_count": 8
    },
    {
      "cell_type": "code",
      "source": [
        "print(\"http://www.unam.mx\", fb.verifica('http://www.unam.mx'))\n",
        "print(\"http://www.google.es/\", fb.verifica('http://www.google.es/'))\n",
        "print(\"http://www.google.es\", fb.verifica('http://www.google.es'))\n",
        "print(\"http://www.twitter.com\", fb.verifica('http://www.twitter.com'))\n",
        "print(\"https://www.twitter.com\", fb.verifica('https://www.twitter.com'))"
      ],
      "metadata": {
        "colab": {
          "base_uri": "https://localhost:8080/"
        },
        "id": "w7er52xa2S5O",
        "outputId": "40cc4023-a1f2-4aa9-f3ab-f151c19edb08"
      },
      "execution_count": 9,
      "outputs": [
        {
          "output_type": "stream",
          "name": "stdout",
          "text": [
            "http://www.unam.mx False\n",
            "http://www.google.es/ False\n",
            "http://www.google.es True\n",
            "http://www.twitter.com True\n",
            "https://www.twitter.com True\n"
          ]
        }
      ]
    }
  ],
  "metadata": {
    "application/vnd.databricks.v1+notebook": {
      "notebookName": "Filtro_Bloom",
      "dashboards": [],
      "notebookMetadata": {
        "pythonIndentUnit": 4
      },
      "language": "python",
      "widgets": {},
      "notebookOrigID": 4114156249617249
    },
    "colab": {
      "name": "4bFiltro_Bloom.ipynb",
      "provenance": [],
      "collapsed_sections": [],
      "include_colab_link": true
    },
    "language_info": {
      "name": "python"
    },
    "kernelspec": {
      "name": "python3",
      "display_name": "Python 3"
    }
  },
  "nbformat": 4,
  "nbformat_minor": 0
}