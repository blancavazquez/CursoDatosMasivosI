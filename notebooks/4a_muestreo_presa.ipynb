{
  "nbformat": 4,
  "nbformat_minor": 0,
  "metadata": {
    "colab": {
      "name": "4a_muestreo_presa.ipynb",
      "provenance": []
    },
    "kernelspec": {
      "name": "python3",
      "display_name": "Python 3"
    },
    "language_info": {
      "name": "python"
    }
  },
  "cells": [
    {
      "cell_type": "markdown",
      "metadata": {
        "id": "0U7XkpdhFEQx"
      },
      "source": [
        "# Muestreo de presa (o depósito)\n",
        "En esta libreta programaremos una función que obtiene muestras de un flujo usando el algoritmo de muestreo de presa."
      ]
    },
    {
      "cell_type": "code",
      "metadata": {
        "id": "UAaHHVaj_nzN"
      },
      "source": [
        "import numpy as np\n",
        "\n",
        "class MuestreoPresa:\n",
        "  def __init__(self, k):\n",
        "    self.k = k\n",
        "    self.i = 0\n",
        "    self.presa = np.zeros(self.k)\n",
        "\n",
        "  def __call__(self, x):\n",
        "    if self.i < self.k:\n",
        "      self.presa[self.i] = x\n",
        "    else:\n",
        "      j = np.random.randint(0, self.i)\n",
        "      print(\"new position:\", j)\n",
        "      if j < self.k:\n",
        "        self.presa[j] = x    \n",
        "    self.i += 1\n",
        "\n",
        "  def obtener_presa(self):\n",
        "    return self.presa"
      ],
      "execution_count": 1,
      "outputs": []
    },
    {
      "cell_type": "markdown",
      "metadata": {
        "id": "NsYurnHDFX8S"
      },
      "source": [
        "Probamos nuestra función con un arreglo de números enteros del 0 al 199."
      ]
    },
    {
      "cell_type": "code",
      "metadata": {
        "id": "U1gVZnT7_rcI"
      },
      "source": [
        "flujo = np.arange(0, 20)\n",
        "n = len(flujo)\n",
        "k = 10"
      ],
      "execution_count": 2,
      "outputs": []
    },
    {
      "cell_type": "code",
      "source": [
        "flujo"
      ],
      "metadata": {
        "id": "S6P9I5AfRm5n",
        "outputId": "ea11a721-04f9-45a5-bbad-d358b237024a",
        "colab": {
          "base_uri": "https://localhost:8080/"
        }
      },
      "execution_count": 3,
      "outputs": [
        {
          "output_type": "execute_result",
          "data": {
            "text/plain": [
              "array([ 0,  1,  2,  3,  4,  5,  6,  7,  8,  9, 10, 11, 12, 13, 14, 15, 16,\n",
              "       17, 18, 19])"
            ]
          },
          "metadata": {},
          "execution_count": 3
        }
      ]
    },
    {
      "cell_type": "code",
      "source": [
        "mp = MuestreoPresa(k)"
      ],
      "metadata": {
        "id": "L5AEIT1IRlUo"
      },
      "execution_count": 4,
      "outputs": []
    },
    {
      "cell_type": "code",
      "source": [
        "for i in range(n): #recorremos cada elemento del flujo de datos\n",
        "  mp(flujo[i])\n",
        "  print(\"Nuevo dato:\", i)\n",
        "  print(\"Muestras: \",np.sort(mp.obtener_presa()))"
      ],
      "metadata": {
        "id": "zoAj3_oERs-H",
        "outputId": "0663bfa0-f532-4101-bae2-b41ec02e91e2",
        "colab": {
          "base_uri": "https://localhost:8080/"
        }
      },
      "execution_count": 5,
      "outputs": [
        {
          "output_type": "stream",
          "name": "stdout",
          "text": [
            "Nuevo dato: 0\n",
            "Muestras:  [0. 0. 0. 0. 0. 0. 0. 0. 0. 0.]\n",
            "Nuevo dato: 1\n",
            "Muestras:  [0. 0. 0. 0. 0. 0. 0. 0. 0. 1.]\n",
            "Nuevo dato: 2\n",
            "Muestras:  [0. 0. 0. 0. 0. 0. 0. 0. 1. 2.]\n",
            "Nuevo dato: 3\n",
            "Muestras:  [0. 0. 0. 0. 0. 0. 0. 1. 2. 3.]\n",
            "Nuevo dato: 4\n",
            "Muestras:  [0. 0. 0. 0. 0. 0. 1. 2. 3. 4.]\n",
            "Nuevo dato: 5\n",
            "Muestras:  [0. 0. 0. 0. 0. 1. 2. 3. 4. 5.]\n",
            "Nuevo dato: 6\n",
            "Muestras:  [0. 0. 0. 0. 1. 2. 3. 4. 5. 6.]\n",
            "Nuevo dato: 7\n",
            "Muestras:  [0. 0. 0. 1. 2. 3. 4. 5. 6. 7.]\n",
            "Nuevo dato: 8\n",
            "Muestras:  [0. 0. 1. 2. 3. 4. 5. 6. 7. 8.]\n",
            "Nuevo dato: 9\n",
            "Muestras:  [0. 1. 2. 3. 4. 5. 6. 7. 8. 9.]\n",
            "new position: 6\n",
            "Nuevo dato: 10\n",
            "Muestras:  [ 0.  1.  2.  3.  4.  5.  7.  8.  9. 10.]\n",
            "new position: 5\n",
            "Nuevo dato: 11\n",
            "Muestras:  [ 0.  1.  2.  3.  4.  7.  8.  9. 10. 11.]\n",
            "new position: 10\n",
            "Nuevo dato: 12\n",
            "Muestras:  [ 0.  1.  2.  3.  4.  7.  8.  9. 10. 11.]\n",
            "new position: 3\n",
            "Nuevo dato: 13\n",
            "Muestras:  [ 0.  1.  2.  4.  7.  8.  9. 10. 11. 13.]\n",
            "new position: 4\n",
            "Nuevo dato: 14\n",
            "Muestras:  [ 0.  1.  2.  7.  8.  9. 10. 11. 13. 14.]\n",
            "new position: 2\n",
            "Nuevo dato: 15\n",
            "Muestras:  [ 0.  1.  7.  8.  9. 10. 11. 13. 14. 15.]\n",
            "new position: 2\n",
            "Nuevo dato: 16\n",
            "Muestras:  [ 0.  1.  7.  8.  9. 10. 11. 13. 14. 16.]\n",
            "new position: 13\n",
            "Nuevo dato: 17\n",
            "Muestras:  [ 0.  1.  7.  8.  9. 10. 11. 13. 14. 16.]\n",
            "new position: 10\n",
            "Nuevo dato: 18\n",
            "Muestras:  [ 0.  1.  7.  8.  9. 10. 11. 13. 14. 16.]\n",
            "new position: 5\n",
            "Nuevo dato: 19\n",
            "Muestras:  [ 0.  1.  7.  8.  9. 10. 13. 14. 16. 19.]\n"
          ]
        }
      ]
    }
  ]
}