{
  "nbformat": 4,
  "nbformat_minor": 0,
  "metadata": {
    "colab": {
      "name": "4d_momentos.ipynb",
      "provenance": [],
      "collapsed_sections": [],
      "include_colab_link": true
    },
    "kernelspec": {
      "name": "python3",
      "display_name": "Python 3"
    },
    "language_info": {
      "name": "python"
    }
  },
  "cells": [
    {
      "cell_type": "markdown",
      "metadata": {
        "id": "view-in-github",
        "colab_type": "text"
      },
      "source": [
        "<a href=\"https://colab.research.google.com/github/blancavazquez/CursoDatosMasivosI/blob/master/notebooks/4d_momentos.ipynb\" target=\"_parent\"><img src=\"https://colab.research.google.com/assets/colab-badge.svg\" alt=\"Open In Colab\"/></a>"
      ]
    },
    {
      "cell_type": "markdown",
      "metadata": {
        "id": "uFg6o5crvGxv"
      },
      "source": [
        "# Algoritmo de Alon-Matias-Szegedy\n",
        "En esta libreta programaremos el algoritmo de Alon-Matias-Szegedy (AMS) para estimar momentos en un flujo de datos.\n",
        "\n",
        "Dado un flujo de tamaño $n$ constante, se definen $K$ variables $X_1, X_2, \\ldots, X_K$ usando posiciones del flujo elegidas de forma aleatoria y uniforme. Estas variables almacenan un elemento $X_k.elemento$ y un valor entero $X_k.valor$, el cual se inicializa con 1 y se incrementa en 1 cada vez que se encuentra una ocurrencia de $X_k.elemento$.\n",
        " \n",
        "De esta forma, es posible estimar el $i$-ésimo momento a partir de una variable $X_k$ calculando\n",
        "\n",
        "$$\n",
        "n \\cdot (X_k.valor^{i} - (X_k.valor - 1)^{i})\n",
        "$$"
      ]
    },
    {
      "cell_type": "code",
      "metadata": {
        "id": "dOGuD7z-T1cG"
      },
      "source": [
        "from collections import Counter\n",
        "import numpy as np\n",
        "np.random.seed(2021) # para reproducibilidad\n",
        "\n",
        "n_variables = 50 #número de muestras para estimar los momentos"
      ],
      "execution_count": 1,
      "outputs": []
    },
    {
      "cell_type": "markdown",
      "metadata": {
        "id": "JeQsh9eTMY__"
      },
      "source": [
        "Definimos la clase para el algoritmo AMS"
      ]
    },
    {
      "cell_type": "code",
      "metadata": {
        "id": "A5R50JK8NE4A"
      },
      "source": [
        "class AMS:  \n",
        "  def __init__(self, n_variables=10):\n",
        "    self.n_variables = n_variables\n",
        "\n",
        "  def estima_momento(self, i):\n",
        "    return np.mean(self.n * (self.valores**i - (self.valores - 1)**i)) #fórmula (esto produce un vector de k estimaciones distintas y se calcula el promedio)\n",
        "\n",
        "  def calcula_cuentas(self, x):\n",
        "    self.n = x.shape[0] #calculando cuántos elementos tiene el flujo\n",
        "    self.ind = np.random.randint(0, self.n - 1, size=self.n_variables) #posiciones de forma aleatoria\n",
        "    self.elementos = x[self.ind] #toma los elementos de esas posiciones\n",
        "    self.valores = np.zeros_like(self.elementos) #inicializamos los valores\n",
        "    for i,ind in enumerate(self.ind): #recorremos todos los índices \n",
        "      for j in range(ind, self.n): #recorremos cada una de las posiciones seleccionadas hasta el fin del flujo\n",
        "        if self.elementos[i] == x[j]: #si encuentra el elemento\n",
        "          self.valores[i] += 1 #incrementa el valor a 1"
      ],
      "execution_count": 2,
      "outputs": []
    },
    {
      "cell_type": "markdown",
      "metadata": {
        "id": "Z11yDwqRMfjB"
      },
      "source": [
        "El momento $i$-ésimo está definido por\n",
        "$$\n",
        "\\sum_{e\\in \\mathbb{U}} (m_e)^i\n",
        "$$\n",
        "\n",
        "donde $m_e$ es el número de veces que ocurre el elemento $e$ en el flujo y $\\mathbb{U}$ es el conjunto universal."
      ]
    },
    {
      "cell_type": "code",
      "metadata": {
        "id": "PKZ_vTovPLiX"
      },
      "source": [
        "#Función para calcular el momento\n",
        "momento = lambda m, i: np.sum(m**i) "
      ],
      "execution_count": 3,
      "outputs": []
    },
    {
      "cell_type": "markdown",
      "metadata": {
        "id": "dj4oMQFmNUaT"
      },
      "source": [
        "Generamos un flujo de números enteros aleatorios."
      ]
    },
    {
      "cell_type": "code",
      "metadata": {
        "id": "iv5Cy8YnPTpT",
        "colab": {
          "base_uri": "https://localhost:8080/"
        },
        "outputId": "1c3a225a-2f7d-498f-ef00-cd48cafa6de3"
      },
      "source": [
        "x_min = 0 \n",
        "x_max = 10\n",
        "n = 100 #tamaño del flujo\n",
        "flujo = np.random.randint(x_min, x_max, size=n)\n",
        "flujo"
      ],
      "execution_count": 4,
      "outputs": [
        {
          "output_type": "execute_result",
          "data": {
            "text/plain": [
              "array([4, 5, 9, 0, 6, 5, 8, 6, 6, 6, 6, 1, 5, 7, 1, 1, 5, 2, 0, 3, 1, 0,\n",
              "       2, 6, 4, 8, 5, 1, 6, 7, 5, 6, 9, 5, 6, 9, 2, 4, 3, 9, 2, 8, 5, 3,\n",
              "       1, 1, 9, 2, 7, 5, 3, 7, 3, 9, 4, 9, 7, 9, 7, 7, 4, 3, 2, 9, 2, 5,\n",
              "       2, 0, 4, 7, 3, 1, 9, 4, 2, 3, 6, 6, 6, 1, 5, 7, 1, 9, 5, 0, 0, 4,\n",
              "       9, 7, 3, 4, 7, 0, 3, 9, 6, 9, 3, 9])"
            ]
          },
          "metadata": {},
          "execution_count": 4
        }
      ]
    },
    {
      "cell_type": "code",
      "source": [
        "#Calculamos las ocurencias para cada elemento distinto\n",
        "print(\"Conteo de ocurrencias:\",Counter(flujo))\n",
        "print(\"Valores:\",Counter(flujo).values())\n",
        "print(\"Lista:\",list(Counter(flujo).values()))"
      ],
      "metadata": {
        "colab": {
          "base_uri": "https://localhost:8080/"
        },
        "id": "Ru7-jslJ3KhP",
        "outputId": "1758e56f-dba0-4817-c98d-53802ad1fcc4"
      },
      "execution_count": 5,
      "outputs": [
        {
          "output_type": "stream",
          "name": "stdout",
          "text": [
            "Conteo de ocurrencias: Counter({9: 15, 6: 13, 5: 12, 7: 11, 3: 11, 1: 10, 4: 9, 2: 9, 0: 7, 8: 3})\n",
            "Valores: dict_values([9, 12, 15, 7, 13, 3, 10, 11, 9, 11])\n",
            "Lista: [9, 12, 15, 7, 13, 3, 10, 11, 9, 11]\n"
          ]
        }
      ]
    },
    {
      "cell_type": "code",
      "source": [
        "#Almacenando las ocurrencias de cada elemento\n",
        "frec = np.array(list(Counter(flujo).values()))\n",
        "print(\"Frecuencias:\", frec)"
      ],
      "metadata": {
        "colab": {
          "base_uri": "https://localhost:8080/"
        },
        "id": "dH8wypLu4LSn",
        "outputId": "13d83fc0-ca47-4c60-bf8e-5c09fef53fb1"
      },
      "execution_count": 6,
      "outputs": [
        {
          "output_type": "stream",
          "name": "stdout",
          "text": [
            "Frecuencias: [ 9 12 15  7 13  3 10 11  9 11]\n"
          ]
        }
      ]
    },
    {
      "cell_type": "markdown",
      "metadata": {
        "id": "edzOZH3RNcm3"
      },
      "source": [
        "Instaciamos nuestra clase, calculamos las cuentas del elemento correspondiente a cada variable y estimamos los momentos 1, 2 y 3."
      ]
    },
    {
      "cell_type": "code",
      "metadata": {
        "colab": {
          "base_uri": "https://localhost:8080/"
        },
        "id": "q1dc7PDd6MXn",
        "outputId": "cedf13f7-ea0b-46db-fde4-daa6132b50db"
      },
      "source": [
        "em = AMS(n_variables) #instanciamos la clase con el núm de muestras\n",
        "em.calcula_cuentas(flujo) #calculamos las frecuencias\n",
        "\n",
        "for i in range(1, 4):\n",
        "  print(u'Momento {0}: Exacto = {1} Estimación = {2}'.format(i, momento(frec, i), em.estima_momento(i))) #recordemos: n es constante"
      ],
      "execution_count": 7,
      "outputs": [
        {
          "output_type": "stream",
          "name": "stdout",
          "text": [
            "Momento 1: Exacto = 100 Estimación = 100.0\n",
            "Momento 2: Exacto = 1100 Estimación = 1128.0\n",
            "Momento 3: Exacto = 12790 Estimación = 13444.0\n"
          ]
        }
      ]
    },
    {
      "cell_type": "markdown",
      "metadata": {
        "id": "VMqRXwOEN3Pu"
      },
      "source": [
        "Cuando el tamaño del flujo no es constante, seleccionamos las posiciones de las variables de la siguiente manera:\n",
        "+ Se toman las primeras $s$ posiciones del flujo como variables.\n",
        "+ Se elige la posición $n>s$ con probabilidad $\\frac{s}{n}$\n",
        "  + Si es elegida, se selecciona de forma aleatoria y uniforme una de las $s$ variables y se reemplaza por la de la posición $n$\n",
        "  + En caso contrario se mantienen las posiciones de las $s$ variables    "
      ]
    },
    {
      "cell_type": "code",
      "metadata": {
        "id": "RjibctuDPpyV"
      },
      "source": [
        "class AMSFlujo:\n",
        "  def __init__(self, n_variables):\n",
        "    self.n_variables = n_variables\n",
        "    self.i = 0 #contador de cuántos datos han pasado en el flujo\n",
        "    self.elementos = np.zeros(self.n_variables) #arreglo para los elementos\n",
        "    self.valores = np.zeros(self.n_variables) #arreglo para los valores\n",
        "\n",
        "  def estima_momento(self, k):\n",
        "    if self.i >= self.n_variables: #evaluamos: si el num_muestras visto es >= al num_muestras indicado\n",
        "      return np.mean(self.i * (self.valores**k - (self.valores - 1)**k))\n",
        "    else:\n",
        "      return np.mean(self.i * (self.valores[:self.i]**k - (self.valores[:self.i] - 1)**k)) #toma los valores hasta la posición i\n",
        "    \n",
        "  def __call__(self, x): #este \"x\" es un dato del flujo\n",
        "    if self.i < self.n_variables:\n",
        "      self.elementos[self.i] = x\n",
        "      self.valores[self.i] = 0 #inicializamos\n",
        "    else:\n",
        "      #analizo si sustituyo algunas de las variables \n",
        "      prob = self.n_variables / (self.i + 1) #caĺculo de la probabilidad\n",
        "      j = np.random.choice([0, 1], p=[1 - prob, prob]) #para obtener 0= 1-proba y para 1=prob\n",
        "      if j: #si \"j\" es 1 (entonces vamos a sustituir)\n",
        "        pos = np.random.randint(0, self.n_variables) #nueva posición\n",
        "        self.elementos[pos] = x\n",
        "        self.valores[pos] = 0 #inicializamos\n",
        "      \n",
        "      #iteramos los elementos\n",
        "      for a,e in enumerate(self.elementos):\n",
        "        if e == x:\n",
        "          self.valores[a] += 1 #aumenta en 1\n",
        "\n",
        "    self.i += 1 #incrementa el valor de n"
      ],
      "execution_count": 8,
      "outputs": []
    },
    {
      "cell_type": "markdown",
      "metadata": {
        "id": "PLsIEkIcOPfq"
      },
      "source": [
        "Instanciamos la clase y vamos agregando cada dato del flujo, actualizando las cuentas y estimando los momentos 1, 2 y 3."
      ]
    },
    {
      "cell_type": "code",
      "metadata": {
        "id": "Xc69AjUZTZIQ"
      },
      "source": [
        "emf = AMSFlujo(n_variables) #instanciamos la clase"
      ],
      "execution_count": 9,
      "outputs": []
    },
    {
      "cell_type": "code",
      "source": [
        "for i in range(n):\n",
        "  emf(flujo[i]) #pasamos posición por posición del flujo\n",
        "  frec = np.array(list(Counter(flujo[:i+1]).values())) #calculamos el valor de las frecuencias\n",
        "  \n",
        "  #calculamos los k momentos por posición\n",
        "  print(u'Posición {0}'.format(i)) \n",
        "  for k in range(1, 4):\n",
        "    print(u'\\tMomento {0}: Exacto = {1} Estimación = {2}'.format(k, momento(frec, k), emf.estima_momento(k)))"
      ],
      "metadata": {
        "colab": {
          "base_uri": "https://localhost:8080/"
        },
        "id": "aJXYMrnh9SCo",
        "outputId": "d1a306ef-f11a-4264-82e4-98bfe85b8432"
      },
      "execution_count": 10,
      "outputs": [
        {
          "output_type": "stream",
          "name": "stdout",
          "text": [
            "Posición 0\n",
            "\tMomento 1: Exacto = 1 Estimación = 1.0\n",
            "\tMomento 2: Exacto = 1 Estimación = 1.0\n",
            "\tMomento 3: Exacto = 1 Estimación = 1.0\n",
            "Posición 1\n",
            "\tMomento 1: Exacto = 2 Estimación = 2.0\n",
            "\tMomento 2: Exacto = 2 Estimación = 2.0\n",
            "\tMomento 3: Exacto = 2 Estimación = 2.0\n",
            "Posición 2\n",
            "\tMomento 1: Exacto = 3 Estimación = 3.0\n",
            "\tMomento 2: Exacto = 3 Estimación = 3.0\n",
            "\tMomento 3: Exacto = 3 Estimación = 3.0\n",
            "Posición 3\n",
            "\tMomento 1: Exacto = 4 Estimación = 4.0\n",
            "\tMomento 2: Exacto = 4 Estimación = 4.0\n",
            "\tMomento 3: Exacto = 4 Estimación = 4.0\n",
            "Posición 4\n",
            "\tMomento 1: Exacto = 5 Estimación = 5.0\n",
            "\tMomento 2: Exacto = 5 Estimación = 5.0\n",
            "\tMomento 3: Exacto = 5 Estimación = 5.0\n",
            "Posición 5\n",
            "\tMomento 1: Exacto = 6 Estimación = 6.0\n",
            "\tMomento 2: Exacto = 8 Estimación = 8.0\n",
            "\tMomento 3: Exacto = 12 Estimación = 12.0\n",
            "Posición 6\n",
            "\tMomento 1: Exacto = 7 Estimación = 7.0\n",
            "\tMomento 2: Exacto = 9 Estimación = 9.0\n",
            "\tMomento 3: Exacto = 13 Estimación = 13.0\n",
            "Posición 7\n",
            "\tMomento 1: Exacto = 8 Estimación = 8.0\n",
            "\tMomento 2: Exacto = 12 Estimación = 12.0\n",
            "\tMomento 3: Exacto = 20 Estimación = 20.0\n",
            "Posición 8\n",
            "\tMomento 1: Exacto = 9 Estimación = 9.0\n",
            "\tMomento 2: Exacto = 17 Estimación = 17.0\n",
            "\tMomento 3: Exacto = 39 Estimación = 39.0\n",
            "Posición 9\n",
            "\tMomento 1: Exacto = 10 Estimación = 10.0\n",
            "\tMomento 2: Exacto = 24 Estimación = 24.0\n",
            "\tMomento 3: Exacto = 76 Estimación = 76.0\n",
            "Posición 10\n",
            "\tMomento 1: Exacto = 11 Estimación = 11.0\n",
            "\tMomento 2: Exacto = 33 Estimación = 33.0\n",
            "\tMomento 3: Exacto = 137 Estimación = 137.0\n",
            "Posición 11\n",
            "\tMomento 1: Exacto = 12 Estimación = 12.0\n",
            "\tMomento 2: Exacto = 34 Estimación = 34.0\n",
            "\tMomento 3: Exacto = 138 Estimación = 138.0\n",
            "Posición 12\n",
            "\tMomento 1: Exacto = 13 Estimación = 13.0\n",
            "\tMomento 2: Exacto = 39 Estimación = 39.0\n",
            "\tMomento 3: Exacto = 157 Estimación = 157.0\n",
            "Posición 13\n",
            "\tMomento 1: Exacto = 14 Estimación = 14.0\n",
            "\tMomento 2: Exacto = 40 Estimación = 40.0\n",
            "\tMomento 3: Exacto = 158 Estimación = 158.0\n",
            "Posición 14\n",
            "\tMomento 1: Exacto = 15 Estimación = 15.0\n",
            "\tMomento 2: Exacto = 43 Estimación = 43.0\n",
            "\tMomento 3: Exacto = 165 Estimación = 165.0\n",
            "Posición 15\n",
            "\tMomento 1: Exacto = 16 Estimación = 16.0\n",
            "\tMomento 2: Exacto = 48 Estimación = 48.0\n",
            "\tMomento 3: Exacto = 184 Estimación = 184.0\n",
            "Posición 16\n",
            "\tMomento 1: Exacto = 17 Estimación = 17.0\n",
            "\tMomento 2: Exacto = 55 Estimación = 55.0\n",
            "\tMomento 3: Exacto = 221 Estimación = 221.0\n",
            "Posición 17\n",
            "\tMomento 1: Exacto = 18 Estimación = 18.0\n",
            "\tMomento 2: Exacto = 56 Estimación = 56.0\n",
            "\tMomento 3: Exacto = 222 Estimación = 222.0\n",
            "Posición 18\n",
            "\tMomento 1: Exacto = 19 Estimación = 19.0\n",
            "\tMomento 2: Exacto = 59 Estimación = 59.0\n",
            "\tMomento 3: Exacto = 229 Estimación = 229.0\n",
            "Posición 19\n",
            "\tMomento 1: Exacto = 20 Estimación = 20.0\n",
            "\tMomento 2: Exacto = 60 Estimación = 60.0\n",
            "\tMomento 3: Exacto = 230 Estimación = 230.0\n",
            "Posición 20\n",
            "\tMomento 1: Exacto = 21 Estimación = 21.0\n",
            "\tMomento 2: Exacto = 67 Estimación = 67.0\n",
            "\tMomento 3: Exacto = 267 Estimación = 267.0\n",
            "Posición 21\n",
            "\tMomento 1: Exacto = 22 Estimación = 22.0\n",
            "\tMomento 2: Exacto = 72 Estimación = 72.0\n",
            "\tMomento 3: Exacto = 286 Estimación = 286.0\n",
            "Posición 22\n",
            "\tMomento 1: Exacto = 23 Estimación = 23.0\n",
            "\tMomento 2: Exacto = 75 Estimación = 75.0\n",
            "\tMomento 3: Exacto = 293 Estimación = 293.0\n",
            "Posición 23\n",
            "\tMomento 1: Exacto = 24 Estimación = 24.0\n",
            "\tMomento 2: Exacto = 86 Estimación = 86.0\n",
            "\tMomento 3: Exacto = 384 Estimación = 384.0\n",
            "Posición 24\n",
            "\tMomento 1: Exacto = 25 Estimación = 25.0\n",
            "\tMomento 2: Exacto = 89 Estimación = 89.0\n",
            "\tMomento 3: Exacto = 391 Estimación = 391.0\n",
            "Posición 25\n",
            "\tMomento 1: Exacto = 26 Estimación = 26.0\n",
            "\tMomento 2: Exacto = 92 Estimación = 92.0\n",
            "\tMomento 3: Exacto = 398 Estimación = 398.0\n",
            "Posición 26\n",
            "\tMomento 1: Exacto = 27 Estimación = 27.0\n",
            "\tMomento 2: Exacto = 101 Estimación = 101.0\n",
            "\tMomento 3: Exacto = 459 Estimación = 459.0\n",
            "Posición 27\n",
            "\tMomento 1: Exacto = 28 Estimación = 28.0\n",
            "\tMomento 2: Exacto = 110 Estimación = 110.0\n",
            "\tMomento 3: Exacto = 520 Estimación = 520.0\n",
            "Posición 28\n",
            "\tMomento 1: Exacto = 29 Estimación = 29.0\n",
            "\tMomento 2: Exacto = 123 Estimación = 123.0\n",
            "\tMomento 3: Exacto = 647 Estimación = 647.0\n",
            "Posición 29\n",
            "\tMomento 1: Exacto = 30 Estimación = 30.0\n",
            "\tMomento 2: Exacto = 126 Estimación = 126.0\n",
            "\tMomento 3: Exacto = 654 Estimación = 654.0\n",
            "Posición 30\n",
            "\tMomento 1: Exacto = 31 Estimación = 31.0\n",
            "\tMomento 2: Exacto = 137 Estimación = 137.0\n",
            "\tMomento 3: Exacto = 745 Estimación = 745.0\n",
            "Posición 31\n",
            "\tMomento 1: Exacto = 32 Estimación = 32.0\n",
            "\tMomento 2: Exacto = 152 Estimación = 152.0\n",
            "\tMomento 3: Exacto = 914 Estimación = 914.0\n",
            "Posición 32\n",
            "\tMomento 1: Exacto = 33 Estimación = 33.0\n",
            "\tMomento 2: Exacto = 155 Estimación = 155.0\n",
            "\tMomento 3: Exacto = 921 Estimación = 921.0\n",
            "Posición 33\n",
            "\tMomento 1: Exacto = 34 Estimación = 34.0\n",
            "\tMomento 2: Exacto = 168 Estimación = 168.0\n",
            "\tMomento 3: Exacto = 1048 Estimación = 1048.0\n",
            "Posición 34\n",
            "\tMomento 1: Exacto = 35 Estimación = 35.0\n",
            "\tMomento 2: Exacto = 185 Estimación = 185.0\n",
            "\tMomento 3: Exacto = 1265 Estimación = 1265.0\n",
            "Posición 35\n",
            "\tMomento 1: Exacto = 36 Estimación = 36.0\n",
            "\tMomento 2: Exacto = 190 Estimación = 190.0\n",
            "\tMomento 3: Exacto = 1284 Estimación = 1284.0\n",
            "Posición 36\n",
            "\tMomento 1: Exacto = 37 Estimación = 37.0\n",
            "\tMomento 2: Exacto = 195 Estimación = 195.0\n",
            "\tMomento 3: Exacto = 1303 Estimación = 1303.0\n",
            "Posición 37\n",
            "\tMomento 1: Exacto = 38 Estimación = 38.0\n",
            "\tMomento 2: Exacto = 200 Estimación = 200.0\n",
            "\tMomento 3: Exacto = 1322 Estimación = 1322.0\n",
            "Posición 38\n",
            "\tMomento 1: Exacto = 39 Estimación = 39.0\n",
            "\tMomento 2: Exacto = 203 Estimación = 203.0\n",
            "\tMomento 3: Exacto = 1329 Estimación = 1329.0\n",
            "Posición 39\n",
            "\tMomento 1: Exacto = 40 Estimación = 40.0\n",
            "\tMomento 2: Exacto = 210 Estimación = 210.0\n",
            "\tMomento 3: Exacto = 1366 Estimación = 1366.0\n",
            "Posición 40\n",
            "\tMomento 1: Exacto = 41 Estimación = 41.0\n",
            "\tMomento 2: Exacto = 217 Estimación = 217.0\n",
            "\tMomento 3: Exacto = 1403 Estimación = 1403.0\n",
            "Posición 41\n",
            "\tMomento 1: Exacto = 42 Estimación = 42.0\n",
            "\tMomento 2: Exacto = 222 Estimación = 222.0\n",
            "\tMomento 3: Exacto = 1422 Estimación = 1422.0\n",
            "Posición 42\n",
            "\tMomento 1: Exacto = 43 Estimación = 43.0\n",
            "\tMomento 2: Exacto = 237 Estimación = 237.0\n",
            "\tMomento 3: Exacto = 1591 Estimación = 1591.0\n",
            "Posición 43\n",
            "\tMomento 1: Exacto = 44 Estimación = 44.0\n",
            "\tMomento 2: Exacto = 242 Estimación = 242.0\n",
            "\tMomento 3: Exacto = 1610 Estimación = 1610.0\n",
            "Posición 44\n",
            "\tMomento 1: Exacto = 45 Estimación = 45.0\n",
            "\tMomento 2: Exacto = 253 Estimación = 253.0\n",
            "\tMomento 3: Exacto = 1701 Estimación = 1701.0\n",
            "Posición 45\n",
            "\tMomento 1: Exacto = 46 Estimación = 46.0\n",
            "\tMomento 2: Exacto = 266 Estimación = 266.0\n",
            "\tMomento 3: Exacto = 1828 Estimación = 1828.0\n",
            "Posición 46\n",
            "\tMomento 1: Exacto = 47 Estimación = 47.0\n",
            "\tMomento 2: Exacto = 275 Estimación = 275.0\n",
            "\tMomento 3: Exacto = 1889 Estimación = 1889.0\n",
            "Posición 47\n",
            "\tMomento 1: Exacto = 48 Estimación = 48.0\n",
            "\tMomento 2: Exacto = 284 Estimación = 284.0\n",
            "\tMomento 3: Exacto = 1950 Estimación = 1950.0\n",
            "Posición 48\n",
            "\tMomento 1: Exacto = 49 Estimación = 49.0\n",
            "\tMomento 2: Exacto = 289 Estimación = 289.0\n",
            "\tMomento 3: Exacto = 1969 Estimación = 1969.0\n",
            "Posición 49\n",
            "\tMomento 1: Exacto = 50 Estimación = 50.0\n",
            "\tMomento 2: Exacto = 306 Estimación = 306.0\n",
            "\tMomento 3: Exacto = 2186 Estimación = 2186.0\n",
            "Posición 50\n",
            "\tMomento 1: Exacto = 51 Estimación = 51.0\n",
            "\tMomento 2: Exacto = 313 Estimación = 303.96\n",
            "\tMomento 3: Exacto = 2223 Estimación = 2095.08\n",
            "Posición 51\n",
            "\tMomento 1: Exacto = 52 Estimación = 52.0\n",
            "\tMomento 2: Exacto = 320 Estimación = 316.16\n",
            "\tMomento 3: Exacto = 2260 Estimación = 2173.6\n",
            "Posición 52\n",
            "\tMomento 1: Exacto = 53 Estimación = 53.0\n",
            "\tMomento 2: Exacto = 329 Estimación = 328.6\n",
            "\tMomento 3: Exacto = 2321 Estimación = 2272.64\n",
            "Posición 53\n",
            "\tMomento 1: Exacto = 54 Estimación = 54.0\n",
            "\tMomento 2: Exacto = 340 Estimación = 345.6\n",
            "\tMomento 3: Exacto = 2412 Estimación = 2412.72\n",
            "Posición 54\n",
            "\tMomento 1: Exacto = 55 Estimación = 55.0\n",
            "\tMomento 2: Exacto = 347 Estimación = 356.4\n",
            "\tMomento 3: Exacto = 2449 Estimación = 2490.4\n",
            "Posición 55\n",
            "\tMomento 1: Exacto = 56 Estimación = 56.0\n",
            "\tMomento 2: Exacto = 360 Estimación = 371.84\n",
            "\tMomento 3: Exacto = 2576 Estimación = 2656.64\n",
            "Posición 56\n",
            "\tMomento 1: Exacto = 57 Estimación = 57.0\n",
            "\tMomento 2: Exacto = 369 Estimación = 383.04\n",
            "\tMomento 3: Exacto = 2637 Estimación = 2745.12\n",
            "Posición 57\n",
            "\tMomento 1: Exacto = 58 Estimación = 58.0\n",
            "\tMomento 2: Exacto = 384 Estimación = 401.36\n",
            "\tMomento 3: Exacto = 2806 Estimación = 2967.28\n",
            "Posición 58\n",
            "\tMomento 1: Exacto = 59 Estimación = 59.0\n",
            "\tMomento 2: Exacto = 395 Estimación = 410.64\n",
            "\tMomento 3: Exacto = 2897 Estimación = 3053.84\n",
            "Posición 59\n",
            "\tMomento 1: Exacto = 60 Estimación = 60.0\n",
            "\tMomento 2: Exacto = 408 Estimación = 429.6\n",
            "\tMomento 3: Exacto = 3024 Estimación = 3220.8\n",
            "Posición 60\n",
            "\tMomento 1: Exacto = 61 Estimación = 61.0\n",
            "\tMomento 2: Exacto = 417 Estimación = 427.0\n",
            "\tMomento 3: Exacto = 3085 Estimación = 3084.16\n",
            "Posición 61\n",
            "\tMomento 1: Exacto = 62 Estimación = 62.0\n",
            "\tMomento 2: Exacto = 428 Estimación = 431.52\n",
            "\tMomento 3: Exacto = 3176 Estimación = 3119.84\n",
            "Posición 62\n",
            "\tMomento 1: Exacto = 63 Estimación = 63.0\n",
            "\tMomento 2: Exacto = 439 Estimación = 435.96\n",
            "\tMomento 3: Exacto = 3267 Estimación = 3162.6\n",
            "Posición 63\n",
            "\tMomento 1: Exacto = 64 Estimación = 64.0\n",
            "\tMomento 2: Exacto = 456 Estimación = 463.36\n",
            "\tMomento 3: Exacto = 3484 Estimación = 3489.28\n",
            "Posición 64\n",
            "\tMomento 1: Exacto = 65 Estimación = 65.0\n",
            "\tMomento 2: Exacto = 469 Estimación = 478.4\n",
            "\tMomento 3: Exacto = 3611 Estimación = 3637.4\n",
            "Posición 65\n",
            "\tMomento 1: Exacto = 66 Estimación = 66.0\n",
            "\tMomento 2: Exacto = 488 Estimación = 496.32\n",
            "\tMomento 3: Exacto = 3882 Estimación = 3954.72\n",
            "Posición 66\n",
            "\tMomento 1: Exacto = 67 Estimación = 67.0\n",
            "\tMomento 2: Exacto = 503 Estimación = 514.56\n",
            "\tMomento 3: Exacto = 4051 Estimación = 4151.32\n",
            "Posición 67\n",
            "\tMomento 1: Exacto = 68 Estimación = 68.0\n",
            "\tMomento 2: Exacto = 510 Estimación = 527.68\n",
            "\tMomento 3: Exacto = 4088 Estimación = 4245.92\n",
            "Posición 68\n",
            "\tMomento 1: Exacto = 69 Estimación = 69.0\n",
            "\tMomento 2: Exacto = 521 Estimación = 543.72\n",
            "\tMomento 3: Exacto = 4179 Estimación = 4407.72\n",
            "Posición 69\n",
            "\tMomento 1: Exacto = 70 Estimación = 70.0\n",
            "\tMomento 2: Exacto = 536 Estimación = 565.6\n",
            "\tMomento 3: Exacto = 4348 Estimación = 4648.0\n",
            "Posición 70\n",
            "\tMomento 1: Exacto = 71 Estimación = 71.0\n",
            "\tMomento 2: Exacto = 549 Estimación = 579.36\n",
            "\tMomento 3: Exacto = 4475 Estimación = 4791.08\n",
            "Posición 71\n",
            "\tMomento 1: Exacto = 72 Estimación = 72.0\n",
            "\tMomento 2: Exacto = 564 Estimación = 601.92\n",
            "\tMomento 3: Exacto = 4644 Estimación = 5065.92\n",
            "Posición 72\n",
            "\tMomento 1: Exacto = 73 Estimación = 73.0\n",
            "\tMomento 2: Exacto = 583 Estimación = 610.28\n",
            "\tMomento 3: Exacto = 4915 Estimación = 5258.92\n",
            "Posición 73\n",
            "\tMomento 1: Exacto = 74 Estimación = 74.0\n",
            "\tMomento 2: Exacto = 596 Estimación = 627.52\n",
            "\tMomento 3: Exacto = 5042 Estimación = 5464.16\n",
            "Posición 74\n",
            "\tMomento 1: Exacto = 75 Estimación = 75.0\n",
            "\tMomento 2: Exacto = 613 Estimación = 648.0\n",
            "\tMomento 3: Exacto = 5259 Estimación = 5655.0\n",
            "Posición 75\n",
            "\tMomento 1: Exacto = 76 Estimación = 76.0\n",
            "\tMomento 2: Exacto = 628 Estimación = 668.8\n",
            "\tMomento 3: Exacto = 5428 Estimación = 5858.08\n",
            "Posición 76\n",
            "\tMomento 1: Exacto = 77 Estimación = 77.0\n",
            "\tMomento 2: Exacto = 647 Estimación = 686.84\n",
            "\tMomento 3: Exacto = 5699 Estimación = 6101.48\n",
            "Posición 77\n",
            "\tMomento 1: Exacto = 78 Estimación = 78.0\n",
            "\tMomento 2: Exacto = 668 Estimación = 720.72\n",
            "\tMomento 3: Exacto = 6030 Estimación = 6517.68\n",
            "Posición 78\n",
            "\tMomento 1: Exacto = 79 Estimación = 79.0\n",
            "\tMomento 2: Exacto = 691 Estimación = 755.24\n",
            "\tMomento 3: Exacto = 6427 Estimación = 7018.36\n",
            "Posición 79\n",
            "\tMomento 1: Exacto = 80 Estimación = 80.0\n",
            "\tMomento 2: Exacto = 708 Estimación = 784.0\n",
            "\tMomento 3: Exacto = 6644 Estimación = 7395.2\n",
            "Posición 80\n",
            "\tMomento 1: Exacto = 81 Estimación = 81.0\n",
            "\tMomento 2: Exacto = 729 Estimación = 810.0\n",
            "\tMomento 3: Exacto = 6975 Estimación = 7886.16\n",
            "Posición 81\n",
            "\tMomento 1: Exacto = 82 Estimación = 82.0\n",
            "\tMomento 2: Exacto = 746 Estimación = 826.56\n",
            "\tMomento 3: Exacto = 7192 Estimación = 8180.32\n",
            "Posición 82\n",
            "\tMomento 1: Exacto = 83 Estimación = 83.0\n",
            "\tMomento 2: Exacto = 765 Estimación = 843.28\n",
            "\tMomento 3: Exacto = 7463 Estimación = 8529.08\n",
            "Posición 83\n",
            "\tMomento 1: Exacto = 84 Estimación = 84.0\n",
            "\tMomento 2: Exacto = 786 Estimación = 870.24\n",
            "\tMomento 3: Exacto = 7794 Estimación = 9095.52\n",
            "Posición 84\n",
            "\tMomento 1: Exacto = 85 Estimación = 85.0\n",
            "\tMomento 2: Exacto = 809 Estimación = 887.4\n",
            "\tMomento 3: Exacto = 8191 Estimación = 9550.6\n",
            "Posición 85\n",
            "\tMomento 1: Exacto = 86 Estimación = 86.0\n",
            "\tMomento 2: Exacto = 818 Estimación = 901.28\n",
            "\tMomento 3: Exacto = 8252 Estimación = 9683.6\n",
            "Posición 86\n",
            "\tMomento 1: Exacto = 87 Estimación = 87.0\n",
            "\tMomento 2: Exacto = 829 Estimación = 894.36\n",
            "\tMomento 3: Exacto = 8343 Estimación = 9608.28\n",
            "Posición 87\n",
            "\tMomento 1: Exacto = 88 Estimación = 88.0\n",
            "\tMomento 2: Exacto = 844 Estimación = 904.64\n",
            "\tMomento 3: Exacto = 8512 Estimación = 9750.4\n",
            "Posición 88\n",
            "\tMomento 1: Exacto = 89 Estimación = 89.0\n",
            "\tMomento 2: Exacto = 867 Estimación = 918.48\n",
            "\tMomento 3: Exacto = 8909 Estimación = 10170.92\n",
            "Posición 89\n",
            "\tMomento 1: Exacto = 90 Estimación = 90.0\n",
            "\tMomento 2: Exacto = 886 Estimación = 925.2\n",
            "\tMomento 3: Exacto = 9180 Estimación = 10328.4\n",
            "Posición 90\n",
            "\tMomento 1: Exacto = 91 Estimación = 91.0\n",
            "\tMomento 2: Exacto = 903 Estimación = 906.36\n",
            "\tMomento 3: Exacto = 9397 Estimación = 9853.48\n",
            "Posición 91\n",
            "\tMomento 1: Exacto = 92 Estimación = 92.0\n",
            "\tMomento 2: Exacto = 920 Estimación = 920.0\n",
            "\tMomento 3: Exacto = 9614 Estimación = 10061.12\n",
            "Posición 92\n",
            "\tMomento 1: Exacto = 93 Estimación = 93.0\n",
            "\tMomento 2: Exacto = 941 Estimación = 930.0\n",
            "\tMomento 3: Exacto = 9945 Estimación = 10282.08\n",
            "Posición 93\n",
            "\tMomento 1: Exacto = 94 Estimación = 94.0\n",
            "\tMomento 2: Exacto = 954 Estimación = 943.76\n",
            "\tMomento 3: Exacto = 10072 Estimación = 10437.76\n",
            "Posición 94\n",
            "\tMomento 1: Exacto = 95 Estimación = 95.0\n",
            "\tMomento 2: Exacto = 973 Estimación = 969.0\n",
            "\tMomento 3: Exacto = 10343 Estimación = 10731.2\n",
            "Posición 95\n",
            "\tMomento 1: Exacto = 96 Estimación = 96.0\n",
            "\tMomento 2: Exacto = 998 Estimación = 971.52\n",
            "\tMomento 3: Exacto = 10812 Estimación = 10901.76\n",
            "Posición 96\n",
            "\tMomento 1: Exacto = 97 Estimación = 97.0\n",
            "\tMomento 2: Exacto = 1023 Estimación = 1008.8\n",
            "\tMomento 3: Exacto = 11281 Estimación = 11527.48\n",
            "Posición 97\n",
            "\tMomento 1: Exacto = 98 Estimación = 98.0\n",
            "\tMomento 2: Exacto = 1050 Estimación = 1038.8\n",
            "\tMomento 3: Exacto = 11828 Estimación = 12093.2\n",
            "Posición 98\n",
            "\tMomento 1: Exacto = 99 Estimación = 99.0\n",
            "\tMomento 2: Exacto = 1071 Estimación = 1065.24\n",
            "\tMomento 3: Exacto = 12159 Estimación = 12454.2\n",
            "Posición 99\n",
            "\tMomento 1: Exacto = 100 Estimación = 100.0\n",
            "\tMomento 2: Exacto = 1100 Estimación = 1072.0\n",
            "\tMomento 3: Exacto = 12790 Estimación = 12700.0\n"
          ]
        }
      ]
    }
  ]
}