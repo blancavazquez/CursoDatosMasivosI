{
  "nbformat": 4,
  "nbformat_minor": 0,
  "metadata": {
    "colab": {
      "name": "3a_funciones_hash.ipynb",
      "provenance": [],
      "collapsed_sections": [],
      "include_colab_link": true
    },
    "kernelspec": {
      "name": "python3",
      "display_name": "Python 3"
    }
  },
  "cells": [
    {
      "cell_type": "markdown",
      "metadata": {
        "id": "view-in-github",
        "colab_type": "text"
      },
      "source": [
        "<a href=\"https://colab.research.google.com/github/blancavazquez/CursoDatosMasivosI/blob/master/notebooks/3a_funciones_hash.ipynb\" target=\"_parent\"><img src=\"https://colab.research.google.com/assets/colab-badge.svg\" alt=\"Open In Colab\"/></a>"
      ]
    },
    {
      "cell_type": "markdown",
      "metadata": {
        "id": "Kloh2BluGySD"
      },
      "source": [
        "# Tablas y funciones _hash_\n",
        "## Tablas _hash_\n",
        "Una tabla _hash_ es una estructura de datos que puede almacenar objetos, la cual permite realizar operaciones de _inserción_, _eliminación_ y _búsqueda_. Esta estructura de datos es particularmente útil cuando el número de objetos a almacenar es mucho menor al de todos los posibles objetos. En lugar de usar los objetos como índices, estos se obtienen mediante una función \n",
        "\n",
        "$$\n",
        "h: \\mathcal{U} \\xrightarrow{} \\{0, \\ldots, m\\}\n",
        "$$\n",
        "\n",
        "donde $m$ es el tamaño de la tabla (es decir, el número de cubetas que tiene) y $\\mathcal{U}$ es el conjunto universal.\n",
        "\n",
        "Las operaciones más comúnes de una tabla _hash} son:\n",
        "\n",
        "* _Buscar_: Regresa la cubeta correspondiente al índice $h(x)$ en la tabla\n",
        "* _Insertar_: Agrega un objeto $x$, este se mapea a la cubeta $h(x)$\n",
        "* _Eliminar_: Quita el objeto $x$ de la cubeta $h(x)$\n",
        "\n",
        "\n",
        "En el caso ideal, el tiempo promedio para estas operaciones en una tabla _hash_ es $O(1)$.\n",
        "\n",
        "## Colisiones\n",
        "El valor de $m$ depende del tamaño y la variedad de objetos que queramos almacenar. En general, se busca tener un tamaño de tabla lo suficientemente grande para almacenar todas las objetos distintas pero no demasiado grande como para requerir una cantidad de memoria considerablemente mayor a la que se va a utilizar. Tener un tamaño de tabla pequeño en comparación al número de objetos resulta en mayores _colisiones_, las cuales ocurren cuando 2 objetos distintas $\\{x^{(i)}, x^{(j)}\\}, x^{(i)} \\ne x^{(j)}$ son mapeadas al mismo índice por la función _hash_ (es decir, $h(x^{(i)}) = h(x^{(j)})$). Al diseñar una función _hash_ se busca que sea rápida y fácil de calcular pero a la vez que tenga la mínima cantidad de colisiones. \n",
        "\n",
        "En muchas aplicaciones queremos reducir colisiones de objetos diferentes. Sin embargo, no es posible evitarlas por completo, por lo que es necesario emplear estrategias para lidiar con ellas. \n",
        "\n",
        "### Encadenamiento\n",
        "Una de las estrategias más comunes para resolver colisiones se conoce como _encadenamiento_ y consiste en que cada cubeta de la tabla almacena una lista enlazada con todos los objetos que han sido mapeados al índice correspondiente. Es decir, si 2 objetos $x^{(1)}$ y $x^{(2)}$ colisionan, ambos se insertan en la lista enlazada de la cubeta a la que fueron mapeados. Las operaciones sobre la tabla quedan de la siguiente manera:\n",
        "\n",
        "* _Buscar_: Examina si un objeto $x$ se encuentra en la lista enlazada de la cubeta correspondiente a $h(x)$.\n",
        "* _Insertar_: Agrega $x$ a la lista enlazada de la cubeta correspondiente a $h(x)$.\n",
        "* _Eliminar_: Busca el objeto $x$ en $h(x)$ y lo elimina de la lista enlazada.\n",
        "\n",
        "En el mejor escenario todos los objetos se mapean distintos índices. En el caso ideal el tiempo de estas operaciones se mantiene como $O(1)$ pero en promedio es $\\Theta(1 + \\ell)$ para buscar y eliminar, donde $\\ell = \\tfrac{n}{m}$ es el tamaño esperado de las listas enlazadas.\n",
        "\n",
        "### Direccionamiento abierto\n",
        "Otro método común para resolver colisiones es el _direccionamiento abierto_, en el cual se sondean cubetas hasta encontrar alguna libre o la que contiene el objeto que se busca. Hay varias formas de realizar el sondeo: lineal, cuadrático o usando doble mapeo.\n",
        "\n",
        "## Familias de funciones\n",
        "La idea es definir una familia de funciones $\\mathcal{H}$ y seleccionar $h$ de forma aleatoria e independiente de los objetos $x$.\n",
        "\n",
        "## Propiedades de las funciones _hash_\n",
        "De manera más específica es deseable que las funciones _hash_ $h$ tengan las siguiente Popiedades:\n",
        "\n",
        "* Uniformidad: Si todos los índices son igualmente probables. La probabilidad de generar un valor es $\\tfrac{1}{m}$, donde $m$ es el número de valores diferentes. Esto es, el número esperado de objetos distintos que se mapean a cada índice valor es el mismo.\n",
        "  $$\n",
        "    P_{h\\in\\mathcal{H}}[h(x) = i] = \\frac{1}{m}, \\text{para cada $x$ y cada $i$}\n",
        "  $$\n",
        "* _Universal_: Si la familia de funciones minimiza el número de colisiones. \n",
        "    $$\n",
        "    P_{h\\in\\mathcal{H}}[h(x) = h(y)] \\leq \\frac{1}{m}, \\text{para cada $x \\ne y$}\n",
        "    $$\n",
        "_Casi-universal_: Si la familia de funciones es cercana a ser universal\n",
        "    $$\n",
        "    P_{h\\in\\mathcal{H}}[h(x) = h(y)] \\leq \\frac{2}{m}, \\text{para cada $x \\ne y$}\n",
        "    $$"
      ]
    },
    {
      "cell_type": "code",
      "metadata": {
        "id": "CC0DKWNfsUea"
      },
      "source": [
        "from abc import ABC, abstractmethod \n",
        "from math import floor, sqrt, exp\n",
        "\n",
        "import random\n",
        "\n",
        "import numpy as np\n",
        "import matplotlib.pyplot as plt\n",
        "\n",
        "# Para reproducibilidad\n",
        "semilla = 123\n",
        "random.seed(semilla)\n",
        "np.random.seed(semilla)"
      ],
      "execution_count": 1,
      "outputs": []
    },
    {
      "cell_type": "markdown",
      "metadata": {
        "id": "LzpEX9EnsYbJ"
      },
      "source": [
        "## Diccionarios en Python\n",
        "Los diccionarios de Python se llevan a cabo a través de tablas _hash_. Por ej. podemos almacenar 2 conjuntos usando esta estructura de datos."
      ]
    },
    {
      "cell_type": "code",
      "metadata": {
        "id": "j2g9kfBkGLWY",
        "colab": {
          "base_uri": "https://localhost:8080/"
        },
        "outputId": "ab39768c-7d11-4254-dd95-f1fe2927eacb"
      },
      "source": [
        "o = {}\n",
        "o['O1']=(0, 2, 0, 4)\n",
        "o['O2']=(1, 2, 0, 2)\n",
        "    \n",
        "print('O1 = {0}, O2 = {1}'.format(o['O1'], o['O2']))"
      ],
      "execution_count": 2,
      "outputs": [
        {
          "output_type": "stream",
          "name": "stdout",
          "text": [
            "O1 = (0, 2, 0, 4), O2 = (1, 2, 0, 2)\n"
          ]
        }
      ]
    },
    {
      "cell_type": "markdown",
      "metadata": {
        "id": "zWBin6p2cuvT"
      },
      "source": [
        "También es posible hacer lo contrario."
      ]
    },
    {
      "cell_type": "code",
      "metadata": {
        "id": "fMYNPZw7Hy10",
        "colab": {
          "base_uri": "https://localhost:8080/"
        },
        "outputId": "8037687b-9cec-47a1-bcfc-ca47f3354c12"
      },
      "source": [
        "o2 = {}\n",
        "o2[(0,2,0,4)]='O1'\n",
        "o2[(1,2,0,2)]='O2'\n",
        "\n",
        "print('(0,2,0,4) = {0}'.format(o2[(0,2,0,4)]))\n",
        "print('(1,2,0,2) = {0}'.format(o2[(1,2,0,2)]))"
      ],
      "execution_count": 3,
      "outputs": [
        {
          "output_type": "stream",
          "name": "stdout",
          "text": [
            "(0,2,0,4) = O1\n",
            "(1,2,0,2) = O2\n"
          ]
        }
      ]
    },
    {
      "cell_type": "markdown",
      "metadata": {
        "id": "Y_8p2EEkdKIT"
      },
      "source": [
        "Más generalmente podemos crear diccionarios usando cualquier tipo o estructura de datos al que se le pueda aplicar la función `hash`."
      ]
    },
    {
      "cell_type": "code",
      "metadata": {
        "id": "F3kQ3QIMt31C",
        "colab": {
          "base_uri": "https://localhost:8080/"
        },
        "outputId": "184e0fde-038c-425d-f7d3-fb7a073193f3"
      },
      "source": [
        "print('Hash de 1 es {0}'.format(hash(1)))\n",
        "print('Hash de 3.14 es {0}'.format(hash(3.14)))\n",
        "print('Hash de \\'10\\' es {0}'.format(hash('10')))\n",
        "print('Hash de (1,2) es {0}'.format(hash((1,2))))\n",
        "print('Hash de (1,2,0,2) es {0}'.format(hash((1,2,0,2))))"
      ],
      "execution_count": 4,
      "outputs": [
        {
          "output_type": "stream",
          "name": "stdout",
          "text": [
            "Hash de 1 es 1\n",
            "Hash de 3.14 es 322818021289917443\n",
            "Hash de '10' es 1858140495788839019\n",
            "Hash de (1,2) es 3713081631934410656\n",
            "Hash de (1,2,0,2) es 485695305516660284\n"
          ]
        }
      ]
    },
    {
      "cell_type": "code",
      "source": [
        "print(o)"
      ],
      "metadata": {
        "colab": {
          "base_uri": "https://localhost:8080/"
        },
        "id": "ak1n-1DDte6b",
        "outputId": "207e8389-df7e-4b9a-c66b-44b9c6800157"
      },
      "execution_count": 5,
      "outputs": [
        {
          "output_type": "stream",
          "name": "stdout",
          "text": [
            "{'O1': (0, 2, 0, 4), 'O2': (1, 2, 0, 2)}\n"
          ]
        }
      ]
    },
    {
      "cell_type": "markdown",
      "metadata": {
        "id": "tiEa7s_Hd4MD"
      },
      "source": [
        "## Creando tablas _hash_ en Python\n",
        "Definimos una clase abstracta para nuestra estructura de datos, especificando sus métodos principales."
      ]
    },
    {
      "cell_type": "code",
      "metadata": {
        "id": "IGU0o6sIOXrq"
      },
      "source": [
        "class TablaHash(ABC):\n",
        "  def __init__(self, n_cubetas):\n",
        "    self.n_cubetas = n_cubetas\n",
        "    self.tabla = [[] for i in range(n_cubetas)]\n",
        "\n",
        "  def __getitem__(self, x):\n",
        "    return self.tabla[self.h(x)]\n",
        "\n",
        "  def __repr__(self):\n",
        "    contenido = ['%d::%s' % (i, self.tabla[i]) for i in range(self.n_cubetas)]\n",
        "    return \"<TablaHash :%s >\" % ('\\n'.join(contenido))\n",
        "\n",
        "  def __str__(self):\n",
        "    contenido = ['%d::%s' % (i, self.tabla[i]) for i in range(self.n_cubetas) if self.tabla[i]]\n",
        "    return '\\n'.join(contenido)\n",
        "\n",
        "  @abstractmethod\n",
        "  def h(self, x):\n",
        "    pass\n",
        "\n",
        "  @abstractmethod\n",
        "  def insertar(self, x):\n",
        "    pass\n",
        "\n",
        "  @abstractmethod\n",
        "  def buscar(self, x):\n",
        "    pass\n",
        "    \n",
        "  @abstractmethod\n",
        "  def eliminar(self, x):\n",
        "    pass"
      ],
      "execution_count": 6,
      "outputs": []
    },
    {
      "cell_type": "markdown",
      "metadata": {
        "id": "AMITzCIgLoTW"
      },
      "source": [
        "## Familia $\\mathcal{H}$ por método de división\n",
        "Comúnmente se busca diseñar funciones _hash_ $h$ que sean independientes de los objetos a almacenar. Un método general para crear funciones _hash_ se conoce como el _método de división_ y consiste en usar el residuo de la división del objeto y el tamaño de la tabla $m$, esto es,\n",
        "\n",
        "\\begin{equation}\n",
        "    h(x) = x \\mod{m}\n",
        "\\end{equation}\n",
        "\n",
        "Es conveniente usar un número primo para $m$.\n",
        "\n",
        "Definimos una clase hija de `TablaHash` que implemente la función anterior. Para resolver colisiones usamos encadenamiento, esto es, cada cubeta o registro de la tabla es una lista que contiene todos los objetos que son mapeados al índice correspondiente."
      ]
    },
    {
      "cell_type": "code",
      "metadata": {
        "id": "GQuJ8Q32HXyK"
      },
      "source": [
        "class THMod(TablaHash):\n",
        "  def h(self, x):\n",
        "    return x % self.n_cubetas\n",
        "\n",
        "  def insertar(self, x):\n",
        "    self.tabla[self.h(x)].append(x)\n",
        "  \n",
        "  def buscar(self, x):\n",
        "    return x in self.tabla[self.h(x)]\n",
        "      \n",
        "  def eliminar(self, x):\n",
        "    self.tabla[self.h(x)].remove(x)"
      ],
      "execution_count": 7,
      "outputs": []
    },
    {
      "cell_type": "markdown",
      "metadata": {
        "id": "vAKYQ7ISu8-8"
      },
      "source": [
        "Probemos nuestra tabla con un conjunto 5 de números"
      ]
    },
    {
      "cell_type": "code",
      "metadata": {
        "id": "i-_9o9IGM3vi",
        "colab": {
          "base_uri": "https://localhost:8080/"
        },
        "outputId": "ec623213-b338-4abb-ecae-1cd9265188ae"
      },
      "source": [
        "enteros = [1, 10, 36, 78, 93]\n",
        "n_cubetas = 11\n",
        "\n",
        "thmod = THMod(n_cubetas)\n",
        "for i,e in enumerate(enteros):\n",
        "  thmod.insertar(e)\n",
        "print(thmod)"
      ],
      "execution_count": 8,
      "outputs": [
        {
          "output_type": "stream",
          "name": "stdout",
          "text": [
            "1::[1, 78]\n",
            "3::[36]\n",
            "5::[93]\n",
            "10::[10]\n"
          ]
        }
      ]
    },
    {
      "cell_type": "markdown",
      "metadata": {
        "id": "bXFhCKJ_TI3x"
      },
      "source": [
        "¿Qué pasa si tenemos una lista de objetos más grande?"
      ]
    },
    {
      "cell_type": "code",
      "metadata": {
        "id": "RILzRoZgTRMz",
        "colab": {
          "base_uri": "https://localhost:8080/"
        },
        "outputId": "8f03f4bf-98fa-48be-a40c-bdf0e922018e"
      },
      "source": [
        "enteros = [12454, 73523, 9865, 12310, 12, 864189, 882113, 27, 36, 39654, 4, 481, 1155, 634, 69, 782, 1232, 9433]\n",
        "\n",
        "thmod_mas = THMod(n_cubetas)\n",
        "for i,e in enumerate(enteros):\n",
        "  thmod_mas.insertar(e)\n",
        "print(thmod_mas)"
      ],
      "execution_count": 9,
      "outputs": [
        {
          "output_type": "stream",
          "name": "stdout",
          "text": [
            "0::[1155, 1232]\n",
            "1::[12310, 12, 882113, 782]\n",
            "2::[12454]\n",
            "3::[36, 69]\n",
            "4::[4]\n",
            "5::[27]\n",
            "6::[9433]\n",
            "7::[864189, 634]\n",
            "8::[481]\n",
            "9::[9865]\n",
            "10::[73523, 39654]\n"
          ]
        }
      ]
    },
    {
      "cell_type": "markdown",
      "metadata": {
        "id": "TSiy9M6r3PJy"
      },
      "source": [
        "Para evitar colisiones podemos aumentar el tamaño de la tabla. Suponiendo que  la función anterior es uniforme, ¿cuál sería la probabilidad de colisión si deseamos almacenar $n$ objetos en una tabla de tamaño $m$? Podemos calcular esta probabilidad como el complemento de la probabilidad que no haya colisión.\n",
        "\n",
        "$$\n",
        "\\begin{align*}\n",
        "Pr[h(x) = h(y)] & = 1 - P[h(x) \\ne h(y)] \\\\\n",
        "& =  1 - \\frac{m}{m} \\times \\frac{m - 1}{m} \\times \\cdots \\times \\frac{m - n + 1}{m} \n",
        "\\end{align*}\n",
        "$$"
      ]
    },
    {
      "cell_type": "code",
      "metadata": {
        "id": "kMT0iboe14bR"
      },
      "source": [
        "def cumple(m, n):\n",
        "  prod = 1\n",
        "  for i in range(n):\n",
        "    prod *= (m - i) / m\n",
        "  \n",
        "  return 1.0 - prod"
      ],
      "execution_count": 10,
      "outputs": []
    },
    {
      "cell_type": "markdown",
      "metadata": {
        "id": "bRQr5CctiScX"
      },
      "source": [
        "Este problema está relacionado a la _paradoja del cumpleaños_, en el cual se tienen un conjunto $n$ de personas y se busca calular la probabilidad de que al menos 2 personas cumplan años el mismo día. En este caso las probabilidades para diferentes valores de $n$ quedan de la siguiente manera:"
      ]
    },
    {
      "cell_type": "code",
      "metadata": {
        "id": "w9mHjqz95XDv",
        "colab": {
          "base_uri": "https://localhost:8080/",
          "height": 265
        },
        "outputId": "77d976ca-db16-4691-b2fb-8805b3a1048a"
      },
      "source": [
        "import matplotlib.pyplot as plt\n",
        "\n",
        "pcs = []\n",
        "n_personas = range(1,90,5)\n",
        "for n in n_personas:\n",
        "  pcs.append(cumple(365, n))\n",
        "\n",
        "plt.plot(range(1,90,5), pcs)\n",
        "plt.show()"
      ],
      "execution_count": 11,
      "outputs": [
        {
          "output_type": "display_data",
          "data": {
            "text/plain": [
              "<Figure size 432x288 with 1 Axes>"
            ],
            "image/png": "[encoded data removed]"
          },
          "metadata": {
            "needs_background": "light"
          }
        }
      ]
    },
    {
      "cell_type": "markdown",
      "metadata": {
        "id": "0TU3w1E_qr1y"
      },
      "source": [
        "Regresando al problema de las colisiones en nuestra tabla, las probabilidades para $m = 11$  serían"
      ]
    },
    {
      "cell_type": "code",
      "metadata": {
        "id": "ojLz5tbx6k9Y",
        "colab": {
          "base_uri": "https://localhost:8080/",
          "height": 265
        },
        "outputId": "6076515d-1e06-448a-fa70-e4949b3f8053"
      },
      "source": [
        "pcs = []\n",
        "n_personas = range(1,20,5)\n",
        "for n in n_personas:\n",
        "  pcs.append(cumple(11, n))\n",
        "\n",
        "plt.plot(n_personas, pcs)\n",
        "plt.show()"
      ],
      "execution_count": 12,
      "outputs": [
        {
          "output_type": "display_data",
          "data": {
            "text/plain": [
              "<Figure size 432x288 with 1 Axes>"
            ],
            "image/png": "[encoded data removed]"
          },
          "metadata": {
            "needs_background": "light"
          }
        }
      ]
    },
    {
      "cell_type": "markdown",
      "metadata": {
        "id": "o-gYft-0rL9r"
      },
      "source": [
        "Podemos hacer más grande el tamaño de la tabla para reducir el número de colisiones. La probabilidad de colisión para $n = 18$ y diferentes valores de $m$ es"
      ]
    },
    {
      "cell_type": "code",
      "metadata": {
        "id": "xyEbrSUG8rxZ"
      },
      "source": [
        "emes = range(1, 1500, 100)\n",
        "n = len(enteros)\n",
        "probs = []\n",
        "for m in emes:\n",
        "  probs.append(cumple(m, n))"
      ],
      "execution_count": 13,
      "outputs": []
    },
    {
      "cell_type": "markdown",
      "metadata": {
        "id": "zGtRphZirk22"
      },
      "source": [
        "En lugar de hacer el cálculo de la probabilidad exacta con la función `cumple`, es posible aproximarla de la siguiente manera:\n",
        "\n",
        "$$\n",
        "P[h(x) = h(y)] \\approx 1 - e^{\\frac{-n^2}{2m}}\n",
        "$$"
      ]
    },
    {
      "cell_type": "code",
      "metadata": {
        "id": "KIIsqfCcrhlO"
      },
      "source": [
        "def cumple_aprox(m, n):\n",
        "  return 1.0 - exp((-n**2) / (2 * m))\n",
        "\n",
        "aprox = []\n",
        "for m in emes:\n",
        "  aprox.append(cumple_aprox(m, n))"
      ],
      "execution_count": 14,
      "outputs": []
    },
    {
      "cell_type": "markdown",
      "metadata": {
        "id": "3j3jk8IusOSr"
      },
      "source": [
        "Graficamos las probabilidades de colisión con diferentes tamaños de tabla calculadas con las 2 estrategias"
      ]
    },
    {
      "cell_type": "code",
      "metadata": {
        "id": "vDfSsytp-88j",
        "colab": {
          "base_uri": "https://localhost:8080/",
          "height": 265
        },
        "outputId": "8ead0473-57bc-4f37-ea00-92ed30a141fa"
      },
      "source": [
        "plt.plot(emes, probs, label='$P[h(x) = h(y)]$')\n",
        "plt.plot(emes, aprox, label='Aproximación')\n",
        "plt.legend()\n",
        "plt.show()"
      ],
      "execution_count": 15,
      "outputs": [
        {
          "output_type": "display_data",
          "data": {
            "text/plain": [
              "<Figure size 432x288 with 1 Axes>"
            ],
            "image/png": "[encoded data removed]"
          },
          "metadata": {
            "needs_background": "light"
          }
        }
      ]
    },
    {
      "cell_type": "markdown",
      "metadata": {
        "id": "XgyHZrdn94EL"
      },
      "source": [
        "Asimismo, podemos calcular el número esperado de colisiones para valores dados de $m$ y $n$ de la siguiente manera\n",
        "\n",
        "$$\n",
        "\\mathbb{E}[\\text{colisiones}] = n - m \\cdot \\left(1 - \\frac{m - 1}{m}\\right)^{n}\n",
        "$$"
      ]
    },
    {
      "cell_type": "code",
      "metadata": {
        "id": "LPY_Jzos7lkv"
      },
      "source": [
        "def n_colisiones_esperado(m, n): \n",
        "  return n - m * (1 - ((m - 1) / m)**n)"
      ],
      "execution_count": 16,
      "outputs": []
    },
    {
      "cell_type": "markdown",
      "metadata": {
        "id": "zBNPy3if-bES"
      },
      "source": [
        "Para una tabla con 11 cubetas y 18 números a almacenar esperaríamos el siguiente número de colisiones:"
      ]
    },
    {
      "cell_type": "code",
      "metadata": {
        "colab": {
          "base_uri": "https://localhost:8080/"
        },
        "id": "eI8CadG0-n-q",
        "outputId": "69ef7809-9767-465b-d153-3d0995b83709"
      },
      "source": [
        "n_colisiones_esperado(11, 18)"
      ],
      "execution_count": 17,
      "outputs": [
        {
          "output_type": "execute_result",
          "data": {
            "text/plain": [
              "8.978446689001352"
            ]
          },
          "metadata": {},
          "execution_count": 17
        }
      ]
    },
    {
      "cell_type": "markdown",
      "metadata": {
        "id": "N6FfAyzb_RJa"
      },
      "source": [
        "El número de colisiones que ocurrieron para el caso anterior fue:"
      ]
    },
    {
      "cell_type": "code",
      "metadata": {
        "colab": {
          "base_uri": "https://localhost:8080/"
        },
        "id": "B-7d7krN_cr4",
        "outputId": "98ff23c0-c540-4216-9938-32db2167ec13"
      },
      "source": [
        "sum([len(c) - 1 for c in thmod_mas.tabla if len(c) > 1])"
      ],
      "execution_count": 18,
      "outputs": [
        {
          "output_type": "execute_result",
          "data": {
            "text/plain": [
              "7"
            ]
          },
          "metadata": {},
          "execution_count": 18
        }
      ]
    },
    {
      "cell_type": "markdown",
      "metadata": {
        "id": "hZD6XQnlshN0"
      },
      "source": [
        "Si aumentamos el tamaño de la tabla a 281 cubetas esperaríamos"
      ]
    },
    {
      "cell_type": "code",
      "metadata": {
        "colab": {
          "base_uri": "https://localhost:8080/"
        },
        "id": "uh9WukVJ-V7p",
        "outputId": "39c665cb-d236-441b-b4bd-b912fdb2e6f0"
      },
      "source": [
        "n_cubetas = 281\n",
        "n_colisiones_esperado(n_cubetas, 18)"
      ],
      "execution_count": 19,
      "outputs": [
        {
          "output_type": "execute_result",
          "data": {
            "text/plain": [
              "0.5342863185881868"
            ]
          },
          "metadata": {},
          "execution_count": 19
        }
      ]
    },
    {
      "cell_type": "markdown",
      "metadata": {
        "id": "upLmanZsoNAW"
      },
      "source": [
        "Registremos los números en una tabla con este número de cubetas"
      ]
    },
    {
      "cell_type": "code",
      "metadata": {
        "id": "A8OP_YyK3OkC",
        "colab": {
          "base_uri": "https://localhost:8080/"
        },
        "outputId": "e67f4e8d-072e-4258-a4df-85cfa314490d"
      },
      "source": [
        "thmod_grande = THMod(n_cubetas)\n",
        "for i,e in enumerate(enteros):\n",
        "  thmod_grande.insertar(e)\n",
        "print(thmod_grande)"
      ],
      "execution_count": 20,
      "outputs": [
        {
          "output_type": "stream",
          "name": "stdout",
          "text": [
            "4::[4]\n",
            "12::[12]\n",
            "27::[27]\n",
            "30::[9865]\n",
            "31::[1155]\n",
            "33::[39654]\n",
            "36::[36]\n",
            "54::[882113]\n",
            "69::[69]\n",
            "72::[634]\n",
            "90::[12454]\n",
            "108::[1232]\n",
            "114::[864189]\n",
            "160::[9433]\n",
            "182::[73523]\n",
            "200::[481]\n",
            "220::[782]\n",
            "227::[12310]\n"
          ]
        }
      ]
    },
    {
      "cell_type": "markdown",
      "metadata": {
        "id": "Fmw1cWIX9dU8"
      },
      "source": [
        "Si tenemos más números para almacenar, el número esperado de colisiones sería:"
      ]
    },
    {
      "cell_type": "code",
      "metadata": {
        "colab": {
          "base_uri": "https://localhost:8080/"
        },
        "id": "G2vHxlXT9DUa",
        "outputId": "00b2fa70-2945-453e-feee-e9463b53edd4"
      },
      "source": [
        "n_objetos = 200\n",
        "n_colisiones_esperado(n_cubetas, n_objetos)"
      ],
      "execution_count": 21,
      "outputs": [
        {
          "output_type": "execute_result",
          "data": {
            "text/plain": [
              "56.73636182748538"
            ]
          },
          "metadata": {},
          "execution_count": 21
        }
      ]
    },
    {
      "cell_type": "markdown",
      "metadata": {
        "id": "XbKWF7q-0wSf"
      },
      "source": [
        "# Veamos que pasa con nuestra tabla anterior si almacenamos 200 números"
      ]
    },
    {
      "cell_type": "code",
      "metadata": {
        "id": "z44oPSYf04Hk",
        "colab": {
          "base_uri": "https://localhost:8080/"
        },
        "outputId": "499c9b02-c14a-4b8e-e80a-3d46cca3a4c0"
      },
      "source": [
        "conj = np.random.randint(1000, high=5890123, size=n_objetos)\n",
        "thmod_mas_grande = THMod(n_cubetas)\n",
        "for i,e in enumerate(conj):\n",
        "  thmod_mas_grande.insertar(e)\n",
        "print(thmod_mas_grande)"
      ],
      "execution_count": 22,
      "outputs": [
        {
          "output_type": "stream",
          "name": "stdout",
          "text": [
            "2::[189396]\n",
            "6::[555543]\n",
            "8::[821652]\n",
            "11::[4968934]\n",
            "14::[1956898]\n",
            "17::[5309512]\n",
            "19::[822787]\n",
            "21::[4090819]\n",
            "22::[5231680, 3817407]\n",
            "23::[1574185]\n",
            "25::[3710068, 347060]\n",
            "27::[48078]\n",
            "28::[4617139, 2289897]\n",
            "29::[3439750]\n",
            "30::[41337, 4024793]\n",
            "31::[1720313, 628628]\n",
            "32::[1242052, 2292430]\n",
            "33::[2978633, 5600644]\n",
            "38::[4327719]\n",
            "41::[2166551, 337803]\n",
            "42::[1324114, 4154065]\n",
            "43::[892780]\n",
            "44::[211637, 1749269]\n",
            "46::[3454379]\n",
            "47::[1650360, 220632]\n",
            "48::[2821569]\n",
            "49::[2707203]\n",
            "51::[621904]\n",
            "52::[5387103]\n",
            "55::[755102]\n",
            "57::[1963123]\n",
            "60::[4242879]\n",
            "61::[57385]\n",
            "63::[1917045]\n",
            "65::[3839087]\n",
            "66::[5603206]\n",
            "67::[1779359]\n",
            "68::[3777270]\n",
            "69::[2742067]\n",
            "70::[5643674]\n",
            "71::[1435419]\n",
            "72::[970365, 2344174]\n",
            "74::[1885584]\n",
            "76::[5130574]\n",
            "82::[276586]\n",
            "83::[1563848]\n",
            "85::[2670428]\n",
            "87::[4657381]\n",
            "89::[2411350]\n",
            "91::[153798]\n",
            "94::[971230]\n",
            "96::[310882]\n",
            "99::[3021130, 1952206]\n",
            "100::[3287238]\n",
            "102::[1271627]\n",
            "104::[1493619]\n",
            "105::[4791155]\n",
            "106::[1594219]\n",
            "107::[3656479, 4487958]\n",
            "108::[267339, 1198011, 337870, 4679039]\n",
            "109::[175172]\n",
            "110::[3265611]\n",
            "111::[1269950]\n",
            "112::[250764]\n",
            "115::[4606267, 2057878]\n",
            "117::[278869, 3164458, 2205686]\n",
            "120::[981934]\n",
            "123::[2658102]\n",
            "131::[462376, 3218143]\n",
            "132::[642217, 2084309, 5449003]\n",
            "133::[5777493]\n",
            "134::[3698656]\n",
            "137::[726522, 3561812]\n",
            "138::[4724310]\n",
            "139::[5804194]\n",
            "141::[5089613]\n",
            "142::[4991264]\n",
            "143::[545845]\n",
            "145::[983083]\n",
            "147::[2675548, 2600521, 5330155, 2633398]\n",
            "153::[170158, 4214310]\n",
            "154::[3666361]\n",
            "159::[3892571]\n",
            "160::[3281116]\n",
            "163::[3577574]\n",
            "167::[2449363]\n",
            "172::[1319748, 1978974]\n",
            "174::[3450292]\n",
            "175::[3165640]\n",
            "177::[4224731]\n",
            "178::[2379967]\n",
            "180::[1956783]\n",
            "182::[3241798]\n",
            "183::[3800146, 4006681, 192668]\n",
            "184::[2631187, 2423528]\n",
            "185::[4223334]\n",
            "186::[1819380, 210093]\n",
            "189::[5128439]\n",
            "192::[3250238]\n",
            "194::[2616304]\n",
            "197::[307330]\n",
            "202::[3890085, 1889646, 4600734]\n",
            "203::[3088955, 2934686]\n",
            "204::[1990246, 1480231]\n",
            "211::[4332107, 812863]\n",
            "213::[2481724, 4506048]\n",
            "214::[3157530, 2596373]\n",
            "215::[5193657]\n",
            "216::[933136]\n",
            "217::[337698, 708899, 4813185]\n",
            "219::[5780389]\n",
            "221::[4324249]\n",
            "225::[2294871, 2080187]\n",
            "229::[2597793]\n",
            "231::[5844750, 2929656]\n",
            "232::[5777873, 3122423]\n",
            "233::[5493783]\n",
            "234::[4941057]\n",
            "235::[3140129, 3989592]\n",
            "239::[1410016]\n",
            "240::[3109505, 3921314]\n",
            "241::[4999231, 3352009]\n",
            "243::[1823933, 311029]\n",
            "246::[1295375, 2247122]\n",
            "247::[1270367, 1640163]\n",
            "248::[2911970]\n",
            "250::[2059699]\n",
            "251::[102816]\n",
            "252::[655544, 593162, 1627523, 143843]\n",
            "255::[2693640, 4101169]\n",
            "258::[5290083, 3300041]\n",
            "261::[1832662, 4513402]\n",
            "263::[2787502]\n",
            "265::[5219559, 5540461]\n",
            "267::[4674140, 5423286]\n",
            "268::[5048714, 3929210]\n",
            "269::[502416]\n",
            "270::[3484389]\n",
            "274::[4982966]\n",
            "279::[3201993]\n"
          ]
        }
      ]
    },
    {
      "cell_type": "markdown",
      "metadata": {
        "id": "1FGxZ9lBoiPt"
      },
      "source": [
        "Examinemos la cantidad de números mapeados a cada cubeta por nuestra función _hash_"
      ]
    },
    {
      "cell_type": "code",
      "metadata": {
        "colab": {
          "base_uri": "https://localhost:8080/",
          "height": 279
        },
        "id": "sh3sEIWuAtzy",
        "outputId": "e86fb36e-bce3-4b80-e979-81736a4c91e1"
      },
      "source": [
        "cubetas = [c for c in range(n_cubetas)]\n",
        "tam_cubetas = [len(c) for c in thmod_mas_grande.tabla]\n",
        "plt.bar(cubetas, tam_cubetas)\n",
        "plt.xlabel('Cubeta')\n",
        "plt.ylabel(u'Número de colisiones')\n",
        "plt.show()"
      ],
      "execution_count": 23,
      "outputs": [
        {
          "output_type": "display_data",
          "data": {
            "text/plain": [
              "<Figure size 432x288 with 1 Axes>"
            ],
            "image/png": "[encoded data removed]"
          },
          "metadata": {
            "needs_background": "light"
          }
        }
      ]
    },
    {
      "cell_type": "markdown",
      "metadata": {
        "id": "GpHPzx5iowTF"
      },
      "source": [
        "El número de colisiones que ocurrieron es"
      ]
    },
    {
      "cell_type": "code",
      "metadata": {
        "colab": {
          "base_uri": "https://localhost:8080/"
        },
        "id": "oEvBoCvU7wAK",
        "outputId": "ec8895e1-3a8a-4bef-8028-4ccc26d2eadb"
      },
      "source": [
        "sum([len(c) - 1 for c in thmod_mas_grande.tabla if len(c) > 1])"
      ],
      "execution_count": 24,
      "outputs": [
        {
          "output_type": "execute_result",
          "data": {
            "text/plain": [
              "60"
            ]
          },
          "metadata": {},
          "execution_count": 24
        }
      ]
    },
    {
      "cell_type": "markdown",
      "metadata": {
        "id": "NdBQD3U2vSds"
      },
      "source": [
        "## Direccionamiento abierto\n",
        "\n",
        "En lugar de usar encadenamiento, podemos usar direccionamiento abierto resolver colisiones. En esta estrategia, si hay una colisión, se sondean otras cubetas o registros en la tabla hasta encontrar una libre. Si no hay ninguna disponible decimos que la tabla está llena y es necesario aumentar su tamaño para poder almacenar más objetos. \n",
        "\n",
        "Para determinar el siguiente índice a examinar es necesario extender la función hash para que incorpore la información de índice. Esta función debe garantizar que se examinen todos los índices en caso de que ninguno esté disponible. \n",
        "\n",
        "### Sondeo lineal\n",
        "Una estrategia común para extender nuestra función _hash_ es el sondeo lineal, el cual está dado por\n",
        "\n",
        "$$\n",
        "h(x, i) = (h'(x) + i)\\mod{m}\n",
        "$$\n"
      ]
    },
    {
      "cell_type": "code",
      "metadata": {
        "id": "hQR1PIsnyCPt"
      },
      "source": [
        "class THOA(TablaHash):\n",
        "  def __init__(self, n_cubetas):\n",
        "    super().__init__(n_cubetas)\n",
        "    self.colisiones = np.zeros(n_cubetas)\n",
        "\n",
        "  def sl(self, cubeta, i):\n",
        "    return (cubeta + i) % self.n_cubetas\n",
        "\n",
        "  def insertar(self, x):\n",
        "    llena = True\n",
        "    cubeta = self.h(x)  \n",
        "    self.colisiones[cubeta] += 1\n",
        "    for i in range(self.n_cubetas):\n",
        "      ind = self.sl(cubeta, i)\n",
        "      if not self.tabla[ind]:\n",
        "        self.tabla[ind].append(x)\n",
        "        llena = False\n",
        "        break\n",
        "\n",
        "    if llena:\n",
        "      print('Tabla llena')\n",
        "\n",
        "  def buscar(self, x):\n",
        "    cubeta = self.h(x)\n",
        "    for i in range(self.n_cubetas):\n",
        "      ind = self.sl(cubeta, i)\n",
        "      if self.tabla[ind][0] == x:\n",
        "        return ind\n",
        "\n",
        "    return -1\n",
        "\n",
        "  def eliminar(self, x):\n",
        "    cubeta = self.h(x)\n",
        "    for i in range(self.n_cubetas):\n",
        "      ind = self.sl(cubeta, i)\n",
        "      if self.tabla[ind][0] == x:\n",
        "        self.tabla[ind].remove(x)\n",
        "        return ind\n",
        "        \n",
        "    return -1\n",
        "\n",
        "class THModOA(THOA):\n",
        "  def h(self, x):\n",
        "    return x % self.n_cubetas  "
      ],
      "execution_count": 25,
      "outputs": []
    },
    {
      "cell_type": "markdown",
      "metadata": {
        "id": "XYg-6MR01hXF"
      },
      "source": [
        "Intentemos nuevamente con el conjunto anterior usando esta estrategia"
      ]
    },
    {
      "cell_type": "code",
      "metadata": {
        "id": "ZLhbdp9P1oFV",
        "colab": {
          "base_uri": "https://localhost:8080/"
        },
        "outputId": "def6586d-6c3c-4e3f-8ef7-84da17ebdb87"
      },
      "source": [
        "thmodoa = THModOA(n_cubetas)\n",
        "for i,e in enumerate(conj):\n",
        "  thmodoa.insertar(e)\n",
        "print(thmodoa)"
      ],
      "execution_count": 26,
      "outputs": [
        {
          "output_type": "stream",
          "name": "stdout",
          "text": [
            "2::[189396]\n",
            "6::[555543]\n",
            "8::[821652]\n",
            "11::[4968934]\n",
            "14::[1956898]\n",
            "17::[5309512]\n",
            "19::[822787]\n",
            "21::[4090819]\n",
            "22::[5231680]\n",
            "23::[1574185]\n",
            "24::[3817407]\n",
            "25::[3710068]\n",
            "26::[347060]\n",
            "27::[48078]\n",
            "28::[4617139]\n",
            "29::[3439750]\n",
            "30::[41337]\n",
            "31::[1720313]\n",
            "32::[1242052]\n",
            "33::[2292430]\n",
            "34::[2978633]\n",
            "35::[628628]\n",
            "36::[5600644]\n",
            "37::[4024793]\n",
            "38::[4327719]\n",
            "39::[2289897]\n",
            "41::[2166551]\n",
            "42::[1324114]\n",
            "43::[4154065]\n",
            "44::[211637]\n",
            "45::[1749269]\n",
            "46::[3454379]\n",
            "47::[1650360]\n",
            "48::[2821569]\n",
            "49::[220632]\n",
            "50::[337803]\n",
            "51::[621904]\n",
            "52::[5387103]\n",
            "53::[2707203]\n",
            "54::[892780]\n",
            "55::[755102]\n",
            "57::[1963123]\n",
            "60::[4242879]\n",
            "61::[57385]\n",
            "63::[1917045]\n",
            "65::[3839087]\n",
            "66::[5603206]\n",
            "67::[1779359]\n",
            "68::[3777270]\n",
            "69::[2742067]\n",
            "70::[5643674]\n",
            "71::[1435419]\n",
            "72::[970365]\n",
            "73::[2344174]\n",
            "74::[1885584]\n",
            "76::[5130574]\n",
            "82::[276586]\n",
            "83::[1563848]\n",
            "85::[2670428]\n",
            "87::[4657381]\n",
            "89::[2411350]\n",
            "91::[153798]\n",
            "94::[971230]\n",
            "96::[310882]\n",
            "99::[3021130]\n",
            "100::[3287238]\n",
            "101::[1952206]\n",
            "102::[1271627]\n",
            "104::[1493619]\n",
            "105::[4791155]\n",
            "106::[1594219]\n",
            "107::[3656479]\n",
            "108::[267339]\n",
            "109::[1198011]\n",
            "110::[3265611]\n",
            "111::[1269950]\n",
            "112::[337870]\n",
            "113::[250764]\n",
            "114::[4487958]\n",
            "115::[4606267]\n",
            "116::[2057878]\n",
            "117::[278869]\n",
            "118::[3164458]\n",
            "119::[2205686]\n",
            "120::[981934]\n",
            "121::[175172]\n",
            "122::[4679039]\n",
            "123::[2658102]\n",
            "131::[462376]\n",
            "132::[642217]\n",
            "133::[2084309]\n",
            "134::[3698656]\n",
            "135::[5777493]\n",
            "136::[5449003]\n",
            "137::[726522]\n",
            "138::[3561812]\n",
            "139::[5804194]\n",
            "140::[3218143]\n",
            "141::[5089613]\n",
            "142::[4724310]\n",
            "143::[545845]\n",
            "144::[4991264]\n",
            "145::[983083]\n",
            "147::[2675548]\n",
            "148::[2600521]\n",
            "149::[5330155]\n",
            "150::[2633398]\n",
            "153::[170158]\n",
            "154::[3666361]\n",
            "155::[4214310]\n",
            "159::[3892571]\n",
            "160::[3281116]\n",
            "163::[3577574]\n",
            "167::[2449363]\n",
            "172::[1319748]\n",
            "173::[1978974]\n",
            "174::[3450292]\n",
            "175::[3165640]\n",
            "177::[4224731]\n",
            "178::[2379967]\n",
            "180::[1956783]\n",
            "182::[3241798]\n",
            "183::[3800146]\n",
            "184::[4006681]\n",
            "185::[4223334]\n",
            "186::[192668]\n",
            "187::[2631187]\n",
            "188::[1819380]\n",
            "189::[5128439]\n",
            "190::[2423528]\n",
            "191::[210093]\n",
            "192::[3250238]\n",
            "194::[2616304]\n",
            "197::[307330]\n",
            "202::[3890085]\n",
            "203::[3088955]\n",
            "204::[1990246]\n",
            "205::[2934686]\n",
            "206::[1889646]\n",
            "207::[1480231]\n",
            "208::[4600734]\n",
            "211::[4332107]\n",
            "212::[812863]\n",
            "213::[2481724]\n",
            "214::[4506048]\n",
            "215::[3157530]\n",
            "216::[933136]\n",
            "217::[337698]\n",
            "218::[708899]\n",
            "219::[5780389]\n",
            "220::[4813185]\n",
            "221::[4324249]\n",
            "222::[5193657]\n",
            "223::[2596373]\n",
            "225::[2294871]\n",
            "226::[2080187]\n",
            "229::[2597793]\n",
            "231::[5844750]\n",
            "232::[5777873]\n",
            "233::[5493783]\n",
            "234::[2929656]\n",
            "235::[3140129]\n",
            "236::[3122423]\n",
            "237::[4941057]\n",
            "238::[3989592]\n",
            "239::[1410016]\n",
            "240::[3109505]\n",
            "241::[4999231]\n",
            "242::[3352009]\n",
            "243::[1823933]\n",
            "244::[311029]\n",
            "245::[3921314]\n",
            "246::[1295375]\n",
            "247::[1270367]\n",
            "248::[2911970]\n",
            "249::[2247122]\n",
            "250::[1640163]\n",
            "251::[102816]\n",
            "252::[655544]\n",
            "253::[593162]\n",
            "254::[1627523]\n",
            "255::[2693640]\n",
            "256::[4101169]\n",
            "257::[2059699]\n",
            "258::[5290083]\n",
            "259::[3300041]\n",
            "260::[143843]\n",
            "261::[1832662]\n",
            "262::[4513402]\n",
            "263::[2787502]\n",
            "265::[5219559]\n",
            "266::[5540461]\n",
            "267::[4674140]\n",
            "268::[5048714]\n",
            "269::[502416]\n",
            "270::[3929210]\n",
            "271::[3484389]\n",
            "272::[5423286]\n",
            "274::[4982966]\n",
            "279::[3201993]\n"
          ]
        }
      ]
    },
    {
      "cell_type": "markdown",
      "metadata": {
        "id": "DXXu94ynjVQ7"
      },
      "source": [
        "## Familias por método de multiplicación\n",
        "Otra estrategia para diseñar funciones _hash_ es el de multiplicación. En este método primero se multiplica el objeto $x$ por una constante $a \\in (0,1)$ y se extrae la parte fraccional de $a \\cdot x$. Posteriormente, se multiplica este valor por $m$ y se toma la función piso $\\lfloor\\rfloor$\n",
        "$$\n",
        "h(x) = \\lfloor m  \\cdot (x \\cdot a \\mod 1)\\rfloor\n",
        "$$\n",
        "\n",
        "donde $a$ es una constante."
      ]
    },
    {
      "cell_type": "code",
      "metadata": {
        "id": "ma5iEI2hkCgb"
      },
      "source": [
        "class THMultOA(THOA):\n",
        "  def __init__(self, n_cubetas, a):\n",
        "    super().__init__(n_cubetas)\n",
        "    self.a = a\n",
        "  \n",
        "  def h(self, x):\n",
        "    return floor(((self.a * x) % 1) * self.n_cubetas) "
      ],
      "execution_count": 27,
      "outputs": []
    },
    {
      "cell_type": "markdown",
      "metadata": {
        "id": "fuS5T2XC3lvh"
      },
      "source": [
        "Aunque $a$ puede tomar cualquier valor en el intervalo $(0,1)$, hay algunos valores que funcionan mejor que otros. Donald Knuth recomienda $a \\approx \\frac{\\sqrt{5} - 1}{2}$."
      ]
    },
    {
      "cell_type": "code",
      "metadata": {
        "id": "KdEUfs2u7tui",
        "colab": {
          "base_uri": "https://localhost:8080/"
        },
        "outputId": "9e02a9c3-5644-42fb-9d6f-de45a9d7f79e"
      },
      "source": [
        "thmultoa = THMultOA(281, (sqrt(5) - 1) / 2)\n",
        "for i,e in enumerate(conj):\n",
        "  thmultoa.insertar(e)\n",
        "print(thmultoa)"
      ],
      "execution_count": 28,
      "outputs": [
        {
          "output_type": "stream",
          "name": "stdout",
          "text": [
            "0::[1885584]\n",
            "6::[3021130]\n",
            "11::[4006681]\n",
            "12::[5777493]\n",
            "16::[5449003]\n",
            "17::[5231680]\n",
            "19::[1480231]\n",
            "20::[2693640]\n",
            "21::[220632]\n",
            "22::[5423286]\n",
            "23::[462376]\n",
            "27::[5290083]\n",
            "28::[4968934]\n",
            "31::[5130574]\n",
            "32::[3165640]\n",
            "33::[1319748]\n",
            "34::[3698656]\n",
            "35::[3710068]\n",
            "38::[4679039]\n",
            "40::[337870]\n",
            "42::[971230]\n",
            "43::[5844750]\n",
            "44::[2166551]\n",
            "45::[4724310]\n",
            "46::[502416]\n",
            "47::[189396]\n",
            "48::[5804194]\n",
            "49::[2289897]\n",
            "50::[3088955]\n",
            "51::[3892571]\n",
            "52::[4090819]\n",
            "53::[4941057]\n",
            "54::[1978974]\n",
            "58::[3281116]\n",
            "59::[2344174]\n",
            "60::[5540461]\n",
            "61::[1563848]\n",
            "68::[3777270]\n",
            "70::[3839087]\n",
            "71::[175172]\n",
            "72::[2411350]\n",
            "74::[1269950]\n",
            "75::[2080187]\n",
            "76::[2670428]\n",
            "77::[593162]\n",
            "78::[2294871]\n",
            "79::[3817407]\n",
            "81::[726522]\n",
            "84::[3656479]\n",
            "86::[1493619]\n",
            "92::[3929210]\n",
            "93::[822787]\n",
            "94::[3577574]\n",
            "95::[1779359]\n",
            "96::[3921314]\n",
            "97::[3241798]\n",
            "98::[1242052]\n",
            "99::[5643674]\n",
            "100::[4224731]\n",
            "101::[4154065]\n",
            "102::[5600644]\n",
            "103::[4982966]\n",
            "104::[192668]\n",
            "105::[2600521]\n",
            "106::[2597793]\n",
            "107::[2658102]\n",
            "108::[307330]\n",
            "109::[3800146]\n",
            "110::[4674140]\n",
            "111::[153798]\n",
            "112::[4332107]\n",
            "113::[1956783]\n",
            "114::[1832662]\n",
            "115::[3439750]\n",
            "116::[892780]\n",
            "120::[170158]\n",
            "121::[2978633]\n",
            "122::[4327719]\n",
            "123::[2911970]\n",
            "124::[4242879]\n",
            "126::[3140129]\n",
            "127::[1889646]\n",
            "128::[555543]\n",
            "129::[1324114]\n",
            "130::[3989592]\n",
            "131::[2707203]\n",
            "132::[655544]\n",
            "133::[628628]\n",
            "134::[1956898]\n",
            "135::[1640163]\n",
            "136::[2633398]\n",
            "138::[311029]\n",
            "139::[3352009]\n",
            "140::[2379967]\n",
            "141::[3300041]\n",
            "142::[3201993]\n",
            "145::[1198011]\n",
            "146::[278869]\n",
            "148::[1594219]\n",
            "149::[1627523]\n",
            "152::[2821569]\n",
            "153::[3122423]\n",
            "154::[970365]\n",
            "155::[276586]\n",
            "156::[3250238]\n",
            "157::[2057878]\n",
            "158::[5193657]\n",
            "159::[4606267]\n",
            "161::[1650360]\n",
            "164::[2449363]\n",
            "165::[267339]\n",
            "166::[1823933]\n",
            "167::[3265611]\n",
            "168::[3164458]\n",
            "169::[2675548]\n",
            "170::[2742067]\n",
            "171::[5128439]\n",
            "172::[981934]\n",
            "173::[210093]\n",
            "174::[5493783]\n",
            "175::[4487958]\n",
            "177::[3454379]\n",
            "178::[4791155]\n",
            "180::[310882]\n",
            "184::[2292430]\n",
            "185::[1952206]\n",
            "188::[41337]\n",
            "189::[1990246]\n",
            "190::[1819380]\n",
            "191::[4999231]\n",
            "192::[708899]\n",
            "193::[2423528]\n",
            "194::[250764]\n",
            "195::[2934686]\n",
            "196::[755102]\n",
            "197::[1749269]\n",
            "198::[983083]\n",
            "199::[1271627]\n",
            "200::[3666361]\n",
            "204::[3450292]\n",
            "205::[1435419]\n",
            "206::[337803]\n",
            "207::[1963123]\n",
            "210::[3890085]\n",
            "211::[5603206]\n",
            "212::[4657381]\n",
            "213::[5387103]\n",
            "214::[933136]\n",
            "215::[545845]\n",
            "216::[3218143]\n",
            "217::[2247122]\n",
            "218::[1295375]\n",
            "219::[2481724]\n",
            "220::[3109505]\n",
            "221::[102816]\n",
            "222::[2596373]\n",
            "223::[2616304]\n",
            "224::[4991264]\n",
            "226::[2084309]\n",
            "227::[621904]\n",
            "228::[3287238]\n",
            "229::[1410016]\n",
            "230::[4506048]\n",
            "231::[5089613]\n",
            "232::[4214310]\n",
            "233::[3484389]\n",
            "234::[4617139]\n",
            "235::[48078]\n",
            "236::[337698]\n",
            "237::[1574185]\n",
            "238::[4513402]\n",
            "239::[5048714]\n",
            "240::[4101169]\n",
            "241::[211637]\n",
            "242::[4324249]\n",
            "243::[5219559]\n",
            "244::[5780389]\n",
            "245::[4024793]\n",
            "246::[347060]\n",
            "247::[5309512]\n",
            "248::[3561812]\n",
            "249::[57385]\n",
            "250::[821652]\n",
            "251::[5777873]\n",
            "252::[3157530]\n",
            "253::[143843]\n",
            "254::[1720313]\n",
            "257::[2205686]\n",
            "259::[4813185]\n",
            "262::[642217]\n",
            "268::[5330155]\n",
            "269::[4223334]\n",
            "270::[812863]\n",
            "271::[1917045]\n",
            "275::[2787502]\n",
            "276::[2929656]\n",
            "277::[1270367]\n",
            "278::[4600734]\n",
            "279::[2059699]\n",
            "280::[2631187]\n"
          ]
        }
      ]
    },
    {
      "cell_type": "markdown",
      "metadata": {
        "id": "MSDj9WqQpgbP"
      },
      "source": [
        "La cantidad de números mapeados a cada cubeta por esta función _hash_ es"
      ]
    },
    {
      "cell_type": "code",
      "metadata": {
        "colab": {
          "base_uri": "https://localhost:8080/",
          "height": 279
        },
        "id": "SDAzDjByutOQ",
        "outputId": "e60ed4a1-a2c0-4675-9f4e-390a46923acd"
      },
      "source": [
        "plt.bar(np.arange(thmultoa.colisiones.size), thmultoa.colisiones)\n",
        "plt.xlabel('Cubeta')\n",
        "plt.ylabel(u'Número de colisiones')\n",
        "plt.show()"
      ],
      "execution_count": 29,
      "outputs": [
        {
          "output_type": "display_data",
          "data": {
            "text/plain": [
              "<Figure size 432x288 with 1 Axes>"
            ],
            "image/png": "[encoded data removed]"
          },
          "metadata": {
            "needs_background": "light"
          }
        }
      ]
    },
    {
      "cell_type": "markdown",
      "metadata": {
        "id": "-gRSu_rtpqRO"
      },
      "source": [
        "El total de colisiones que ocurrieron en la tabla fue"
      ]
    },
    {
      "cell_type": "code",
      "metadata": {
        "colab": {
          "base_uri": "https://localhost:8080/"
        },
        "id": "aj-HZEUnFcOS",
        "outputId": "9e8b5396-a587-4191-c6d2-2a06b42cc950"
      },
      "source": [
        "np.sum(thmultoa.colisiones[thmultoa.colisiones > 1] - 1)"
      ],
      "execution_count": 30,
      "outputs": [
        {
          "output_type": "execute_result",
          "data": {
            "text/plain": [
              "57.0"
            ]
          },
          "metadata": {},
          "execution_count": 30
        }
      ]
    },
    {
      "cell_type": "markdown",
      "metadata": {
        "id": "hC9YB93xMuof"
      },
      "source": [
        "## Familia de funciones _hash_ universal\n",
        "Una familia de funciones universal es\n",
        "$$\n",
        "\\mathcal{H}_{a,b}(x) = ((a\\cdot x + b)\\mod{p})\\mod{m}\n",
        "$$\n",
        "\n",
        "donde $p \\geq n$ es un número primo muy grande, $a \\in \\{1, 2, \\ldots, p-1\\}$ y $b\\in \\{0, 1, 2, \\ldots, p-1\\}$"
      ]
    },
    {
      "cell_type": "code",
      "metadata": {
        "id": "DHZCTK0INIZ_"
      },
      "source": [
        "class THUnivOA(THOA):\n",
        "  def __init__(self, n_cubetas, a, b, primo):\n",
        "    super().__init__(n_cubetas)\n",
        "    self.a = a\n",
        "    self.b = b\n",
        "    self.primo = primo\n",
        "  \n",
        "  def h(self, x):\n",
        "    return ((self.a * x + self.b) % self.primo) % self.n_cubetas"
      ],
      "execution_count": 31,
      "outputs": []
    },
    {
      "cell_type": "markdown",
      "metadata": {
        "id": "5p6OyPbT7CzB"
      },
      "source": [
        "Instanciamos nuestra tabla con función _hash_ universal y almacenamos el conjunto de 200 números"
      ]
    },
    {
      "cell_type": "code",
      "metadata": {
        "colab": {
          "base_uri": "https://localhost:8080/"
        },
        "id": "bzk8t5JlwXFq",
        "outputId": "8f0e1956-57ca-4550-f20e-540d931dd912"
      },
      "source": [
        "a = random.randint(1, 104729 - 1)\n",
        "b = random.randint(0, 104729 - 1)\n",
        "thunivoa = THUnivOA(281, a, b, 104729)\n",
        "for i,e in enumerate(conj):\n",
        "  thunivoa.insertar(e)\n",
        "print(thunivoa)"
      ],
      "execution_count": 32,
      "outputs": [
        {
          "output_type": "stream",
          "name": "stdout",
          "text": [
            "0::[4982966]\n",
            "1::[3088955]\n",
            "5::[5128439]\n",
            "6::[2631187]\n",
            "7::[2821569]\n",
            "8::[3250238]\n",
            "9::[1963123]\n",
            "10::[3561812]\n",
            "11::[1324114]\n",
            "13::[3484389]\n",
            "14::[347060]\n",
            "15::[4941057]\n",
            "16::[3989592]\n",
            "17::[1319748]\n",
            "18::[2481724]\n",
            "20::[5603206]\n",
            "21::[2247122]\n",
            "22::[307330]\n",
            "23::[5804194]\n",
            "24::[4090819]\n",
            "25::[2205686]\n",
            "26::[821652]\n",
            "27::[3656479]\n",
            "28::[655544]\n",
            "29::[970365]\n",
            "30::[628628]\n",
            "31::[1242052]\n",
            "32::[3157530]\n",
            "33::[621904]\n",
            "34::[4154065]\n",
            "35::[1885584]\n",
            "36::[4224731]\n",
            "38::[211637]\n",
            "39::[5777873]\n",
            "40::[1435419]\n",
            "41::[4024793]\n",
            "44::[1410016]\n",
            "48::[2693640]\n",
            "49::[2597793]\n",
            "50::[2057878]\n",
            "53::[57385]\n",
            "54::[981934]\n",
            "55::[822787]\n",
            "57::[933136]\n",
            "60::[2292430]\n",
            "61::[4506048]\n",
            "62::[4657381]\n",
            "63::[708899]\n",
            "64::[545845]\n",
            "65::[1952206]\n",
            "69::[5449003]\n",
            "70::[102816]\n",
            "71::[4991264]\n",
            "75::[3929210]\n",
            "78::[5231680]\n",
            "79::[1832662]\n",
            "80::[210093]\n",
            "81::[3140129]\n",
            "82::[2658102]\n",
            "83::[1269950]\n",
            "84::[3800146]\n",
            "85::[1823933]\n",
            "86::[1627523]\n",
            "87::[1990246]\n",
            "88::[1889646]\n",
            "89::[5387103]\n",
            "90::[3890085]\n",
            "91::[48078]\n",
            "92::[2787502]\n",
            "93::[3265611]\n",
            "94::[1271627]\n",
            "95::[3218143]\n",
            "96::[4223334]\n",
            "100::[189396]\n",
            "101::[1493619]\n",
            "102::[311029]\n",
            "104::[1594219]\n",
            "105::[5290083]\n",
            "106::[1563848]\n",
            "109::[3454379]\n",
            "110::[5777493]\n",
            "111::[3164458]\n",
            "112::[3281116]\n",
            "114::[278869]\n",
            "117::[4487958]\n",
            "118::[4724310]\n",
            "120::[1574185]\n",
            "122::[2411350]\n",
            "123::[4813185]\n",
            "124::[3241798]\n",
            "125::[1270367]\n",
            "126::[175172]\n",
            "127::[3439750]\n",
            "130::[2294871]\n",
            "131::[3109505]\n",
            "132::[3921314]\n",
            "133::[41337]\n",
            "135::[2084309]\n",
            "136::[2080187]\n",
            "137::[220632]\n",
            "138::[3165640]\n",
            "140::[2934686]\n",
            "141::[1956783]\n",
            "142::[755102]\n",
            "143::[143843]\n",
            "145::[2675548]\n",
            "150::[337870]\n",
            "151::[3021130]\n",
            "152::[2379967]\n",
            "153::[555543]\n",
            "154::[1198011]\n",
            "155::[2742067]\n",
            "156::[2423528]\n",
            "157::[4332107]\n",
            "158::[4327719]\n",
            "159::[4999231]\n",
            "160::[267339]\n",
            "161::[2633398]\n",
            "162::[3666361]\n",
            "163::[971230]\n",
            "164::[812863]\n",
            "165::[983083]\n",
            "166::[642217]\n",
            "168::[2670428]\n",
            "169::[310882]\n",
            "170::[2911970]\n",
            "172::[5130574]\n",
            "173::[4674140]\n",
            "174::[276586]\n",
            "175::[192668]\n",
            "176::[726522]\n",
            "179::[250764]\n",
            "180::[3817407]\n",
            "181::[462376]\n",
            "182::[4006681]\n",
            "183::[3287238]\n",
            "184::[1749269]\n",
            "185::[892780]\n",
            "187::[2600521]\n",
            "188::[1640163]\n",
            "189::[4679039]\n",
            "192::[2449363]\n",
            "193::[3892571]\n",
            "194::[4101169]\n",
            "195::[4600734]\n",
            "196::[5219559]\n",
            "197::[2059699]\n",
            "198::[1956898]\n",
            "199::[4214310]\n",
            "202::[1720313]\n",
            "204::[337803]\n",
            "206::[1978974]\n",
            "207::[5089613]\n",
            "208::[4617139]\n",
            "209::[5493783]\n",
            "212::[4606267]\n",
            "213::[5600644]\n",
            "214::[5193657]\n",
            "215::[593162]\n",
            "220::[3839087]\n",
            "222::[3777270]\n",
            "223::[337698]\n",
            "225::[4513402]\n",
            "227::[2929656]\n",
            "230::[1917045]\n",
            "232::[2978633]\n",
            "233::[3352009]\n",
            "234::[5048714]\n",
            "235::[2616304]\n",
            "237::[5540461]\n",
            "238::[5643674]\n",
            "240::[4324249]\n",
            "243::[2166551]\n",
            "246::[3698656]\n",
            "247::[1819380]\n",
            "248::[2289897]\n",
            "249::[170158]\n",
            "251::[4242879]\n",
            "252::[5423286]\n",
            "253::[1480231]\n",
            "256::[5780389]\n",
            "259::[3300041]\n",
            "261::[3710068]\n",
            "262::[5844750]\n",
            "263::[3577574]\n",
            "264::[3450292]\n",
            "266::[1650360]\n",
            "267::[3201993]\n",
            "268::[4791155]\n",
            "269::[3122423]\n",
            "270::[1779359]\n",
            "271::[4968934]\n",
            "272::[1295375]\n",
            "273::[153798]\n",
            "274::[502416]\n",
            "275::[2344174]\n",
            "276::[2596373]\n",
            "277::[2707203]\n",
            "278::[5330155]\n",
            "280::[5309512]\n"
          ]
        }
      ]
    },
    {
      "cell_type": "markdown",
      "metadata": {
        "id": "kqiXWhOUqTbc"
      },
      "source": [
        "La cantidad de números mapeados a cada cubeta por la función _hash_ universal es"
      ]
    },
    {
      "cell_type": "code",
      "metadata": {
        "colab": {
          "base_uri": "https://localhost:8080/",
          "height": 279
        },
        "id": "KNfiUIkl1JaB",
        "outputId": "36485cc8-6ace-4d8b-f5ac-d37f53d4e57b"
      },
      "source": [
        "plt.bar(np.arange(thunivoa.colisiones.size), thunivoa.colisiones)\n",
        "plt.xlabel('Cubeta')\n",
        "plt.ylabel(u'Número de colisiones')\n",
        "plt.show()"
      ],
      "execution_count": 33,
      "outputs": [
        {
          "output_type": "display_data",
          "data": {
            "text/plain": [
              "<Figure size 432x288 with 1 Axes>"
            ],
            "image/png": "[encoded data removed]"
          },
          "metadata": {
            "needs_background": "light"
          }
        }
      ]
    },
    {
      "cell_type": "markdown",
      "metadata": {
        "id": "v3LoEAhfqdvu"
      },
      "source": [
        "El número de colisiones totales que ocurrieron es"
      ]
    },
    {
      "cell_type": "code",
      "metadata": {
        "colab": {
          "base_uri": "https://localhost:8080/"
        },
        "id": "22Yk0pXc2FaC",
        "outputId": "1611588a-96de-4198-808f-af0f1684dd2a"
      },
      "source": [
        "np.sum(thunivoa.colisiones[thunivoa.colisiones > 1] - 1)"
      ],
      "execution_count": 34,
      "outputs": [
        {
          "output_type": "execute_result",
          "data": {
            "text/plain": [
              "58.0"
            ]
          },
          "metadata": {},
          "execution_count": 34
        }
      ]
    },
    {
      "cell_type": "code",
      "source": [
        "micadena1 = 'japones'\n",
        "micadena2 = 'esponja'\n",
        "\n",
        "g = 11\n",
        "print(sum([ord(c) * g**i for i,c in enumerate(micadena1)]))\n",
        "print(sum([ord(c) * g**i for i,c in enumerate(micadena2)]))"
      ],
      "metadata": {
        "colab": {
          "base_uri": "https://localhost:8080/"
        },
        "id": "h8n-4_0oaV-s",
        "outputId": "d27d62f3-1561-40b8-fd88-766b009f01ce"
      },
      "execution_count": 35,
      "outputs": [
        {
          "output_type": "stream",
          "name": "stdout",
          "text": [
            "221768642\n",
            "190685992\n"
          ]
        }
      ]
    },
    {
      "cell_type": "markdown",
      "metadata": {
        "id": "T1XP5jzF2Ylw"
      },
      "source": [
        "## Funciones hash para cadenas\n",
        "\n",
        "Si deseamos almacenar cadenas de símbolos, es necesario convertirla a un solo número. La forma más simple es sumar sus códigos pero esto genera colisiones en palabras que usan los mismos símbolo. Una alternativa es la suma de los códigos multiplicados por un constante elevada a la posición\n",
        "\n",
        "$$\n",
        "f(s) = s_1 \\cdot g^1 + s_2 \\cdot g^2 + \\cdots + s_d \\cdot g^d\n",
        "$$\n",
        "\n",
        "Modificamos nuestra clase anterior para que cuando haya una colisión verifique si es la misma subcadena."
      ]
    },
    {
      "cell_type": "code",
      "metadata": {
        "id": "5VlZEoIu2cjy"
      },
      "source": [
        "class THUnivCad(THUnivOA):\n",
        "  def __init__(self, n_cubetas, a, b, primo, g):\n",
        "    super().__init__(n_cubetas, a, b, primo)\n",
        "    self.g = g\n",
        "  \n",
        "  def s2i(self, s):\n",
        "    return sum([ord(c) * self.g**i for i,c in enumerate(s)])\n",
        "\n",
        "  def insertar(self, s):\n",
        "    x = int(self.s2i(s))\n",
        "    cubeta = self.h(x)\n",
        "    self.colisiones[cubeta] += 1\n",
        "    \n",
        "    llena = True\n",
        "    for i in range(self.n_cubetas):\n",
        "      ind = self.sl(cubeta, i)\n",
        "      if not self.tabla[ind]:\n",
        "        self.tabla[ind].append(s)\n",
        "        llena = False\n",
        "        break\n",
        "      elif self.tabla[ind] == s:\n",
        "        llena = False\n",
        "        break\n",
        "\n",
        "    if llena:\n",
        "      print('Tabla llena')\n",
        "\n",
        "  def buscar(self, s):\n",
        "    x = self.s2i(s)\n",
        "    cubeta = self.h(x)\n",
        "    for i in range(self.n_cubetas):\n",
        "      ind = self.sl(cubeta, i)\n",
        "      if self.tabla[ind][0] == s:\n",
        "        return ind\n",
        "\n",
        "    return -1\n",
        "\n",
        "  def eliminar(self, s):\n",
        "    x = self.s2i(s)\n",
        "    cubeta = self.h(x)\n",
        "    for i in range(self.n_cubetas):\n",
        "      ind = self.sl(cubeta, i)\n",
        "      if self.tabla[ind][0] == s:\n",
        "        self.tabla[ind].remove(s)\n",
        "        return ind\n",
        "\n",
        "    return -1"
      ],
      "execution_count": 36,
      "outputs": []
    },
    {
      "cell_type": "markdown",
      "metadata": {
        "id": "jFexXZpvuR7u"
      },
      "source": [
        "Veamos un ejemplo"
      ]
    },
    {
      "cell_type": "code",
      "metadata": {
        "colab": {
          "base_uri": "https://localhost:8080/"
        },
        "id": "HIN9FN69uS6l",
        "outputId": "3c8dd2f0-cedb-4f01-ffeb-d50f0d6c72ae"
      },
      "source": [
        "nombres = ['blanca', 'juan', 'pedro', 'julia', 'alan', 'nala', 'serena', 'enrique', 'jose', 'alfonso', 'rodolfo', 'ignacio', 'gibran', 'mariana']\n",
        "thucad = THUnivCad(281, a, b, 104729, 1.13)\n",
        "for e in nombres:\n",
        "  thucad.insertar(e)\n",
        "print(thucad)"
      ],
      "execution_count": 37,
      "outputs": [
        {
          "output_type": "stream",
          "name": "stdout",
          "text": [
            "23::['juan']\n",
            "31::['pedro']\n",
            "38::['mariana']\n",
            "78::['ignacio']\n",
            "79::['gibran']\n",
            "110::['enrique']\n",
            "186::['nala']\n",
            "188::['alan']\n",
            "222::['jose']\n",
            "231::['rodolfo']\n",
            "234::['julia']\n",
            "236::['serena']\n",
            "244::['blanca']\n",
            "271::['alfonso']\n"
          ]
        }
      ]
    },
    {
      "cell_type": "markdown",
      "metadata": {
        "id": "DzYjzzldubvt"
      },
      "source": [
        "Revisemos la cantidad de nombres mapeados a cada cubeta"
      ]
    },
    {
      "cell_type": "code",
      "metadata": {
        "colab": {
          "base_uri": "https://localhost:8080/",
          "height": 279
        },
        "id": "ncPME6aoucP5",
        "outputId": "52314bcc-a128-4c02-ded1-4a3ef015ca4b"
      },
      "source": [
        "plt.bar(np.arange(thucad.colisiones.size), thucad.colisiones)\n",
        "plt.xlabel('Cubeta')\n",
        "plt.ylabel(u'Número de colisiones')\n",
        "plt.show()"
      ],
      "execution_count": 38,
      "outputs": [
        {
          "output_type": "display_data",
          "data": {
            "text/plain": [
              "<Figure size 432x288 with 1 Axes>"
            ],
            "image/png": "[encoded data removed]"
          },
          "metadata": {
            "needs_background": "light"
          }
        }
      ]
    },
    {
      "cell_type": "markdown",
      "metadata": {
        "id": "KGAVP2FEf4aI"
      },
      "source": [
        "## Ejercicio\n",
        "Realiza lo siguiente:\n",
        "1. Implementa una tabla que realice sondeo cuadrático. Elige un número primo grande para $m$ y $c_1 = c_2 = 1$ y prueba la tabla con el conjunto de 200 números. \n",
        "\n",
        "$$\n",
        "h(x, i) = (h'(x) + c_1 \\cdot i + c_2 \\cdot i^2)\\mod{m}\n",
        "$$\n",
        "\n",
        "2. Desarrolla un programa que cuente el número de ocurrencias de todas las subcadenas de longitud entre 5 a 10 (sin considerar espacios en blanco ni signos de admiración/interrogación ni caracteres especiales) usando funciones y tablas _hash_. Prueba este programa en la base de datos de _20 newsgroups_."
      ]
    }
  ]
}