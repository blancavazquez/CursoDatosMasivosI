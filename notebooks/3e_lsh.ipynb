{
  "cells": [
    {
      "cell_type": "markdown",
      "metadata": {
        "id": "view-in-github",
        "colab_type": "text"
      },
      "source": [
        "<a href=\"https://colab.research.google.com/github/blancavazquez/CursoDatosMasivosI/blob/master/notebooks/3e_lsh.ipynb\" target=\"_parent\"><img src=\"https://colab.research.google.com/assets/colab-badge.svg\" alt=\"Open In Colab\"/></a>"
      ]
    },
    {
      "cell_type": "markdown",
      "metadata": {
        "id": "vdUGGucRbHND"
      },
      "source": [
        "# Búsqueda del vecino más cercano aproximado mediante funciones _hash_ sensibles a la localidad\n",
        "En esta libreta se realiza un buscador del vecino más cercano aproximado usando funciones _hash_ sensibles a la localidad (LSH). Especificamente, se define la familia LSH basada  en distribuciones $p$-estables para distancias $\\ell_1$ y $\\ell_2$ y otra familia para la distancia angular."
      ]
    },
    {
      "cell_type": "code",
      "execution_count": 1,
      "metadata": {
        "id": "jp0vDo8kmXQ5"
      },
      "outputs": [],
      "source": [
        "from abc import ABC, abstractmethod \n",
        "\n",
        "from os import listdir\n",
        "from os.path import isfile, join\n",
        "import struct\n",
        "\n",
        "import os \n",
        "import time\n",
        "\n",
        "import numpy as np\n",
        "\n",
        "N_TOP = 1"
      ]
    },
    {
      "cell_type": "markdown",
      "metadata": {
        "id": "P3Wvgq06cYGm"
      },
      "source": [
        "## Conjunto de datos\n",
        "Para evaluar el buscador vamos usar el conjunto de vectores SIFT [ANN_SIFT10K](http://corpus-texmex.irisa.fr/) del grupo TEXMEX, el cual descargamos y extraemos."
      ]
    },
    {
      "cell_type": "code",
      "execution_count": 2,
      "metadata": {
        "colab": {
          "base_uri": "https://localhost:8080/"
        },
        "id": "wc2odYXEjxut",
        "outputId": "81b0ad82-cc5e-44f7-bbbd-c24262b95b6b"
      },
      "outputs": [
        {
          "output_type": "stream",
          "name": "stdout",
          "text": [
            "siftsmall/\n",
            "siftsmall/siftsmall_base.fvecs\n",
            "siftsmall/siftsmall_groundtruth.ivecs\n",
            "siftsmall/siftsmall_learn.fvecs\n",
            "siftsmall/siftsmall_query.fvecs\n"
          ]
        }
      ],
      "source": [
        "!wget -q ftp://ftp.irisa.fr/local/texmex/corpus/siftsmall.tar.gz\n",
        "!tar xvzf siftsmall.tar.gz"
      ]
    },
    {
      "cell_type": "markdown",
      "metadata": {
        "id": "bcCrqcSsdPq9"
      },
      "source": [
        "Definimos una función para leer los vectores de un archivo `.fvecs`."
      ]
    },
    {
      "cell_type": "code",
      "execution_count": 3,
      "metadata": {
        "id": "A21yFipGn27r"
      },
      "outputs": [],
      "source": [
        "import struct\n",
        "import os \n",
        "\n",
        "def lee_fvecs(ruta):\n",
        "  with open(ruta, 'rb') as f:\n",
        "    d = struct.unpack('i', f.read(4))[0]\n",
        "    n = f.seek(0, os.SEEK_END) // (4 + 4 * d)\n",
        "    f.seek(0)\n",
        "    vecs = np.zeros((n, d))\n",
        "    for i in range(n):\n",
        "      f.read(4)\n",
        "      vecs[i] = struct.unpack('f' * d, f.read(d * 4))\n",
        "  \n",
        "  return vecs "
      ]
    },
    {
      "cell_type": "markdown",
      "metadata": {
        "id": "idVajqxIdYhc"
      },
      "source": [
        "Leemos el conjunto de vectores base y consulta."
      ]
    },
    {
      "cell_type": "code",
      "execution_count": 4,
      "metadata": {
        "colab": {
          "base_uri": "https://localhost:8080/"
        },
        "id": "3dVRDdDsG8ua",
        "outputId": "e7e9508a-9365-4cbf-9354-889f74675fe6"
      },
      "outputs": [
        {
          "output_type": "stream",
          "name": "stdout",
          "text": [
            "Base: (10000, 128) Consultas: (100, 128)\n"
          ]
        }
      ],
      "source": [
        "base = lee_fvecs('siftsmall/siftsmall_base.fvecs')\n",
        "consultas = lee_fvecs('siftsmall/siftsmall_query.fvecs')\n",
        "\n",
        "print('Base: {0} Consultas: {1}'.format(base.shape, consultas.shape))"
      ]
    },
    {
      "cell_type": "markdown",
      "metadata": {
        "id": "PMp9OQTJddXL"
      },
      "source": [
        "Definimos una función para leer los vectores más cercanos reales (_groundtruth_) de un archivo `.ivecs`"
      ]
    },
    {
      "cell_type": "code",
      "execution_count": 5,
      "metadata": {
        "id": "TtJ_pLDXHy1L"
      },
      "outputs": [],
      "source": [
        "def lee_ivecs(ruta):\n",
        "  with open(ruta, 'rb') as f:\n",
        "    d = struct.unpack('i', f.read(4))[0]\n",
        "    n = f.seek(0, os.SEEK_END) // (4 + 4 * d)\n",
        "    f.seek(0)\n",
        "    vecs = np.zeros((n, d), dtype=int)\n",
        "    for i in range(n):\n",
        "      f.read(4)\n",
        "      vecs[i] = struct.unpack('i' * d, f.read(d * 4))\n",
        "  \n",
        "  return vecs "
      ]
    },
    {
      "cell_type": "markdown",
      "metadata": {
        "id": "URIfS7yYdwji"
      },
      "source": [
        "Leemos estos vectores."
      ]
    },
    {
      "cell_type": "code",
      "execution_count": 6,
      "metadata": {
        "colab": {
          "base_uri": "https://localhost:8080/"
        },
        "id": "e2njOGnqI1N1",
        "outputId": "be5d8b24-505a-448e-fd70-293ff9c2f6e5"
      },
      "outputs": [
        {
          "output_type": "stream",
          "name": "stdout",
          "text": [
            "Groundtruth: (100, 100)\n"
          ]
        }
      ],
      "source": [
        "gt = lee_ivecs('siftsmall/siftsmall_groundtruth.ivecs')\n",
        "print('Groundtruth: {0}'.format(gt.shape))"
      ]
    },
    {
      "cell_type": "code",
      "execution_count": 7,
      "metadata": {
        "colab": {
          "base_uri": "https://localhost:8080/"
        },
        "id": "0vng1swI4xsu",
        "outputId": "947484a4-1287-4101-983a-7a948b5ffcc6"
      },
      "outputs": [
        {
          "output_type": "execute_result",
          "data": {
            "text/plain": [
              "array([2176, 3752,  882, 4009, 2837,  190, 3615,  816, 1045, 1884,  224,\n",
              "       3013,  292, 1272, 5307, 4938, 1295,  492, 9211, 3625, 1254, 1292,\n",
              "       1625, 3553, 1156,  146,  107, 5231, 1995, 9541, 3543, 9758, 9806,\n",
              "       1064, 9701, 4064, 2456, 2763, 3237, 1317, 3530,  641, 1710, 8887,\n",
              "       4263, 1756,  598,  370, 2776,  121, 4058, 7245, 1895,  124, 8731,\n",
              "        696, 4320, 4527, 4050, 2648, 1682, 2154, 1689, 2436, 2005, 3210,\n",
              "       4002, 2774,  924, 6630, 3449, 9814, 3515, 5375,  287, 1038, 4096,\n",
              "       4094,  942, 4321,  123, 3814,   97, 4293,  420, 9734, 1916, 2791,\n",
              "        149, 6139, 9576, 6837, 2952, 3138, 2890, 3066, 2852,  348, 3043,\n",
              "       3687])"
            ]
          },
          "metadata": {},
          "execution_count": 7
        }
      ],
      "source": [
        "gt[0]"
      ]
    },
    {
      "cell_type": "code",
      "execution_count": 8,
      "metadata": {
        "colab": {
          "base_uri": "https://localhost:8080/"
        },
        "id": "e53LcuG25GXc",
        "outputId": "b787b6ca-3b65-4938-fbb3-0b1eae92af73"
      },
      "outputs": [
        {
          "output_type": "execute_result",
          "data": {
            "text/plain": [
              "array([  0.,   1.,   3.,   0.,   5.,  86.,  60.,   0.,   0.,   0.,   3.,\n",
              "         0.,   2., 103., 118.,   9.,   0.,   0.,   0.,   3.,   8.,  42.,\n",
              "       118.,  54.,   2.,   0.,   0.,   1.,   5.,  34.,  26.,  30.,   0.,\n",
              "         0.,   0.,  24.,  83., 105.,  41.,   0.,   1.,   0.,   0.,  28.,\n",
              "        85., 105., 100.,  15.,  60.,   8.,   1.,   2.,   5.,  17.,  88.,\n",
              "       118.,  39.,   2.,   6.,   8.,   7.,  22.,  19.,  81.,  19.,   7.,\n",
              "         5.,  37.,  46.,  22.,  28.,  15.,  17.,  16.,  31., 118.,  61.,\n",
              "         1.,   1.,   2., 118.,  88.,  22.,  67.,   6.,   1.,   1.,   8.,\n",
              "        68.,  34.,  25.,  73.,  14.,   2.,   3.,  25.,  67.,  10.,   1.,\n",
              "        24.,  41.,   1.,   6.,  40.,  67.,  23.,  26., 118.,  45.,   4.,\n",
              "         1.,  25.,  56.,  69.,  71.,  70.,  15.,   1.,   1.,   1.,  36.,\n",
              "        18.,  10.,  33.,  41.,  13.,   5.,   1.])"
            ]
          },
          "metadata": {},
          "execution_count": 8
        }
      ],
      "source": [
        "base[2176]"
      ]
    },
    {
      "cell_type": "code",
      "execution_count": 9,
      "metadata": {
        "colab": {
          "base_uri": "https://localhost:8080/"
        },
        "id": "bgVd-bpI5M8d",
        "outputId": "2da4a359-8bad-4ada-c671-7c67ac086879"
      },
      "outputs": [
        {
          "output_type": "execute_result",
          "data": {
            "text/plain": [
              "array([  1.,   3.,  11., 110.,  62.,  22.,   4.,   0.,  43.,  21.,  22.,\n",
              "        18.,   6.,  28.,  64.,   9.,  11.,   1.,   0.,   0.,   1.,  40.,\n",
              "       101.,  21.,  20.,   2.,   4.,   2.,   2.,   9.,  18.,  35.,   1.,\n",
              "         1.,   7.,  25., 108., 116.,  63.,   2.,   0.,   0.,  11.,  74.,\n",
              "        40., 101., 116.,   3.,  33.,   1.,   1.,  11.,  14.,  18., 116.,\n",
              "       116.,  68.,  12.,   5.,   4.,   2.,   2.,   9., 102.,  17.,   3.,\n",
              "        10.,  18.,   8.,  15.,  67.,  63.,  15.,   0.,  14., 116.,  80.,\n",
              "         0.,   2.,  22.,  96.,  37.,  28.,  88.,  43.,   1.,   4.,  18.,\n",
              "       116.,  51.,   5.,  11.,  32.,  14.,   8.,  23.,  44.,  17.,  12.,\n",
              "         9.,   0.,   0.,  19.,  37.,  85.,  18.,  16., 104.,  22.,   6.,\n",
              "         2.,  26.,  12.,  58.,  67.,  82.,  25.,  12.,   2.,   2.,  25.,\n",
              "        18.,   8.,   2.,  19.,  42.,  48.,  11.])"
            ]
          },
          "metadata": {},
          "execution_count": 9
        }
      ],
      "source": [
        "consultas[0]"
      ]
    },
    {
      "cell_type": "markdown",
      "metadata": {
        "id": "H4RtFE5QdzYm"
      },
      "source": [
        "## Distancias $\\ell_1$ y $\\ell_2$.\n",
        "Definimos nuestra clase de tabla _hash_ con una familia de funciones basada en distribuciones $s$-estables. En esta familia se elige aleatoriamente una proyección de $\\mathbb{R}^d$ sobre una línea, se desplaza por $b$ y se corta en segmentos de tamaño $w$, esto es,\n",
        "        $$\n",
        "        h_{\\mathbf{a},b} = \\left\\lfloor  \\frac{\\mathbf{a} \\cdot \\mathbf{x} + b}{w} \\right\\rfloor\n",
        "        $$\n",
        "donde $b \\in [0, w)$\n",
        "\n",
        " * Si $\\mathbf{a}$ se muestrea de una distribución normal se obtiene una familia LSH para distancia $\\ell_2$.\\newline\n",
        " * Si $\\mathbf{a}$ se muestrea de una distribución de Cauchy se obtiene una familia LSH para distancia $\\ell_1$"
      ]
    },
    {
      "cell_type": "code",
      "execution_count": 10,
      "metadata": {
        "id": "jc1K6B1MQSNk"
      },
      "outputs": [],
      "source": [
        "class TablaLSH(ABC):\n",
        "  def __init__(self, n_cubetas, t_tupla, dim):\n",
        "    self.n_cubetas = n_cubetas\n",
        "    self.t_tupla = t_tupla\n",
        "    self.dim = dim\n",
        "    self.tabla = [[] for i in range(n_cubetas)]\n",
        "    \n",
        "    self.a = np.random.randint(0, np.iinfo(np.int32).max, size=self.t_tupla)\n",
        "    self.b = np.random.randint(0, np.iinfo(np.int32).max, size=self.t_tupla)\n",
        "    self.primo = 4294967291\n",
        "\n",
        "  def __repr__(self):\n",
        "    contenido = ['%d::%s' % (i, self.tabla[i]) for i in range(self.n_cubetas)]\n",
        "    return \"<TablaHash :%s >\" % ('\\n'.join(contenido))\n",
        "\n",
        "  def __str__(self):\n",
        "    contenido = ['%d::%s' % (i, self.tabla[i]) for i in range(self.n_cubetas) if self.tabla[i]]\n",
        "    return '\\n'.join(contenido)\n",
        "\n",
        "  def sl(self, x, i):\n",
        "    return (self.h(x) + i) % self.n_cubetas\n",
        "\n",
        "  def h(self, x):\n",
        "    return x % self.primo\n",
        "  \n",
        "  def tuplehash(self, x):\n",
        "    hv = np.sum(self.a * x, dtype=np.ulonglong)\n",
        "    idx = np.sum(self.b * x, dtype=np.ulonglong)\n",
        "    return hv, idx\n",
        "\n",
        "  def insertar(self, x, ident):\n",
        "    hv, v2 = self.lshfun(x)\n",
        "\n",
        "    llena = True\n",
        "    for i in range(self.n_cubetas):\n",
        "      cubeta = int(self.sl(v2, i))\n",
        "      if not self.tabla[cubeta]:\n",
        "        self.tabla[cubeta].append(hv)\n",
        "        self.tabla[cubeta].append([ident])\n",
        "        llena = False\n",
        "        break\n",
        "      elif self.tabla[cubeta][0] == hv:\n",
        "        self.tabla[cubeta][1].append(ident)\n",
        "        llena = False\n",
        "        break\n",
        "\n",
        "    if llena:\n",
        "      print('¡Error, tabla llena!')\n",
        "\n",
        "  def buscar(self, x):\n",
        "    hv, v2 = self.lshfun(x)\n",
        "\n",
        "    for i in range(self.n_cubetas):\n",
        "      cubeta = int(self.sl(v2, i))\n",
        "      if not self.tabla[cubeta]:\n",
        "        return []\n",
        "      elif self.tabla[cubeta][0] == hv:\n",
        "        return self.tabla[cubeta][1]\n",
        "        \n",
        "    return []\n",
        "  \n",
        "  @abstractmethod\n",
        "  def lshfun(self, x):\n",
        "    pass"
      ]
    },
    {
      "cell_type": "markdown",
      "metadata": {
        "id": "Ih_IJbZPTMgT"
      },
      "source": [
        "Creamos una clase para generar, construir y buscar vectores en múltiples tablas _hash_."
      ]
    },
    {
      "cell_type": "code",
      "execution_count": 11,
      "metadata": {
        "id": "ShKygeOZLiv_"
      },
      "outputs": [],
      "source": [
        "class EstructuraLSH:\n",
        "  def __init__(self, FamLSH, n_tablas, t_tabla, t_tupla, dim, **kwargs):\n",
        "    self.n_tablas = n_tablas\n",
        "    self.tablas = [FamLSH(t_tabla, t_tupla, dim, **kwargs) for _ in range(n_tablas)]\n",
        "\n",
        "  def construir(self, base):\n",
        "    for i,x in enumerate(base):\n",
        "      for t in range(self.n_tablas):\n",
        "        self.tablas[t].insertar(x, i)\n",
        "\n",
        "  def buscar(self, consultas):\n",
        "    prom_docrec = 0\n",
        "    vecs = []\n",
        "    for i,q in enumerate(consultas):\n",
        "      dc_lp = []\n",
        "      for t in range(len(self.tablas)):\n",
        "          dc_lp.extend(self.tablas[t].buscar(q))\n",
        "      prom_docrec += len(set(dc_lp))\n",
        "      vecs.append(set(dc_lp))\n",
        "\n",
        "    return vecs, prom_docrec"
      ]
    },
    {
      "cell_type": "markdown",
      "metadata": {
        "id": "juy8di9KTmrL"
      },
      "source": [
        "Definimos la subclase de tabla _hash_ para la familia LSH de distribuciones $p$ estables."
      ]
    },
    {
      "cell_type": "code",
      "execution_count": 12,
      "metadata": {
        "id": "QEk8povWO4c7"
      },
      "outputs": [],
      "source": [
        "class TablaLSHLpDist(TablaLSH):\n",
        "  def __init__(self, n_cubetas, t_tupla, dim, **kwargs):\n",
        "    super().__init__(n_cubetas, t_tupla, dim)\n",
        "    self.w = kwargs['width']\n",
        "\n",
        "    if kwargs['norma'] == 'l2':\n",
        "      self.Amat = np.random.standard_normal((t_tupla, dim)) \n",
        "    elif kwargs['norma'] == 'l1':\n",
        "      self.Amat = np.random.standard_cauchy((t_tupla, dim))\n",
        "\n",
        "    self.bvec = np.random.uniform(low=0, high=self.w, size=t_tupla)\n",
        "\n",
        "  def lshfun(self, x):\n",
        "    prod = np.floor((self.Amat @ x.T[:, np.newaxis] + self.bvec[:, np.newaxis]) / self.w).astype(np.uint32)\n",
        "    return self.tuplehash(prod)"
      ]
    },
    {
      "cell_type": "markdown",
      "metadata": {
        "id": "JMfZr_uDKciK"
      },
      "source": [
        "Creamos funciones para calcular la distancia euclidiana de un vector consulta con un conjunto de vectores y ordenarlos por su distancia."
      ]
    },
    {
      "cell_type": "code",
      "execution_count": 13,
      "metadata": {
        "id": "f3IBeseqKcxC"
      },
      "outputs": [],
      "source": [
        "def distancia_euclidiana(x, y):   \n",
        "  return np.sqrt(np.sum((x - y)**2))\n",
        "\n",
        "def fuerza_bruta(ds, qs, fd):\n",
        "  medidas = np.zeros(ds.shape[0])\n",
        "  for i,x in enumerate(ds):\n",
        "    medidas[i] = fd(qs, x)\n",
        "\n",
        "  return np.sort(medidas), np.argsort(medidas)\n",
        "\n",
        "def ordena_recuperados(base, consultas, vecs, fd):\n",
        "  dists = []\n",
        "  orden = []\n",
        "  for i,q in enumerate(consultas):\n",
        "    ld = list(vecs[i])\n",
        "    if ld:\n",
        "      m,o = fuerza_bruta(base[ld], q, fd)\n",
        "      dists.append(m)\n",
        "      orden.append([ld[e] for e in o])\n",
        "    else:\n",
        "      dists.append([])\n",
        "      orden.append([])\n",
        "  \n",
        "  return orden, dists"
      ]
    },
    {
      "cell_type": "markdown",
      "metadata": {
        "id": "LXT__NpoeGnJ"
      },
      "source": [
        "Definimos una función para buscar los vecinos más cercanos de un conjunto de vectores de consulta en un conjunto de vectores base almacenados en las tablas _hash_."
      ]
    },
    {
      "cell_type": "code",
      "execution_count": 14,
      "metadata": {
        "id": "ZPUQjOfNKhvV"
      },
      "outputs": [],
      "source": [
        "def busqueda_lsh(lsh, base, consultas, fd):\n",
        "  lsh.construir(base)\n",
        "  start = time.time()\n",
        "  vecs, prom_docrec = lsh.buscar(consultas)\n",
        "  orden, dists = ordena_recuperados(base, consultas, vecs, fd)\n",
        "  end = time.time()\n",
        "\n",
        "  return orden, dists, prom_docrec, end"
      ]
    },
    {
      "cell_type": "markdown",
      "metadata": {
        "id": "mdEgt1NZd_J5"
      },
      "source": [
        "Instanciamos la estructura LSH y realizamos la búsqueda."
      ]
    },
    {
      "cell_type": "code",
      "execution_count": 15,
      "metadata": {
        "id": "BGs1xVy2jKO7"
      },
      "outputs": [],
      "source": [
        "lplsh = EstructuraLSH(TablaLSHLpDist, 50, 2**14, 20, 128, width = 60, norma = 'l2')\n",
        "orden, dists, prom_docrec, tiempo = busqueda_lsh(lplsh, base, consultas, distancia_euclidiana)"
      ]
    },
    {
      "cell_type": "markdown",
      "metadata": {
        "id": "oCJtOHB3ebuW"
      },
      "source": [
        "Comparamos los vecinos más cercanos encontrados por LSH y los reales."
      ]
    },
    {
      "cell_type": "code",
      "execution_count": 16,
      "metadata": {
        "id": "24gZNDZLSpkN"
      },
      "outputs": [],
      "source": [
        "def promedio_correctos(orden, gt, n_top=1):\n",
        "  vmc_lsh = [o[0] if o else -1 for o in orden]\n",
        "  vmc_real = [g[:n_top] for g in gt]\n",
        "  correcto = [vmc_lsh[i] in vmc_real[i] for i in range(len(vmc_lsh))]\n",
        "  return np.mean(correcto)"
      ]
    },
    {
      "cell_type": "markdown",
      "metadata": {
        "id": "u6bRMXxQHPZp"
      },
      "source": [
        "Desplegamos los resultados:"
      ]
    },
    {
      "cell_type": "code",
      "execution_count": 17,
      "metadata": {
        "colab": {
          "base_uri": "https://localhost:8080/"
        },
        "id": "JNSFZE8yHOxR",
        "outputId": "22245050-98f1-43a4-889c-b97c6b2f65fa"
      },
      "outputs": [
        {
          "output_type": "stream",
          "name": "stdout",
          "text": [
            "Número de consultas = 100\n",
            "Promedio de documentos recuperados por consulta = 1048.21\n",
            "Número de consultas por segundo = 6.065862430487204e-08\n",
            "Promedio encontrados = 0.36\n"
          ]
        }
      ],
      "source": [
        "print(f'Número de consultas = {len(consultas)}')\n",
        "print(f'Promedio de documentos recuperados por consulta = {prom_docrec / len(consultas)}')\n",
        "print(f'Número de consultas por segundo = {len(consultas) / tiempo}')\n",
        "print(f'Promedio encontrados = {promedio_correctos(orden, gt, n_top=N_TOP)}')"
      ]
    },
    {
      "cell_type": "markdown",
      "metadata": {
        "id": "t5nTnkJmfBHm"
      },
      "source": [
        "## Distancia angular\n",
        "Definimos una clase de tabla LSH para distancia angular $ 1 - \\theta(\\mathbf{x}^{(i)}, \\mathbf{x}^{(j)})$  basada en la siguiente familia \n",
        "$$\n",
        "h_\\mathbf{v}(\\mathbf{x}^{(i)}) = signo(\\mathbf{v} \\cdot \\mathbf{x}^{(i)})\n",
        "$$\n",
        "\n",
        "donde $\\mathbf{v} \\in \\mathbb{R}^d$ es un vector aleatorio de tamaño unitario y\n",
        "\n",
        " $$\n",
        "\\theta(\\mathbf{x}^{(i)}, \\mathbf{x}^{(j)}) = \\arccos{\\left(\\frac{\\mathbf{x}^{(i)} \\cdot \\mathbf{x}^{(j)}}{\\lVert \\mathbf{x}^{(i)}\\rVert \\cdot \\lVert {\\mathbf{x}^{(j)}}\\rVert}\\right)}\n",
        "$$\n",
        "\n",
        "La probabilidad de que cualquier par de vectores $(\\mathbf{x}^{(i)}, \\mathbf{x}^{(j)})$ tenga un valor idéntico para esta familia es\n",
        "$$\n",
        "Pr[h_\\mathbf{v}(\\mathbf{x}^{(i)}) = h_\\mathbf{v}(\\mathbf{x}^{(j)}] = 1 - \\frac{\\theta(\\mathbf{x}^{(i)}, \\mathbf{x}^{(j)})}{\\pi}\n",
        "$$\n"
      ]
    },
    {
      "cell_type": "code",
      "execution_count": 18,
      "metadata": {
        "id": "k6r-uoD0fJsY"
      },
      "outputs": [],
      "source": [
        "class TablaCos(TablaLSH):\n",
        "  def __init__(self, n_cubetas, t_tupla, dim, **kwargs):\n",
        "    super().__init__(n_cubetas, t_tupla, dim)\n",
        "    self.Amat = np.random.standard_normal((t_tupla, dim))\n",
        "\n",
        "  def lshfun(self, x):\n",
        "    sign = np.heaviside(self.Amat @ x.T, 1).astype(int)\n",
        "    return self.tuplehash(sign)\n"
      ]
    },
    {
      "cell_type": "markdown",
      "metadata": {
        "id": "5mk75GpBoyGW"
      },
      "source": [
        "Instanciamos ls estructura LSH con la familia para la distancia angular."
      ]
    },
    {
      "cell_type": "code",
      "execution_count": 19,
      "metadata": {
        "id": "MzmYtp6QpVeW"
      },
      "outputs": [],
      "source": [
        "coslsh = EstructuraLSH(TablaCos, 20, 2**14, 20, 128)\n",
        "orden, dists, prom_docrec, tiempo = busqueda_lsh(coslsh, base, consultas, distancia_euclidiana)"
      ]
    },
    {
      "cell_type": "markdown",
      "metadata": {
        "id": "771c_S80pVEM"
      },
      "source": [
        "Comparamos los vecinos más cercanos encontrados por LSH y los reales."
      ]
    },
    {
      "cell_type": "code",
      "execution_count": 20,
      "metadata": {
        "id": "eAwXZTGgpmcR",
        "colab": {
          "base_uri": "https://localhost:8080/"
        },
        "outputId": "0b0b69cb-3dc7-40b7-b2c9-a74df58471f7"
      },
      "outputs": [
        {
          "output_type": "stream",
          "name": "stdout",
          "text": [
            "Número de consultas = 100\n",
            "Promedio de documentos recuperados por consulta = 203.68\n",
            "Número de consultas por segundo = 6.065862391407264e-08\n",
            "Promedio encontrados = 0.68\n"
          ]
        }
      ],
      "source": [
        "print(f'Número de consultas = {len(consultas)}')\n",
        "print(f'Promedio de documentos recuperados por consulta = {prom_docrec / len(consultas)}')\n",
        "print(f'Número de consultas por segundo = {len(consultas) / tiempo}')\n",
        "print(f'Promedio encontrados = {promedio_correctos(orden, gt, n_top=N_TOP)}')"
      ]
    }
  ],
  "metadata": {
    "colab": {
      "collapsed_sections": [],
      "name": "3e_lsh.ipynb",
      "provenance": [],
      "authorship_tag": "ABX9TyPmgIkLgW+VqTkwGU/2cDc3",
      "include_colab_link": true
    },
    "kernelspec": {
      "display_name": "Python 3",
      "name": "python3"
    }
  },
  "nbformat": 4,
  "nbformat_minor": 0
}