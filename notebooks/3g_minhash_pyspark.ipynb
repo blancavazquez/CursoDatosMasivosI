{
  "nbformat": 4,
  "nbformat_minor": 0,
  "metadata": {
    "colab": {
      "name": "3g_minhash_pyspark.ipynb",
      "provenance": [],
      "collapsed_sections": [],
      "include_colab_link": true
    },
    "kernelspec": {
      "name": "python3",
      "display_name": "Python 3"
    }
  },
  "cells": [
    {
      "cell_type": "markdown",
      "metadata": {
        "id": "view-in-github",
        "colab_type": "text"
      },
      "source": [
        "<a href=\"https://colab.research.google.com/github/blancavazquez/CursoDatosMasivosI/blob/master/notebooks/3g_minhash_pyspark.ipynb\" target=\"_parent\"><img src=\"https://colab.research.google.com/assets/colab-badge.svg\" alt=\"Open In Colab\"/></a>"
      ]
    },
    {
      "cell_type": "markdown",
      "metadata": {
        "id": "5I4qrFG9-Rvf"
      },
      "source": [
        "# Minhash con PySpark \n",
        "_Por Gabriel Efraín Condés Luna_\n",
        "\n",
        "En este notebook haremos una revisión de como aplicar la técnica de *Minhash* con *PrSpark*.\n",
        "\n",
        "Antes de pasar a los ejemplos debemos instalar nuestro entorno de desarrollo con `PySpark`"
      ]
    },
    {
      "cell_type": "code",
      "metadata": {
        "id": "pSjTC8BUE3Dw",
        "colab": {
          "base_uri": "https://localhost:8080/"
        },
        "outputId": "54bae179-8943-4f0d-88b9-a996b9c18857"
      },
      "source": [
        "!pip install pyspark\n",
        "!pip install -U -q PyDrive\n",
        "!apt install openjdk-8-jdk-headless -qq\n",
        "import os\n",
        "os.environ[\"JAVA_HOME\"] = \"/usr/lib/jvm/java-8-openjdk-amd64\""
      ],
      "execution_count": 1,
      "outputs": [
        {
          "output_type": "stream",
          "name": "stdout",
          "text": [
            "Collecting pyspark\n",
            "  Downloading pyspark-3.2.1.tar.gz (281.4 MB)\n",
            "\u001b[K     |████████████████████████████████| 281.4 MB 41 kB/s \n",
            "\u001b[?25hCollecting py4j==0.10.9.3\n",
            "  Downloading py4j-0.10.9.3-py2.py3-none-any.whl (198 kB)\n",
            "\u001b[K     |████████████████████████████████| 198 kB 63.9 MB/s \n",
            "\u001b[?25hBuilding wheels for collected packages: pyspark\n",
            "  Building wheel for pyspark (setup.py) ... \u001b[?25l\u001b[?25hdone\n",
            "  Created wheel for pyspark: filename=pyspark-3.2.1-py2.py3-none-any.whl size=281853642 sha256=7b3fb490fc2b688e473d287d99dd880dea9ad546db212972f5a9acd2b0ba51b1\n",
            "  Stored in directory: /root/.cache/pip/wheels/9f/f5/07/7cd8017084dce4e93e84e92efd1e1d5334db05f2e83bcef74f\n",
            "Successfully built pyspark\n",
            "Installing collected packages: py4j, pyspark\n",
            "Successfully installed py4j-0.10.9.3 pyspark-3.2.1\n",
            "The following additional packages will be installed:\n",
            "  openjdk-8-jre-headless\n",
            "Suggested packages:\n",
            "  openjdk-8-demo openjdk-8-source libnss-mdns fonts-dejavu-extra\n",
            "  fonts-ipafont-gothic fonts-ipafont-mincho fonts-wqy-microhei\n",
            "  fonts-wqy-zenhei fonts-indic\n",
            "The following NEW packages will be installed:\n",
            "  openjdk-8-jdk-headless openjdk-8-jre-headless\n",
            "0 upgraded, 2 newly installed, 0 to remove and 39 not upgraded.\n",
            "Need to get 36.5 MB of archives.\n",
            "After this operation, 143 MB of additional disk space will be used.\n",
            "Selecting previously unselected package openjdk-8-jre-headless:amd64.\n",
            "(Reading database ... 156210 files and directories currently installed.)\n",
            "Preparing to unpack .../openjdk-8-jre-headless_8u312-b07-0ubuntu1~18.04_amd64.deb ...\n",
            "Unpacking openjdk-8-jre-headless:amd64 (8u312-b07-0ubuntu1~18.04) ...\n",
            "Selecting previously unselected package openjdk-8-jdk-headless:amd64.\n",
            "Preparing to unpack .../openjdk-8-jdk-headless_8u312-b07-0ubuntu1~18.04_amd64.deb ...\n",
            "Unpacking openjdk-8-jdk-headless:amd64 (8u312-b07-0ubuntu1~18.04) ...\n",
            "Setting up openjdk-8-jre-headless:amd64 (8u312-b07-0ubuntu1~18.04) ...\n",
            "update-alternatives: using /usr/lib/jvm/java-8-openjdk-amd64/jre/bin/orbd to provide /usr/bin/orbd (orbd) in auto mode\n",
            "update-alternatives: using /usr/lib/jvm/java-8-openjdk-amd64/jre/bin/servertool to provide /usr/bin/servertool (servertool) in auto mode\n",
            "update-alternatives: using /usr/lib/jvm/java-8-openjdk-amd64/jre/bin/tnameserv to provide /usr/bin/tnameserv (tnameserv) in auto mode\n",
            "Setting up openjdk-8-jdk-headless:amd64 (8u312-b07-0ubuntu1~18.04) ...\n",
            "update-alternatives: using /usr/lib/jvm/java-8-openjdk-amd64/bin/idlj to provide /usr/bin/idlj (idlj) in auto mode\n",
            "update-alternatives: using /usr/lib/jvm/java-8-openjdk-amd64/bin/wsimport to provide /usr/bin/wsimport (wsimport) in auto mode\n",
            "update-alternatives: using /usr/lib/jvm/java-8-openjdk-amd64/bin/jsadebugd to provide /usr/bin/jsadebugd (jsadebugd) in auto mode\n",
            "update-alternatives: using /usr/lib/jvm/java-8-openjdk-amd64/bin/native2ascii to provide /usr/bin/native2ascii (native2ascii) in auto mode\n",
            "update-alternatives: using /usr/lib/jvm/java-8-openjdk-amd64/bin/javah to provide /usr/bin/javah (javah) in auto mode\n",
            "update-alternatives: using /usr/lib/jvm/java-8-openjdk-amd64/bin/hsdb to provide /usr/bin/hsdb (hsdb) in auto mode\n",
            "update-alternatives: using /usr/lib/jvm/java-8-openjdk-amd64/bin/clhsdb to provide /usr/bin/clhsdb (clhsdb) in auto mode\n",
            "update-alternatives: using /usr/lib/jvm/java-8-openjdk-amd64/bin/xjc to provide /usr/bin/xjc (xjc) in auto mode\n",
            "update-alternatives: using /usr/lib/jvm/java-8-openjdk-amd64/bin/schemagen to provide /usr/bin/schemagen (schemagen) in auto mode\n",
            "update-alternatives: using /usr/lib/jvm/java-8-openjdk-amd64/bin/extcheck to provide /usr/bin/extcheck (extcheck) in auto mode\n",
            "update-alternatives: using /usr/lib/jvm/java-8-openjdk-amd64/bin/jhat to provide /usr/bin/jhat (jhat) in auto mode\n",
            "update-alternatives: using /usr/lib/jvm/java-8-openjdk-amd64/bin/wsgen to provide /usr/bin/wsgen (wsgen) in auto mode\n"
          ]
        }
      ]
    },
    {
      "cell_type": "markdown",
      "metadata": {
        "id": "yIF2lMe4Iciv"
      },
      "source": [
        "Para empezar a hacer uso de PySpark es necesario crear una `SparkSession` e importar las bibliotecas necesarias para trabajar."
      ]
    },
    {
      "cell_type": "code",
      "metadata": {
        "id": "lMl3Yv0SLl73",
        "colab": {
          "base_uri": "https://localhost:8080/"
        },
        "outputId": "1e5efe08-ebbe-4a54-a889-0aeef8c15834"
      },
      "source": [
        "import pyspark\n",
        "\n",
        "from pyspark.sql import SparkSession\n",
        "spark = SparkSession.builder.appName('minhash').getOrCreate()\n",
        "\n",
        "from pyspark.ml.feature import MinHashLSH\n",
        "from pyspark.ml.linalg import Vectors\n",
        "from pyspark.ml.feature import CountVectorizer\n",
        "from pyspark.sql.functions import col, size\n",
        "import string\n",
        "import nltk\n",
        "nltk.download('stopwords')\n",
        "\n",
        "import matplotlib.pyplot as plt\n",
        "\n",
        "import seaborn as sns"
      ],
      "execution_count": 2,
      "outputs": [
        {
          "output_type": "stream",
          "name": "stdout",
          "text": [
            "[nltk_data] Downloading package stopwords to /root/nltk_data...\n",
            "[nltk_data]   Unzipping corpora/stopwords.zip.\n"
          ]
        }
      ]
    },
    {
      "cell_type": "markdown",
      "metadata": {
        "id": "XyPsAj8tHXxY"
      },
      "source": [
        "## Vectores dispersos\n",
        "\n",
        "Los vectores dispersos pueden ayudarnos a representar matrices dispersas. La mayoría de los elementos de una matriz dispersa son $0$, es por esto que para ahorrar espacio es más eficiente especificar por cada renglón la lista de columnas que tienen valores distintos a cero y la lista de valores correspondientes.\n",
        "\n",
        "Por ejemplo, un renglón de una matriz dispersa puede ser el siguiente:\n",
        "\n",
        "$$\n",
        "(1,0,0,0,0,3,0,0,2,0)\n",
        "$$\n",
        "\n",
        "Notemos que este vector se puede definir especificando lo siguiente:\n",
        "\n",
        "1.   El tamaño del vector: $10$\n",
        "2.   Las entradas del vector que son distintas de cero: $[0,5,8]$ (índices desde cero)\n",
        "3.   Los valores correspondientes a dichas entradas: $[1,3,2]$\n",
        "\n",
        "Nosotros podemos definir vectores dispersos en *PySpark* usando estos parámetros de la siguiente manera:"
      ]
    },
    {
      "cell_type": "code",
      "metadata": {
        "id": "jkBc5ctLS3s-",
        "colab": {
          "base_uri": "https://localhost:8080/"
        },
        "outputId": "09df2fa0-459b-4caf-c301-d79c2e77369c"
      },
      "source": [
        "vector = Vectors.sparse(10, [0, 5, 8], [1, 3, 2])\n",
        "vector.toArray()"
      ],
      "execution_count": 3,
      "outputs": [
        {
          "output_type": "execute_result",
          "data": {
            "text/plain": [
              "array([1., 0., 0., 0., 0., 3., 0., 0., 2., 0.])"
            ]
          },
          "metadata": {},
          "execution_count": 3
        }
      ]
    },
    {
      "cell_type": "markdown",
      "metadata": {
        "id": "7IWD1RU7H6Ya"
      },
      "source": [
        "Podemos crear un DataFrame con vectores dispersos de la siguiente manera:"
      ]
    },
    {
      "cell_type": "code",
      "metadata": {
        "colab": {
          "base_uri": "https://localhost:8080/"
        },
        "id": "vbReglilTRvg",
        "outputId": "0db0f455-ba5b-4fd3-9f7a-c77dfa52af2d"
      },
      "source": [
        "matriz_dispersa = [(Vectors.sparse(6, [0, 1, 2], [1.0, 1.0, 1.0]),),\n",
        "                   (Vectors.sparse(6, [2, 3, 4], [1.0, 1.0, 1.0]),),\n",
        "                   (Vectors.sparse(6, [0, 2, 4], [1.0, 1.0, 1.0]),)]\n",
        "\n",
        "matriz_dispersa = spark.createDataFrame(matriz_dispersa)\n",
        "\n",
        "matriz_dispersa.show()"
      ],
      "execution_count": 4,
      "outputs": [
        {
          "output_type": "stream",
          "name": "stdout",
          "text": [
            "+--------------------+\n",
            "|                  _1|\n",
            "+--------------------+\n",
            "|(6,[0,1,2],[1.0,1...|\n",
            "|(6,[2,3,4],[1.0,1...|\n",
            "|(6,[0,2,4],[1.0,1...|\n",
            "+--------------------+\n",
            "\n"
          ]
        }
      ]
    },
    {
      "cell_type": "markdown",
      "metadata": {
        "id": "MGi8-BjYIh2l"
      },
      "source": [
        "*CountVectorizer* es una clase que nos ayuda a extraer el vocabulario de un conjunto de documentos, así como a generar representaciones dispersas de los documentos.\n",
        "\n",
        "Por ejemplo, si tenemos los siguientes documentos:\n",
        "\n",
        "$$\n",
        "\\begin{split}\n",
        "doc_0 & = abbc \\\\\n",
        "doc_1 & = bcd \\\\\n",
        "doc_2 & = ac \n",
        "\\end{split}\n",
        "$$\n",
        "\n",
        "Su matriz de representación sería:\n",
        "\n",
        "| Elemento del vocabulario | $doc_0$ | $doc_1$ |$doc_2$ |\n",
        "| --- | --- | --- | --- | \n",
        "| a | 1 | 0 | 1 | \n",
        "| b | 2 | 1 | 0 | \n",
        "| c | 1 | 1 | 0 | \n",
        "| d | 0 | 1 | 1 |\n",
        "\n",
        "La clase *CountVectorizer* nos ayuda a encontrar la matriz de representación convertida en vectores dispersos dados los documentos.\n"
      ]
    },
    {
      "cell_type": "code",
      "metadata": {
        "colab": {
          "base_uri": "https://localhost:8080/"
        },
        "id": "Hk9lV_ObLRiF",
        "outputId": "8909150a-95b2-4e39-f333-e2a3ab629f3f"
      },
      "source": [
        "documentos = spark.createDataFrame([(0, 'a,b,b,c'.split(',')),\n",
        "                                    (1, 'b,c,d'.split(',')),\n",
        "                                    (2, 'a,c'.split(','))],\n",
        "                                   ['id', 'palabras'])\n",
        "\n",
        "documentos.show()"
      ],
      "execution_count": 5,
      "outputs": [
        {
          "output_type": "stream",
          "name": "stdout",
          "text": [
            "+---+------------+\n",
            "| id|    palabras|\n",
            "+---+------------+\n",
            "|  0|[a, b, b, c]|\n",
            "|  1|   [b, c, d]|\n",
            "|  2|      [a, c]|\n",
            "+---+------------+\n",
            "\n"
          ]
        }
      ]
    },
    {
      "cell_type": "code",
      "metadata": {
        "colab": {
          "base_uri": "https://localhost:8080/"
        },
        "id": "l6gksLPgMl-7",
        "outputId": "e8a3e8c4-141e-4ce3-8695-77a51b711368"
      },
      "source": [
        "cv = CountVectorizer(inputCol  = 'palabras', \n",
        "                     outputCol = 'features', \n",
        "                     vocabSize = 6, \n",
        "                     minDF     = 1)\n",
        "\n",
        "modelo = cv.fit(documentos)\n",
        "mat_rep = modelo.transform(documentos)\n",
        "\n",
        "mat_rep.show(truncate = False)"
      ],
      "execution_count": 6,
      "outputs": [
        {
          "output_type": "stream",
          "name": "stdout",
          "text": [
            "+---+------------+-------------------------+\n",
            "|id |palabras    |features                 |\n",
            "+---+------------+-------------------------+\n",
            "|0  |[a, b, b, c]|(4,[0,1,2],[2.0,1.0,1.0])|\n",
            "|1  |[b, c, d]   |(4,[0,1,3],[1.0,1.0,1.0])|\n",
            "|2  |[a, c]      |(4,[1,2],[1.0,1.0])      |\n",
            "+---+------------+-------------------------+\n",
            "\n"
          ]
        }
      ]
    },
    {
      "cell_type": "markdown",
      "metadata": {
        "id": "bldXTbPruwn3"
      },
      "source": [
        "## Conjunto de datos\n",
        "Los datos que usaremos son de la serie Rick y Morty. Corresponden a transcripciones de los diálogos de los personajes. La base de datos cuenta con los siguientes campos:\n",
        "\n",
        "*   Indice (Identificador único del renglón en el conjunto de datos)\n",
        "*   Temporada\n",
        "*   Número de episodio\n",
        "*   Nombre del episodio\n",
        "*   Línea de diálogo\n",
        "\n",
        "\n",
        "\n"
      ]
    },
    {
      "cell_type": "markdown",
      "source": [
        "Descargamos el archivo `RickAndMortyScripts.csv` de [https://www.kaggle.com/datasets/andradaolteanu/rickmorty-scripts](https://www.kaggle.com/datasets/andradaolteanu/rickmorty-scripts) y los cargamos:"
      ],
      "metadata": {
        "id": "CKFqiZ78OjfB"
      }
    },
    {
      "cell_type": "code",
      "source": [
        "from google.colab import files\n",
        "uploaded = files.upload()"
      ],
      "metadata": {
        "colab": {
          "resources": {
            "http://localhost:8080/nbextensions/google.colab/files.js": {
              "data": "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",
              "ok": true,
              "headers": [
                [
                  "content-type",
                  "application/javascript"
                ]
              ],
              "status": 200,
              "status_text": ""
            }
          },
          "base_uri": "https://localhost:8080/",
          "height": 73
        },
        "id": "uI1NMfLJOiiA",
        "outputId": "1ae19007-8a8f-475f-93e6-b2a124ec0aec"
      },
      "execution_count": 7,
      "outputs": [
        {
          "output_type": "display_data",
          "data": {
            "text/plain": [
              "<IPython.core.display.HTML object>"
            ],
            "text/html": [
              "\n",
              "     <input type=\"file\" id=\"files-7b931bc5-328b-4517-92f6-c09bfaa946c0\" name=\"files[]\" multiple disabled\n",
              "        style=\"border:none\" />\n",
              "     <output id=\"result-7b931bc5-328b-4517-92f6-c09bfaa946c0\">\n",
              "      Upload widget is only available when the cell has been executed in the\n",
              "      current browser session. Please rerun this cell to enable.\n",
              "      </output>\n",
              "      <script src=\"/nbextensions/google.colab/files.js\"></script> "
            ]
          },
          "metadata": {}
        },
        {
          "output_type": "stream",
          "name": "stdout",
          "text": [
            "Saving RickAndMortyScripts.csv to RickAndMortyScripts.csv\n"
          ]
        }
      ]
    },
    {
      "cell_type": "markdown",
      "source": [
        "Cargamos los datos en un DataFrame de *PySpark*."
      ],
      "metadata": {
        "id": "iTKRzhbKO4Vc"
      }
    },
    {
      "cell_type": "code",
      "metadata": {
        "id": "GoHdGpZcr3nX"
      },
      "source": [
        "df_rym = spark.read.csv('/content/RickAndMortyScripts.csv', header = True, inferSchema = True)"
      ],
      "execution_count": 8,
      "outputs": []
    },
    {
      "cell_type": "markdown",
      "metadata": {
        "id": "Tn09O58_xOEh"
      },
      "source": [
        "Verificamos que los datos se cargaron correctamente.\n",
        "\n",
        "\n"
      ]
    },
    {
      "cell_type": "code",
      "metadata": {
        "colab": {
          "base_uri": "https://localhost:8080/"
        },
        "id": "_hBQ3W07r1DW",
        "outputId": "a29ed314-0c9c-4572-a74b-5cf9ee8fd575"
      },
      "source": [
        "df_rym.printSchema()"
      ],
      "execution_count": 9,
      "outputs": [
        {
          "output_type": "stream",
          "name": "stdout",
          "text": [
            "root\n",
            " |-- index: integer (nullable = true)\n",
            " |-- season no.: integer (nullable = true)\n",
            " |-- episode no.: integer (nullable = true)\n",
            " |-- episode name: string (nullable = true)\n",
            " |-- name: string (nullable = true)\n",
            " |-- line: string (nullable = true)\n",
            "\n"
          ]
        }
      ]
    },
    {
      "cell_type": "markdown",
      "metadata": {
        "id": "u1ZKCp6pyu3N"
      },
      "source": [
        "Imprimos una muestra de los datos"
      ]
    },
    {
      "cell_type": "code",
      "metadata": {
        "colab": {
          "base_uri": "https://localhost:8080/"
        },
        "id": "y3S7OvjBsEI4",
        "outputId": "19e9c201-748d-4588-8f52-b16ddd4ea7e1"
      },
      "source": [
        "df_rym.show(5)"
      ],
      "execution_count": 10,
      "outputs": [
        {
          "output_type": "stream",
          "name": "stdout",
          "text": [
            "+-----+----------+-----------+------------+-----+--------------------+\n",
            "|index|season no.|episode no.|episode name| name|                line|\n",
            "+-----+----------+-----------+------------+-----+--------------------+\n",
            "|    0|         1|          1|       Pilot| Rick|Morty! You gotta ...|\n",
            "|    1|         1|          1|       Pilot|Morty|What, Rick? What’...|\n",
            "|    2|         1|          1|       Pilot| Rick|I got a surprise ...|\n",
            "|    3|         1|          1|       Pilot|Morty|It's the middle o...|\n",
            "|    4|         1|          1|       Pilot| Rick|Come on, I got a ...|\n",
            "+-----+----------+-----------+------------+-----+--------------------+\n",
            "only showing top 5 rows\n",
            "\n"
          ]
        }
      ]
    },
    {
      "cell_type": "code",
      "metadata": {
        "colab": {
          "base_uri": "https://localhost:8080/"
        },
        "id": "kcyml1wLsHZv",
        "outputId": "57c1fb07-f8a2-4a9e-c80d-de7e1dfe5f5b"
      },
      "source": [
        "df_rym.printSchema()"
      ],
      "execution_count": 11,
      "outputs": [
        {
          "output_type": "stream",
          "name": "stdout",
          "text": [
            "root\n",
            " |-- index: integer (nullable = true)\n",
            " |-- season no.: integer (nullable = true)\n",
            " |-- episode no.: integer (nullable = true)\n",
            " |-- episode name: string (nullable = true)\n",
            " |-- name: string (nullable = true)\n",
            " |-- line: string (nullable = true)\n",
            "\n"
          ]
        }
      ]
    },
    {
      "cell_type": "markdown",
      "metadata": {
        "id": "1i7c7oAr36vU"
      },
      "source": [
        "Para fines del análisis que llevaremos a cabo, solo consideraremos las columnas de nombre y dialogo del personaje."
      ]
    },
    {
      "cell_type": "code",
      "metadata": {
        "colab": {
          "base_uri": "https://localhost:8080/"
        },
        "id": "McjnvcJs4csv",
        "outputId": "04a743b6-5b42-44d9-fa33-c3a69f5f20a5"
      },
      "source": [
        "df_rym = df_rym.select('index', 'name', 'line')\n",
        "df_rym.show(5)"
      ],
      "execution_count": 12,
      "outputs": [
        {
          "output_type": "stream",
          "name": "stdout",
          "text": [
            "+-----+-----+--------------------+\n",
            "|index| name|                line|\n",
            "+-----+-----+--------------------+\n",
            "|    0| Rick|Morty! You gotta ...|\n",
            "|    1|Morty|What, Rick? What’...|\n",
            "|    2| Rick|I got a surprise ...|\n",
            "|    3|Morty|It's the middle o...|\n",
            "|    4| Rick|Come on, I got a ...|\n",
            "+-----+-----+--------------------+\n",
            "only showing top 5 rows\n",
            "\n"
          ]
        }
      ]
    },
    {
      "cell_type": "markdown",
      "metadata": {
        "id": "CgZArOLo7dnk"
      },
      "source": [
        "Para hacer más simple el analisis solo consideraremos los dialogos de los personajes principales."
      ]
    },
    {
      "cell_type": "code",
      "metadata": {
        "id": "4ZmxvAuL8FoI"
      },
      "source": [
        "personajes_principales = ['Rick', 'Morty', 'Beth', 'Jerry', 'Summer']\n",
        "df_rym = df_rym.where(df_rym.name.isin(personajes_principales))"
      ],
      "execution_count": 13,
      "outputs": []
    },
    {
      "cell_type": "markdown",
      "metadata": {
        "id": "DVg1SOpq5IJh"
      },
      "source": [
        "Revisemos la distribución de diálogos de los personajes que tienen más diálogos."
      ]
    },
    {
      "cell_type": "code",
      "metadata": {
        "colab": {
          "base_uri": "https://localhost:8080/",
          "height": 279
        },
        "id": "KUjO8xVM4qwK",
        "outputId": "fe9ea0a8-c395-4da4-e729-4ed77690cd48"
      },
      "source": [
        "df_dist_dialog = df_rym.groupBy('name') \\\n",
        "                       .count() \\\n",
        "                       .toPandas()\n",
        "\n",
        "sns.barplot( x    = 'name', \n",
        "             y    = 'count', \n",
        "             data = df_dist_dialog)\n",
        "plt.show()"
      ],
      "execution_count": 14,
      "outputs": [
        {
          "output_type": "display_data",
          "data": {
            "text/plain": [
              "<Figure size 432x288 with 1 Axes>"
            ],
            "image/png": "[encoded data removed]"
          },
          "metadata": {
            "needs_background": "light"
          }
        }
      ]
    },
    {
      "cell_type": "markdown",
      "metadata": {
        "id": "z15xESOx-_ED"
      },
      "source": [
        "Preprocesamos los documentos del conjunto."
      ]
    },
    {
      "cell_type": "code",
      "metadata": {
        "colab": {
          "base_uri": "https://localhost:8080/"
        },
        "id": "YRexm8Pa62g4",
        "outputId": "04bc0462-16dc-4e07-e313-ce26fb50f835"
      },
      "source": [
        "df_rym.limit(3) \\\n",
        "      .toPandas() \\\n",
        "      .loc[0:3, 'line']"
      ],
      "execution_count": 15,
      "outputs": [
        {
          "output_type": "execute_result",
          "data": {
            "text/plain": [
              "0    Morty! You gotta come on. Jus'... you gotta co...\n",
              "1                         What, Rick? What’s going on?\n",
              "2                     I got a surprise for you, Morty.\n",
              "Name: line, dtype: object"
            ]
          },
          "metadata": {},
          "execution_count": 15
        }
      ]
    },
    {
      "cell_type": "markdown",
      "metadata": {
        "id": "5sEIlpFRHxBf"
      },
      "source": [
        "Convertimos a minúsculas.\n",
        "\n"
      ]
    },
    {
      "cell_type": "code",
      "metadata": {
        "colab": {
          "base_uri": "https://localhost:8080/"
        },
        "id": "7fRMP8-OHdlZ",
        "outputId": "e51a4134-9c6b-4264-d1eb-200aed3764d4"
      },
      "source": [
        "df_rym = df_rym.rdd \\\n",
        "               .map(lambda x: (x[0], x[1], x[2].lower())) \\\n",
        "               .toDF(['id', 'nombre', 'dialog']) \n",
        "\n",
        "df_rym.limit(3) \\\n",
        "      .toPandas() \\\n",
        "      .loc[0:3,'dialog']"
      ],
      "execution_count": 16,
      "outputs": [
        {
          "output_type": "execute_result",
          "data": {
            "text/plain": [
              "0    morty! you gotta come on. jus'... you gotta co...\n",
              "1                         what, rick? what’s going on?\n",
              "2                     i got a surprise for you, morty.\n",
              "Name: dialog, dtype: object"
            ]
          },
          "metadata": {},
          "execution_count": 16
        }
      ]
    },
    {
      "cell_type": "markdown",
      "metadata": {
        "id": "A-VVx9CwKh1v"
      },
      "source": [
        "Eliminamos signos de puntuación."
      ]
    },
    {
      "cell_type": "code",
      "metadata": {
        "colab": {
          "base_uri": "https://localhost:8080/"
        },
        "id": "6UrkqqT_KbTB",
        "outputId": "a0020fa8-546b-4e26-d8c0-759d5f4dafa7"
      },
      "source": [
        "df_rym = df_rym.rdd \\\n",
        "           .map(lambda x: (x[0], x[1], x[2].translate(str.maketrans('', '', string.punctuation)))) \\\n",
        "           .toDF(['id', 'nombre', 'dialog']) \n",
        "\n",
        "df_rym.limit(3) \\\n",
        "      .toPandas() \\\n",
        "      .loc[0:3,'dialog']"
      ],
      "execution_count": 17,
      "outputs": [
        {
          "output_type": "execute_result",
          "data": {
            "text/plain": [
              "0    morty you gotta come on jus you gotta come wit...\n",
              "1                            what rick what’s going on\n",
              "2                       i got a surprise for you morty\n",
              "Name: dialog, dtype: object"
            ]
          },
          "metadata": {},
          "execution_count": 17
        }
      ]
    },
    {
      "cell_type": "markdown",
      "metadata": {
        "id": "Wx-kCgBaWEm8"
      },
      "source": [
        "Quitamos _stopwords_"
      ]
    },
    {
      "cell_type": "code",
      "metadata": {
        "id": "vCXpUOZhXpS9",
        "colab": {
          "base_uri": "https://localhost:8080/"
        },
        "outputId": "01fc78fc-eea7-4877-c4b0-389cb0cd6a5f"
      },
      "source": [
        "palabras_vacias = nltk.corpus.stopwords.words('english')\n",
        "\n",
        "def quita_palabras_vacias(texto):\n",
        "  texto_limpio = [ palabra for palabra in texto if palabra not in palabras_vacias ]\n",
        "  return texto_limpio\n",
        "\n",
        "df_rym = df_rym.rdd \\\n",
        "           .map(lambda x: (x[0], x[1], x[2].split(' '))) \\\n",
        "           .map(lambda x: (x[0], x[1], quita_palabras_vacias(x[2]))) \\\n",
        "           .toDF(['id', 'nombre', 'dialog']) \\\n",
        "           .filter(size('dialog') > 0) # Elimina texto vacio\n",
        "\n",
        "df_rym.limit(7) \\\n",
        "      .toPandas() \\\n",
        "      .loc[0:7,'dialog']"
      ],
      "execution_count": 18,
      "outputs": [
        {
          "output_type": "execute_result",
          "data": {
            "text/plain": [
              "0               [morty, gotta, come, jus, gotta, come]\n",
              "1                                [rick, what’s, going]\n",
              "2                               [got, surprise, morty]\n",
              "3                             [middle, night, talking]\n",
              "4                 [come, got, surprise, , come, hurry]\n",
              "5                       [ow, ow, youre, tugging, hard]\n",
              "6    [gotta, go, gotta, get, outta, come, got, surp...\n",
              "Name: dialog, dtype: object"
            ]
          },
          "metadata": {},
          "execution_count": 18
        }
      ]
    },
    {
      "cell_type": "markdown",
      "metadata": {
        "id": "9jZNlc1ub3Z7"
      },
      "source": [
        "Ahora necesitamos representar los datos como una matriz de representación, la cual nos dice qué elementos del vocabulario aparecen en cada elemento del conjunto de datos.\n",
        "\n",
        "| Elemento del vocabulario | $S_1$ | $S_2$ |$S_3$ | $S_4$ |\n",
        "| --- | --- | --- | --- | --- |\n",
        "| palabra 1 | 1 | 1 | 1 | 0 |\n",
        "| palabra 2 | 0 | 1 | 1 | 0 |\n",
        "| palabra 3 | 0 | 1 | 0 | 1 |\n",
        "| palabra 4 | 1 | 1 | 0 | 0 |\n",
        "| palabra 5 | 1 | 1 | 0 | 0 |\n",
        "| palabra 6 | 0 | 0 | 1 | 1 |\n",
        "\n",
        "Esto lo logramos usando la clase `CountVectorizerModel`\n",
        "\n"
      ]
    },
    {
      "cell_type": "code",
      "metadata": {
        "id": "qb7cxQndamdZ"
      },
      "source": [
        "cv = CountVectorizer(inputCol  = 'dialog', \n",
        "                     outputCol = 'features',\n",
        "                     binary    = True, \n",
        "                     vocabSize = 3000, \n",
        "                     minDF     = 1)    "
      ],
      "execution_count": 19,
      "outputs": []
    },
    {
      "cell_type": "markdown",
      "metadata": {
        "id": "WeePPuLEl3Ki"
      },
      "source": [
        "La forma de calcular la matriz de representacion es la siguiente:"
      ]
    },
    {
      "cell_type": "code",
      "metadata": {
        "colab": {
          "base_uri": "https://localhost:8080/"
        },
        "id": "-6BfnYO4ejpi",
        "outputId": "44d7680e-d822-45da-96a0-5945109734d3"
      },
      "source": [
        "matriz_representacion = cv.fit(df_rym)\n",
        "df_rym_mr = matriz_representacion.transform(df_rym)\n",
        "df_rym_mr.show(10)"
      ],
      "execution_count": 20,
      "outputs": [
        {
          "output_type": "stream",
          "name": "stdout",
          "text": [
            "+---+------+--------------------+--------------------+\n",
            "| id|nombre|              dialog|            features|\n",
            "+---+------+--------------------+--------------------+\n",
            "|  0|  Rick|[morty, gotta, co...|(2442,[0,24,101,1...|\n",
            "|  1| Morty|[rick, what’s, go...|(2442,[3,40,353],...|\n",
            "|  2|  Rick|[got, surprise, m...|(2442,[0,17,325],...|\n",
            "|  3| Morty|[middle, night, t...|(2442,[65,113,116...|\n",
            "|  4|  Rick|[come, got, surpr...|(2442,[1,17,24,32...|\n",
            "|  5| Morty|[ow, ow, youre, t...|(2442,[7,171,570,...|\n",
            "|  6|  Rick|[gotta, go, gotta...|(2442,[0,5,12,17,...|\n",
            "|  7|  Rick|[think, flying, v...|(2442,[0,20,110,3...|\n",
            "|  8| Morty|[yeah, rick, iits...|(2442,[3,14,129,3...|\n",
            "|  9|  Rick|[morty, had—, to—...|(2442,[0,44,198,6...|\n",
            "+---+------+--------------------+--------------------+\n",
            "only showing top 10 rows\n",
            "\n"
          ]
        }
      ]
    },
    {
      "cell_type": "markdown",
      "metadata": {
        "id": "AAYBW6xvmOdr"
      },
      "source": [
        "## Minhash y distancia de Jaccard\n",
        "\n",
        "Para crear un modelo basado en Minhashing hacemos lo siguiente:\n"
      ]
    },
    {
      "cell_type": "code",
      "metadata": {
        "id": "cN0Bz_t0hSyq"
      },
      "source": [
        "minhash = MinHashLSH(inputCol      = 'features', \n",
        "                     outputCol     = 'hashes', \n",
        "                     numHashTables = 100)\n",
        "\n",
        "modelo_mh = minhash.fit(df_rym_mr)"
      ],
      "execution_count": 21,
      "outputs": []
    },
    {
      "cell_type": "markdown",
      "metadata": {
        "id": "fEX94jp2p--H"
      },
      "source": [
        "Podemos mostrar cómo se ve la *signature matrix* creada a partir de la matriz de representación."
      ]
    },
    {
      "cell_type": "code",
      "metadata": {
        "colab": {
          "base_uri": "https://localhost:8080/"
        },
        "id": "DBFh0G6zp9RD",
        "outputId": "d54d5e66-9d8e-4549-dfff-1e88c652a80a"
      },
      "source": [
        "df_rym_mh = modelo_mh.transform(df_rym_mr) \n",
        "\n",
        "\n",
        "df_rym_mh.limit(10) \\\n",
        "         .show()"
      ],
      "execution_count": 22,
      "outputs": [
        {
          "output_type": "stream",
          "name": "stdout",
          "text": [
            "+---+------+--------------------+--------------------+--------------------+\n",
            "| id|nombre|              dialog|            features|              hashes|\n",
            "+---+------+--------------------+--------------------+--------------------+\n",
            "|  0|  Rick|[morty, gotta, co...|(2442,[0,24,101,1...|[[2.2358881E7], [...|\n",
            "|  1| Morty|[rick, what’s, go...|(2442,[3,40,353],...|[[4.9935533E7], [...|\n",
            "|  2|  Rick|[got, surprise, m...|(2442,[0,17,325],...|[[8.02311407E8], ...|\n",
            "|  3| Morty|[middle, night, t...|(2442,[65,113,116...|[[9.72454295E8], ...|\n",
            "|  4|  Rick|[come, got, surpr...|(2442,[1,17,24,32...|[[2.2358881E7], [...|\n",
            "|  5| Morty|[ow, ow, youre, t...|(2442,[7,171,570,...|[[1.69608093E8], ...|\n",
            "|  6|  Rick|[gotta, go, gotta...|(2442,[0,5,12,17,...|[[2.2358881E7], [...|\n",
            "|  7|  Rick|[think, flying, v...|(2442,[0,20,110,3...|[[1.76892504E8], ...|\n",
            "|  8| Morty|[yeah, rick, iits...|(2442,[3,14,129,3...|[[3.24141716E8], ...|\n",
            "|  9|  Rick|[morty, had—, to—...|(2442,[0,44,198,6...|[[4.33407881E8], ...|\n",
            "+---+------+--------------------+--------------------+--------------------+\n",
            "\n"
          ]
        }
      ]
    },
    {
      "cell_type": "markdown",
      "metadata": {
        "id": "51fVzzOZ9D9i"
      },
      "source": [
        "Podemos calcular las distancias entre los elementos de dos _dataframes_."
      ]
    },
    {
      "cell_type": "code",
      "metadata": {
        "colab": {
          "base_uri": "https://localhost:8080/"
        },
        "id": "saMr5CfJ0tRn",
        "outputId": "da334611-f70c-4c19-badf-f6b2bb60ed51"
      },
      "source": [
        "similaridad_entre_lineas = modelo_mh.approxSimilarityJoin(datasetA  = df_rym_mh,  \n",
        "                                                      datasetB  = df_rym_mh, \n",
        "                                                      threshold = 0.5, \n",
        "                                                      distCol   = 'dist_jaccard') \\\n",
        "                                    .select(col('datasetA.nombre').alias('nombre_1'), \n",
        "                                        col('datasetB.nombre').alias('nombre_2'), \n",
        "                                        col('dist_jaccard')) \\\n",
        "                                    .where(col('dist_jaccard') > 0) # Quitamos las que son iguales\n",
        "\n",
        "similaridad_entre_lineas.show(4)      "
      ],
      "execution_count": 23,
      "outputs": [
        {
          "output_type": "stream",
          "name": "stderr",
          "text": [
            "/usr/local/lib/python3.7/dist-packages/pyspark/sql/context.py:127: FutureWarning: Deprecated in 3.0.0. Use SparkSession.builder.getOrCreate() instead.\n",
            "  FutureWarning\n"
          ]
        },
        {
          "output_type": "stream",
          "name": "stdout",
          "text": [
            "+--------+--------+-------------------+\n",
            "|nombre_1|nombre_2|       dist_jaccard|\n",
            "+--------+--------+-------------------+\n",
            "|   Morty|   Morty|0.33333333333333337|\n",
            "|   Morty|   Morty|0.33333333333333337|\n",
            "|  Summer|   Morty|0.33333333333333337|\n",
            "|   Jerry|   Morty|0.33333333333333337|\n",
            "+--------+--------+-------------------+\n",
            "only showing top 4 rows\n",
            "\n"
          ]
        }
      ]
    },
    {
      "cell_type": "markdown",
      "metadata": {
        "id": "BAIQjZJt7Ism"
      },
      "source": [
        "Veamos en cuántas pudimos identificar los diálogos por personaje"
      ]
    },
    {
      "cell_type": "code",
      "metadata": {
        "colab": {
          "base_uri": "https://localhost:8080/",
          "height": 279
        },
        "id": "xtMZPdqd7jQ-",
        "outputId": "1a53954e-ef03-44a6-d7ef-1e99edf5a1c4"
      },
      "source": [
        "coincidencias = similaridad_entre_lineas.withColumn('coinciden', \n",
        "                                                    col('nombre_1') == col('nombre_2')) \\\n",
        "                                        .groupBy('coinciden') \\\n",
        "                                        .count() \\\n",
        "                                        .toPandas()\n",
        "\n",
        "sns.barplot( x    = 'coinciden', \n",
        "             y    = 'count', \n",
        "             data = coincidencias)\n",
        "plt.show()"
      ],
      "execution_count": 24,
      "outputs": [
        {
          "output_type": "display_data",
          "data": {
            "text/plain": [
              "<Figure size 432x288 with 1 Axes>"
            ],
            "image/png": "[encoded data removed]"
          },
          "metadata": {
            "needs_background": "light"
          }
        }
      ]
    },
    {
      "cell_type": "markdown",
      "metadata": {
        "id": "6JJ4T4jB92bF"
      },
      "source": [
        "Calculamos los elementos más cercanos a un elemento dado y extraemos una línea correspondinete a Morty."
      ]
    },
    {
      "cell_type": "code",
      "metadata": {
        "colab": {
          "base_uri": "https://localhost:8080/"
        },
        "id": "io11ocUI7jId",
        "outputId": "7cad703a-1be1-4589-e9db-602240c9bfc2"
      },
      "source": [
        "[renglon] = df_rym_mr.where(df_rym_mr.id == 170).collect()\n",
        "print(renglon)\n",
        "linea = renglon[3]\n",
        "print(linea)"
      ],
      "execution_count": 25,
      "outputs": [
        {
          "output_type": "stream",
          "name": "stdout",
          "text": [
            "Row(id=170, nombre='Morty', dialog=['oh', 'geez', 'rick', 'really', 'dont', 'want'], features=SparseVector(2442, {2: 1.0, 3: 1.0, 9: 1.0, 18: 1.0, 33: 1.0, 64: 1.0}))\n",
            "(2442,[2,3,9,18,33,64],[1.0,1.0,1.0,1.0,1.0,1.0])\n"
          ]
        }
      ]
    },
    {
      "cell_type": "markdown",
      "metadata": {
        "id": "-p1eREAM-TRz"
      },
      "source": [
        "Buscamos los $k$ elementos más cercanos"
      ]
    },
    {
      "cell_type": "code",
      "metadata": {
        "id": "NT8VvVKc7i_b",
        "colab": {
          "base_uri": "https://localhost:8080/"
        },
        "outputId": "5187a7c4-01e3-43d3-f66c-f52cfe788aea"
      },
      "source": [
        "vecinos_cercanos = modelo_mh.approxNearestNeighbors(dataset             = df_rym_mh, \n",
        "                                                    key                 = linea, \n",
        "                                                    numNearestNeighbors = 50, \n",
        "                                                    distCol             = 'dist_jaccard') \\\n",
        "                            .where(col('dist_jaccard') > 0) # Quitamos la línea repetida"
      ],
      "execution_count": 26,
      "outputs": [
        {
          "output_type": "stream",
          "name": "stderr",
          "text": [
            "/usr/local/lib/python3.7/dist-packages/pyspark/sql/context.py:127: FutureWarning: Deprecated in 3.0.0. Use SparkSession.builder.getOrCreate() instead.\n",
            "  FutureWarning\n"
          ]
        }
      ]
    },
    {
      "cell_type": "markdown",
      "metadata": {
        "id": "zBXx3Po5_2-y"
      },
      "source": [
        "Veamos cuántas líneas corresponden a cada personaje"
      ]
    },
    {
      "cell_type": "code",
      "metadata": {
        "id": "X_md6l0R_1tw"
      },
      "source": [
        "vecinos_cercanos_hist = vecinos_cercanos.groupby('nombre') \\\n",
        "                                        .count() \\\n",
        "                                        .toPandas()"
      ],
      "execution_count": 27,
      "outputs": []
    },
    {
      "cell_type": "markdown",
      "metadata": {
        "id": "Tz6WiKB1_g3o"
      },
      "source": [
        "Visualicemos los resultados"
      ]
    },
    {
      "cell_type": "code",
      "metadata": {
        "colab": {
          "base_uri": "https://localhost:8080/",
          "height": 279
        },
        "id": "IseGwuhLq-oc",
        "outputId": "88686e50-d328-4c6d-863d-34ea282c39c3"
      },
      "source": [
        "sns.barplot( x    = 'nombre', \n",
        "             y    = 'count', \n",
        "             data = vecinos_cercanos_hist)\n",
        "plt.show()"
      ],
      "execution_count": 28,
      "outputs": [
        {
          "output_type": "display_data",
          "data": {
            "text/plain": [
              "<Figure size 432x288 with 1 Axes>"
            ],
            "image/png": "[encoded data removed]"
          },
          "metadata": {
            "needs_background": "light"
          }
        }
      ]
    }
  ]
}